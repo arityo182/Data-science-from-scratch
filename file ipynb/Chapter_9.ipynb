{
 "cells": [
  {
   "cell_type": "code",
   "execution_count": 1,
   "metadata": {},
   "outputs": [],
   "source": [
    "import sys, re\n",
    "\n",
    "# sys.argv is the list of command-lne argument\n",
    "# sys.argv[0] is the name of the program itself\n",
    "# sys.argv[1] will be the regex specified a the command line\n",
    "\n",
    "def egrep(regex, line):\n",
    "    regex = sys.argv[1]\n",
    "\n",
    "    # for every line passed into the script\n",
    "    for line in sys.stdin:\n",
    "        # if it mathes the regex, write it to stdout\n",
    "        if re.search(regex, line):\n",
    "            sys.stdout.write(line)"
   ]
  },
  {
   "cell_type": "code",
   "execution_count": 2,
   "metadata": {},
   "outputs": [],
   "source": [
    "def line_count():\n",
    "\n",
    "    count = 0\n",
    "    for line in sys.stdin:\n",
    "        count += 1\n",
    "\n",
    "    # Print goes to sys.stdout\n",
    "    print(count)"
   ]
  },
  {
   "cell_type": "code",
   "execution_count": 3,
   "metadata": {},
   "outputs": [],
   "source": [
    "with open('SomeFile.txt', 'w') as fp:\n",
    "    fp.write(\"\"\"date:symbol:closing_price\n",
    "6/20/2014:AAPL:90.91\n",
    "6/20/2014:MSFT:41.68\n",
    "6/20/2014:FB:64.5\"\"\")"
   ]
  },
  {
   "cell_type": "code",
   "execution_count": 4,
   "metadata": {},
   "outputs": [
    {
     "name": "stdout",
     "output_type": "stream",
     "text": [
      "gmail.com\n",
      "m.datascience.com\n",
      "m.datascience.com\n"
     ]
    }
   ],
   "source": [
    "# Just stick some data there\n",
    "\n",
    "with open('email_addresses.txt', 'w') as f:\n",
    "    f.write(\"ari.tyo52@gmail.com\\n\")\n",
    "    f.write(\"ari.tyo@m.datascience.com\\n\")\n",
    "    f.write(\"ari@m.datascience.com\\n\")\n",
    "\n",
    "def get_domain(email_address: str) -> str:\n",
    "    \"\"\"Split on '@' and return the last piece\"\"\"\n",
    "    return email_address.lower().split(\"@\")[-1]\n",
    "\n",
    "with open(\"email_addresses.txt\", 'r') as f:\n",
    "    # print(f.read())\n",
    "    x = f.read().splitlines()\n",
    "    for line in x:\n",
    "        print(get_domain(line))"
   ]
  },
  {
   "cell_type": "code",
   "execution_count": 5,
   "metadata": {},
   "outputs": [
    {
     "name": "stdout",
     "output_type": "stream",
     "text": [
      "Counter({'m.datascience.com': 2, 'gmail.com': 1})\n"
     ]
    }
   ],
   "source": [
    "from collections import Counter\n",
    "\n",
    "with open('email_addresses.txt', 'r') as f:\n",
    "    \"\"\"Check line count and domain counts\"\"\"\n",
    "    # count_line = len(f.readlines())\n",
    "    domain_counts = Counter(get_domain(line.strip()) for line in f if \"@\" in line)\n",
    "    # print(count_line)\n",
    "    print(domain_counts)"
   ]
  },
  {
   "cell_type": "code",
   "execution_count": 6,
   "metadata": {},
   "outputs": [],
   "source": [
    "with open(\"tab_delimeted_stock_prices.txt\", \"w\") as f:\n",
    "    \"\"\"make text file\"\"\"\n",
    "    f.write(\"\"\"6/20/2014\\tAAPL\\t90.91\n",
    "6/20/2014\\tMSFT\\t41.68\n",
    "6/20/2014\\tFB\\t64.5\n",
    "6/19/2014\\tAAPL\\t91.86\n",
    "6/19/2014\\tMSFT\\t41.51\n",
    "6/19/2014\\tFB\\t64.34\n",
    "\"\"\")\n"
   ]
  },
  {
   "cell_type": "code",
   "execution_count": 7,
   "metadata": {},
   "outputs": [],
   "source": [
    "import csv\n",
    "\n",
    "def process(date: str, symbol: str, closing_price: float) -> None:\n",
    "    # Imagine that this function actually does something\n",
    "    assert closing_price > 0.0\n",
    "\n",
    "with open('tab_delimeted_stock_prices.txt') as f:\n",
    "    tab_reader = csv.reader(f, delimiter='\\t')\n",
    "    for row in tab_reader:\n",
    "        date = row[0]\n",
    "        symbol = row[1]\n",
    "        closing_price = float(row[2])\n",
    "        process(date, symbol, closing_price)"
   ]
  },
  {
   "cell_type": "code",
   "execution_count": 8,
   "metadata": {},
   "outputs": [],
   "source": [
    "with open('colon_delimited_stock_prices.txt', 'w') as f:\n",
    "    f.write(\"\"\"date:symbol:closing_price\n",
    "6/20/2014:AAPL:90.91\n",
    "6/20/2014:MSFT:41.68\n",
    "6/20/2014:FB:64.5\n",
    "\"\"\")\n",
    "\n",
    "with open('colon_delimited_stock_prices.txt') as f:\n",
    "    colon_reader = csv.DictReader(f, delimiter=':')\n",
    "    for dict_row in colon_reader:\n",
    "        date = dict_row[\"date\"]\n",
    "        symbol = dict_row[\"symbol\"]\n",
    "        closing_price = float(dict_row[\"closing_price\"])\n",
    "        process(date, symbol, closing_price)"
   ]
  },
  {
   "cell_type": "code",
   "execution_count": 9,
   "metadata": {},
   "outputs": [],
   "source": [
    "todays_prices = {'AAPL': 90.91, 'MSFT': 41.68, 'FB': 64.5 }\n",
    "\n",
    "with open('comma_delimited_stock_prices.txt', 'w') as f:\n",
    "    csv_writer = csv.writer(f, delimiter=',')\n",
    "    for stock, price in todays_prices.items():\n",
    "        csv_writer.writerow([stock, price])"
   ]
  },
  {
   "cell_type": "code",
   "execution_count": 10,
   "metadata": {},
   "outputs": [],
   "source": [
    "results = [[\"test1\", \"success\", \"Monday\"],\n",
    "           [\"test2\", \"success, kind of\", \"Tuesday\"],\n",
    "           [\"test3\", \"failure, kind of\", \"Wednesday\"],\n",
    "           [\"test4\", \"failure, utter\", \"Thursday\"]]\n",
    "\n",
    "# don't do this!\n",
    "with open('bad_csv.txt', 'w') as f:\n",
    "    for row in results:\n",
    "        f.write(\",\".join(map(str, row))) # might have too many commas in it!\n",
    "        f.write(\"\\n\")                    # row might have newlines as well!\n"
   ]
  },
  {
   "cell_type": "code",
   "execution_count": 11,
   "metadata": {},
   "outputs": [
    {
     "name": "stdout",
     "output_type": "stream",
     "text": [
      "<!DOCTYPE html>\n",
      "<html lang=\"en-US\"><head>\n",
      "    <title>Getting Data</title>\n",
      "    <meta charset=\"utf-8\"/>\n",
      "</head>\n",
      "<body>\n",
      "    <h1>Getting Data</h1>\n",
      "    <div class=\"explanation\">\n",
      "        This is an explanation.\n",
      "    </div>\n",
      "    <div class=\"comment\">\n",
      "        This is a comment.\n",
      "    </div>\n",
      "    <div class=\"content\">\n",
      "        <p id=\"p1\">This is the first paragraph.</p>\n",
      "        <p class=\"important\">This is the second paragraph.</p>\n",
      "    </div>\n",
      "    <div class=\"signature\">\n",
      "        <span id=\"name\">Joel</span>\n",
      "        <span id=\"twitter\">@joelgrus</span>\n",
      "        <span id=\"email\">joelgrus-at-gmail</span>\n",
      "    </div>\n",
      "\n",
      "\n",
      "</body></html>\n"
     ]
    }
   ],
   "source": [
    "from bs4 import BeautifulSoup\n",
    "import requests\n",
    "\n",
    "# I put the relevant HTML file on Github. In order to fit\n",
    "# the URL in the book I had to split it across tho lines.\n",
    "# Recall that whitespace-separated strings get concatenated.\n",
    "\n",
    "url = (\"https://raw.githubusercontent.com/joelgrus/data/master/getting-data.html\")\n",
    "html = requests.get(url).text\n",
    "soup = BeautifulSoup(html, 'html5lib')\n",
    "\n",
    "print(soup)"
   ]
  },
  {
   "cell_type": "code",
   "execution_count": 12,
   "metadata": {},
   "outputs": [
    {
     "name": "stdout",
     "output_type": "stream",
     "text": [
      "<p id=\"p1\">This is the first paragraph.</p>\n",
      "This is the first paragraph.\n",
      "['This', 'is', 'the', 'first', 'paragraph.']\n"
     ]
    }
   ],
   "source": [
    "first_paragraph = soup.find('p')\n",
    "first_paragraph_text = soup.p.text\n",
    "first_paragraph_words = soup.p.text.split()\n",
    "print(first_paragraph)\n",
    "print(first_paragraph_text)\n",
    "print(first_paragraph_words)\n"
   ]
  },
  {
   "cell_type": "code",
   "execution_count": 13,
   "metadata": {},
   "outputs": [
    {
     "name": "stdout",
     "output_type": "stream",
     "text": [
      "p1\n",
      "p1\n"
     ]
    }
   ],
   "source": [
    "first_paragraph_id = soup.p['id']           # raises keyError if no 'id'\n",
    "first_paragraph_id2 = soup.p.get('id')      # returns None if no 'id'\n",
    "\n",
    "print(first_paragraph_id)\n",
    "print(first_paragraph_id2)"
   ]
  },
  {
   "cell_type": "code",
   "execution_count": 14,
   "metadata": {},
   "outputs": [
    {
     "name": "stdout",
     "output_type": "stream",
     "text": [
      "[<p id=\"p1\">This is the first paragraph.</p>, <p class=\"important\">This is the second paragraph.</p>]\n",
      "[<p id=\"p1\">This is the first paragraph.</p>]\n"
     ]
    }
   ],
   "source": [
    "all_paragraphs = soup.find_all('p')         # or just soup('p)\n",
    "paragraph_with_ids = [p for p in soup('p') if p.get('id')]\n",
    "\n",
    "print(all_paragraphs)\n",
    "print(paragraph_with_ids)"
   ]
  },
  {
   "cell_type": "code",
   "execution_count": 15,
   "metadata": {},
   "outputs": [
    {
     "name": "stdout",
     "output_type": "stream",
     "text": [
      "[<p class=\"important\">This is the second paragraph.</p>]\n",
      "[<p class=\"important\">This is the second paragraph.</p>]\n",
      "[<p class=\"important\">This is the second paragraph.</p>]\n"
     ]
    }
   ],
   "source": [
    "important_paragraphs = soup('p', {\"class\": \"important\"})\n",
    "important_paragraphs2 = soup('p', 'important')\n",
    "important_paragraphs3 = [p for p in soup('p') if 'important' in p.get('class', [])]\n",
    "\n",
    "print(important_paragraphs)\n",
    "print(important_paragraphs2)\n",
    "print(important_paragraphs3)"
   ]
  },
  {
   "cell_type": "code",
   "execution_count": 16,
   "metadata": {},
   "outputs": [
    {
     "name": "stdout",
     "output_type": "stream",
     "text": [
      "[<span id=\"name\">Joel</span>, <span id=\"twitter\">@joelgrus</span>, <span id=\"email\">joelgrus-at-gmail</span>]\n"
     ]
    }
   ],
   "source": [
    "# Warning: will returns the same <span> multiple times\n",
    "# if it sits inside multiple <div> s\n",
    "# Be more clever if that's the case\n",
    "\n",
    "# for each <div> on the page\n",
    "# find each <span> inside it\n",
    "spans_inside_divs = [span for div in soup('div') for span in div('span')]\n",
    "print(spans_inside_divs)"
   ]
  },
  {
   "cell_type": "code",
   "execution_count": 17,
   "metadata": {},
   "outputs": [
    {
     "name": "stdout",
     "output_type": "stream",
     "text": [
      "['#main-content', '/', '/', '/representatives', '/leadership', '/committees', '/legislative-activity', '/the-house-explained', '/visitors', '/educators-and-students', '/media', '/doing-business-with-the-house', '/employment', '/representatives', '/leadership', '/committees', '/legislative-activity', '/the-house-explained', '/visitors', '/educators-and-students', '/media', '/doing-business-with-the-house', '/employment', '/the-house-explained', 'https://www.aoc.gov/explore-capitol-campus/buildings-grounds/house-office-buildings/cannon', 'https://www.aoc.gov/explore-capitol-campus/buildings-grounds/house-office-buildings/longworth', 'https://www.aoc.gov/explore-capitol-campus/buildings-grounds/house-office-buildings/rayburn', 'https://www.visitthecapitol.gov/visit/maps-and-brochures/us-capitol-map', '#room-numbers', '#by-state', '#by-name', '#state-alabama', '#state-california', '#state-delaware', '#state-florida', '#state-georgia', '#state-hawaii', '#state-idaho', '#state-kansas', '#state-louisiana', '#state-maine', '#state-nebraska', '#state-ohio', '#state-pennsylvania', '#state-rhode-island', '#state-south-carolina', '#state-tennessee', '#state-utah', '#state-vermont', '#state-washington', 'https://barrymoore.house.gov', 'https://figures.house.gov/', 'https://mikerogers.house.gov/', 'https://aderholt.house.gov/', 'https://strong.house.gov', 'https://palmer.house.gov/', 'https://sewell.house.gov/', 'https://begich.house.gov/', 'https://radewagen.house.gov', 'https://schweikert.house.gov/', 'https://crane.house.gov', 'https://ansari.house.gov/', 'https://stanton.house.gov/', 'https://biggs.house.gov', 'https://ciscomani.house.gov', 'https://grijalva.house.gov/', 'https://hamadeh.house.gov/', 'https://gosar.house.gov/', 'https://crawford.house.gov/', 'https://hill.house.gov/', 'https://womack.house.gov/', 'https://westerman.house.gov/', 'https://lamalfa.house.gov', 'https://huffman.house.gov', 'https://kiley.house.gov', 'https://mikethompson.house.gov/', 'https://mcclintock.house.gov/', 'https://bera.house.gov', 'https://matsui.house.gov', 'https://garamendi.house.gov/', 'https://harder.house.gov/', 'https://desaulnier.house.gov/', 'https://pelosi.house.gov/', 'https://simon.house.gov/', 'https://gray.house.gov/', 'https://swalwell.house.gov', 'https://kevinmullin.house.gov', 'https://liccardo.house.gov/', 'https://khanna.house.gov', 'https://lofgren.house.gov/', 'https://panetta.house.gov', 'https://fong.house.gov/', 'https://costa.house.gov/', 'https://valadao.house.gov', 'https://obernolte.house.gov', 'https://carbajal.house.gov', 'https://ruiz.house.gov', 'https://juliabrownley.house.gov', 'https://whitesides.house.gov/', 'https://chu.house.gov/', 'https://rivas.house.gov/', 'https://friedman.house.gov/', 'https://cisneros.house.gov/', 'https://sherman.house.gov', 'https://aguilar.house.gov/', 'https://gomez.house.gov/', 'https://torres.house.gov/', 'https://lieu.house.gov/', 'https://kamlager-dove.house.gov', 'https://lindasanchez.house.gov/', 'https://takano.house.gov', 'https://youngkim.house.gov', 'https://calvert.house.gov/', 'https://robertgarcia.house.gov', 'https://waters.house.gov', 'https://barragan.house.gov', 'https://tran.house.gov/', 'https://correa.house.gov', 'https://min.house.gov/', 'https://issa.house.gov', 'https://levin.house.gov/', 'https://scottpeters.house.gov', 'https://sarajacobs.house.gov', 'https://vargas.house.gov', 'https://degette.house.gov', 'https://neguse.house.gov/', 'https://hurd.house.gov/', 'https://boebert.house.gov', 'https://crank.house.gov/', 'https://crow.house.gov/', 'https://pettersen.house.gov', 'https://gabeevans.house.gov/', 'https://larson.house.gov/', 'https://courtney.house.gov/', 'https://delauro.house.gov/', 'https://himes.house.gov/', 'https://hayes.house.gov', 'https://mcbride.house.gov/', 'https://norton.house.gov/', 'https://clerk.house.gov/members/FL01/vacancy', 'https://dunn.house.gov', 'https://cammack.house.gov', 'https://bean.house.gov', 'https://rutherford.house.gov', 'https://waltz.house.gov', 'https://mills.house.gov', 'https://haridopolos.house.gov/', 'https://soto.house.gov', 'https://frost.house.gov', 'https://webster.house.gov/', 'https://bilirakis.house.gov/', 'https://luna.house.gov', 'https://castor.house.gov/', 'https://laurellee.house.gov', 'https://buchanan.house.gov/', 'https://steube.house.gov/', 'https://franklin.house.gov', 'https://donalds.house.gov', 'https://cherfilus-mccormick.house.gov/', 'https://mast.house.gov', 'https://frankel.house.gov', 'https://moskowitz.house.gov', 'https://wilson.house.gov/', 'https://wassermanschultz.house.gov/', 'https://mariodiazbalart.house.gov/', 'https://salazar.house.gov', 'https://gimenez.house.gov', 'https://buddycarter.house.gov/', 'https://bishop.house.gov/', 'https://jack.house.gov/', 'https://hankjohnson.house.gov/', 'https://nikemawilliams.house.gov', 'https://mcbath.house.gov', 'https://mccormick.house.gov', 'https://austinscott.house.gov/', 'https://clyde.house.gov', 'https://collins.house.gov', 'https://loudermilk.house.gov', 'https://allen.house.gov', 'https://davidscott.house.gov/', 'https://greene.house.gov', 'https://moylan.house.gov', 'https://case.house.gov/', 'https://tokuda.house.gov', 'https://fulcher.house.gov/', 'https://simpson.house.gov', 'https://jonathanjackson.house.gov', 'https://robinkelly.house.gov/', 'https://ramirez.house.gov', 'https://chuygarcia.house.gov/', 'https://quigley.house.gov/', 'https://casten.house.gov', 'https://davis.house.gov', 'https://krishnamoorthi.house.gov', 'https://schakowsky.house.gov', 'https://schneider.house.gov', 'https://foster.house.gov', 'https://bost.house.gov/', 'https://budzinski.house.gov', 'https://underwood.house.gov/', 'https://marymiller.house.gov', 'https://lahood.house.gov/', 'https://sorensen.house.gov', 'https://mrvan.house.gov', 'https://yakym.house.gov', 'https://stutzman.house.gov/', 'https://baird.house.gov/', 'https://spartz.house.gov', 'https://shreve.house.gov/', 'https://carson.house.gov/', 'https://messmer.house.gov/', 'https://houchin.house.gov', 'https://millermeeks.house.gov/', 'https://hinson.house.gov', 'https://nunn.house.gov', 'https://feenstra.house.gov', 'https://mann.house.gov', 'https://schmidt.house.gov/', 'https://davids.house.gov/', 'https://estes.house.gov/', 'https://comer.house.gov/', 'https://guthrie.house.gov/', 'https://mcgarvey.house.gov', 'https://massie.house.gov', 'https://halrogers.house.gov/', 'https://barr.house.gov/', 'https://scalise.house.gov/', 'https://troycarter.house.gov', 'https://clayhiggins.house.gov', 'https://mikejohnson.house.gov', 'https://letlow.house.gov', 'https://fields.house.gov/', 'https://pingree.house.gov/', 'https://golden.house.gov', 'https://harris.house.gov/', 'https://olszewski.house.gov/', 'https://elfreth.house.gov/', 'https://ivey.house.gov', 'https://hoyer.house.gov/', 'https://mcclaindelaney.house.gov/', 'https://mfume.house.gov/', 'https://raskin.house.gov', 'https://neal.house.gov/', 'https://mcgovern.house.gov/', 'https://trahan.house.gov', 'https://auchincloss.house.gov', 'https://katherineclark.house.gov/index.cfm/home', 'https://moulton.house.gov/', 'https://pressley.house.gov', 'https://lynch.house.gov/', 'https://keating.house.gov/', 'https://bergman.house.gov', 'https://moolenaar.house.gov/', 'https://scholten.house.gov', 'https://huizenga.house.gov/', 'https://walberg.house.gov/', 'https://debbiedingell.house.gov/', 'https://barrett.house.gov/', 'https://mcdonaldrivet.house.gov/', 'https://mcclain.house.gov', 'https://james.house.gov', 'https://stevens.house.gov/', 'https://tlaib.house.gov/', 'https://thanedar.house.gov', 'https://finstad.house.gov/', 'https://craig.house.gov', 'https://morrison.house.gov/', 'https://mccollum.house.gov', 'https://omar.house.gov/', 'https://emmer.house.gov/', 'https://fischbach.house.gov', 'https://stauber.house.gov', 'https://trentkelly.house.gov/', 'https://benniethompson.house.gov/', 'https://guest.house.gov', 'https://ezell.house.gov', 'https://bell.house.gov/', 'https://wagner.house.gov', 'https://onder.house.gov/', 'https://alford.house.gov', 'https://cleaver.house.gov', 'https://graves.house.gov/', 'https://burlison.house.gov', 'https://jasonsmith.house.gov', 'https://zinke.house.gov', 'https://downing.house.gov/', 'https://flood.house.gov/', 'https://bacon.house.gov', 'https://adriansmith.house.gov/', 'https://titus.house.gov/', 'https://amodei.house.gov', 'https://susielee.house.gov', 'https://horsford.house.gov', 'https://pappas.house.gov', 'https://goodlander.house.gov/', 'https://norcross.house.gov', 'https://vandrew.house.gov', 'https://conaway.house.gov/', 'https://chrissmith.house.gov/', 'https://gottheimer.house.gov', 'https://pallone.house.gov', 'https://kean.house.gov', 'https://menendez.house.gov', 'https://pou.house.gov/', 'https://mciver.house.gov/', 'https://sherrill.house.gov/', 'https://watsoncoleman.house.gov/', 'https://stansbury.house.gov/', 'https://vasquez.house.gov', 'https://fernandez.house.gov', 'https://lalota.house.gov', 'https://garbarino.house.gov', 'https://suozzi.house.gov', 'https://gillen.house.gov/', 'https://meeks.house.gov', 'https://meng.house.gov', 'https://velazquez.house.gov', 'https://jeffries.house.gov', 'https://clarke.house.gov/', 'https://goldman.house.gov', 'https://malliotakis.house.gov', 'https://nadler.house.gov', 'https://espaillat.house.gov', 'https://ocasio-cortez.house.gov/', 'https://ritchietorres.house.gov', 'https://latimer.house.gov/', 'https://lawler.house.gov', 'https://patryan.house.gov/', 'https://riley.house.gov/', 'https://tonko.house.gov/', 'https://stefanik.house.gov/', 'https://mannion.house.gov/', 'https://langworthy.house.gov', 'https://tenney.house.gov/', 'https://morelle.house.gov', 'https://kennedy.house.gov', 'https://dondavis.house.gov', 'https://ross.house.gov', 'https://murphy.house.gov', 'https://foushee.house.gov', 'https://foxx.house.gov/', 'https://mcdowell.house.gov/', 'https://rouzer.house.gov/', 'https://markharris.house.gov/', 'https://hudson.house.gov', 'https://harrigan.house.gov/', 'https://edwards.house.gov', 'https://adams.house.gov', 'https://knott.house.gov/', 'https://timmoore.house.gov/', 'https://fedorchak.house.gov/', 'https://king-hinds.house.gov/', 'https://landsman.house.gov', 'https://taylor.house.gov/', 'https://beatty.house.gov', 'https://jordan.house.gov/', 'https://latta.house.gov/', 'https://rulli.house.gov', 'https://maxmiller.house.gov', 'https://davidson.house.gov/', 'https://kaptur.house.gov/', 'https://turner.house.gov/', 'https://shontelbrown.house.gov', 'https://balderson.house.gov', 'https://sykes.house.gov', 'https://joyce.house.gov', 'https://carey.house.gov', 'https://hern.house.gov', 'https://brecheen.house.gov', 'https://lucas.house.gov', 'https://cole.house.gov', 'https://bice.house.gov', 'https://bonamici.house.gov', 'https://bentz.house.gov', 'https://dexter.house.gov/', 'https://hoyle.house.gov', 'https://bynum.house.gov/', 'https://salinas.house.gov', 'https://fitzpatrick.house.gov/', 'https://boyle.house.gov/', 'https://evans.house.gov/', 'https://dean.house.gov', 'https://scanlon.house.gov/', 'https://houlahan.house.gov/', 'https://mackenzie.house.gov/', 'https://bresnahan.house.gov/', 'https://meuser.house.gov', 'https://perry.house.gov/', 'https://smucker.house.gov/', 'https://summerlee.house.gov', 'https://johnjoyce.house.gov/', 'https://reschenthaler.house.gov/', 'https://thompson.house.gov', 'https://kelly.house.gov', 'https://deluzio.house.gov', 'https://hernandez.house.gov/', 'https://amo.house.gov', 'https://magaziner.house.gov', 'https://mace.house.gov', 'https://joewilson.house.gov/', 'https://sheribiggs.house.gov/', 'https://timmons.house.gov/', 'https://norman.house.gov', 'https://clyburn.house.gov/', 'https://fry.house.gov', 'https://dustyjohnson.house.gov/', 'https://harshbarger.house.gov', 'https://burchett.house.gov', 'https://fleischmann.house.gov/', 'https://desjarlais.house.gov/', 'https://ogles.house.gov', 'https://johnrose.house.gov/', 'https://markgreen.house.gov/', 'https://kustoff.house.gov', 'https://cohen.house.gov/', 'https://moran.house.gov', 'https://crenshaw.house.gov/', 'https://keithself.house.gov', 'https://fallon.house.gov', 'https://gooden.house.gov', 'https://ellzey.house.gov/', 'https://fletcher.house.gov', 'https://luttrell.house.gov', 'https://algreen.house.gov', 'https://mccaul.house.gov', 'https://pfluger.house.gov', 'https://craiggoldman.house.gov/', 'https://jackson.house.gov', 'https://weber.house.gov', 'https://delacruz.house.gov', 'https://escobar.house.gov', 'https://sessions.house.gov', 'https://sylvesterturner.house.gov/', 'https://arrington.house.gov', 'https://castro.house.gov', 'https://roy.house.gov', 'https://nehls.house.gov', 'https://gonzales.house.gov', 'https://vanduyne.house.gov', 'https://williams.house.gov', 'https://gill.house.gov/', 'https://cloud.house.gov', 'https://cuellar.house.gov/', 'https://sylviagarcia.house.gov/', 'https://crockett.house.gov', 'https://carter.house.gov/', 'https://juliejohnson.house.gov/', 'https://veasey.house.gov', 'https://gonzalez.house.gov', 'https://casar.house.gov', 'https://babin.house.gov', 'https://doggett.house.gov', 'https://hunt.house.gov', 'https://blakemoore.house.gov', 'https://maloy.house.gov', 'https://mikekennedy.house.gov/', 'https://owens.house.gov', 'https://balint.house.gov', 'https://wittman.house.gov/', 'https://kiggans.house.gov', 'https://bobbyscott.house.gov', 'https://mcclellan.house.gov/', 'https://mcguire.house.gov/', 'https://cline.house.gov', 'https://vindman.house.gov/', 'https://beyer.house.gov', 'https://morgangriffith.house.gov/', 'https://subramanyam.house.gov/', 'https://connolly.house.gov/', 'https://plaskett.house.gov/', 'https://delbene.house.gov', 'https://larsen.house.gov', 'https://gluesenkampperez.house.gov', 'https://newhouse.house.gov', 'https://baumgartner.house.gov/', 'https://randall.house.gov/', 'https://jayapal.house.gov', 'https://schrier.house.gov', 'https://adamsmith.house.gov/', 'https://strickland.house.gov', 'https://miller.house.gov/', 'https://rileymoore.house.gov/', 'https://steil.house.gov', 'https://pocan.house.gov', 'https://vanorden.house.gov', 'https://gwenmoore.house.gov', 'https://fitzgerald.house.gov', 'https://grothman.house.gov', 'https://tiffany.house.gov/', 'https://wied.house.gov/', 'https://hageman.house.gov', '#name-a', '#name-b', '#name-c', '#name-d', '#name-e', '#name-f', '#name-g', '#name-h', '#name-i', '#name-j', '#name-k', '#name-l', '#name-m', '#name-n', '#name-o', '#name-p', '#name-q', '#name-r', '#name-s', '#name-t', '#name-u', '#name-v', '#name-w', '#name-y', '#name-z', 'https://adams.house.gov', 'https://aderholt.house.gov/', 'https://aguilar.house.gov/', 'https://alford.house.gov', 'https://allen.house.gov', 'https://amo.house.gov', 'https://amodei.house.gov', 'https://ansari.house.gov/', 'https://arrington.house.gov', 'https://auchincloss.house.gov', 'https://babin.house.gov', 'https://bacon.house.gov', 'https://baird.house.gov/', 'https://balderson.house.gov', 'https://balint.house.gov', 'https://barr.house.gov/', 'https://barragan.house.gov', 'https://barrett.house.gov/', 'https://baumgartner.house.gov/', 'https://bean.house.gov', 'https://beatty.house.gov', 'https://begich.house.gov/', 'https://bell.house.gov/', 'https://bentz.house.gov', 'https://bera.house.gov', 'https://bergman.house.gov', 'https://beyer.house.gov', 'https://bice.house.gov', 'https://biggs.house.gov', 'https://sheribiggs.house.gov/', 'https://bilirakis.house.gov/', 'https://bishop.house.gov/', 'https://boebert.house.gov', 'https://bonamici.house.gov', 'https://bost.house.gov/', 'https://boyle.house.gov/', 'https://brecheen.house.gov', 'https://bresnahan.house.gov/', 'https://shontelbrown.house.gov', 'https://juliabrownley.house.gov', 'https://buchanan.house.gov/', 'https://budzinski.house.gov', 'https://burchett.house.gov', 'https://burlison.house.gov', 'https://bynum.house.gov/', 'https://calvert.house.gov/', 'https://cammack.house.gov', 'https://carbajal.house.gov', 'https://carey.house.gov', 'https://carson.house.gov/', 'https://buddycarter.house.gov/', 'https://carter.house.gov/', 'https://troycarter.house.gov', 'https://casar.house.gov', 'https://case.house.gov/', 'https://casten.house.gov', 'https://castor.house.gov/', 'https://castro.house.gov', 'https://cherfilus-mccormick.house.gov/', 'https://chu.house.gov/', 'https://ciscomani.house.gov', 'https://cisneros.house.gov/', 'https://katherineclark.house.gov/index.cfm/home', 'https://clarke.house.gov/', 'https://cleaver.house.gov', 'https://cline.house.gov', 'https://cloud.house.gov', 'https://clyburn.house.gov/', 'https://clyde.house.gov', 'https://cohen.house.gov/', 'https://cole.house.gov', 'https://collins.house.gov', 'https://comer.house.gov/', 'https://conaway.house.gov/', 'https://connolly.house.gov/', 'https://correa.house.gov', 'https://costa.house.gov/', 'https://courtney.house.gov/', 'https://craig.house.gov', 'https://crane.house.gov', 'https://crank.house.gov/', 'https://crawford.house.gov/', 'https://crenshaw.house.gov/', 'https://crockett.house.gov', 'https://crow.house.gov/', 'https://cuellar.house.gov/', 'https://davids.house.gov/', 'https://davidson.house.gov/', 'https://davis.house.gov', 'https://dondavis.house.gov', 'https://dean.house.gov', 'https://degette.house.gov', 'https://delacruz.house.gov', 'https://delauro.house.gov/', 'https://delbene.house.gov', 'https://deluzio.house.gov', 'https://desaulnier.house.gov/', 'https://desjarlais.house.gov/', 'https://dexter.house.gov/', 'https://mariodiazbalart.house.gov/', 'https://debbiedingell.house.gov/', 'https://doggett.house.gov', 'https://donalds.house.gov', 'https://downing.house.gov/', 'https://dunn.house.gov', 'https://edwards.house.gov', 'https://elfreth.house.gov/', 'https://ellzey.house.gov/', 'https://emmer.house.gov/', 'https://escobar.house.gov', 'https://espaillat.house.gov', 'https://estes.house.gov/', 'https://evans.house.gov/', 'https://gabeevans.house.gov/', 'https://ezell.house.gov', 'https://fallon.house.gov', 'https://fedorchak.house.gov/', 'https://feenstra.house.gov', 'https://fields.house.gov/', 'https://figures.house.gov/', 'https://finstad.house.gov/', 'https://fischbach.house.gov', 'https://fitzgerald.house.gov', 'https://fitzpatrick.house.gov/', 'https://fleischmann.house.gov/', 'https://fletcher.house.gov', 'https://flood.house.gov/', 'https://fong.house.gov/', 'https://foster.house.gov', 'https://foushee.house.gov', 'https://foxx.house.gov/', 'https://frankel.house.gov', 'https://franklin.house.gov', 'https://friedman.house.gov/', 'https://frost.house.gov', 'https://fry.house.gov', 'https://fulcher.house.gov/', 'https://clerk.house.gov/members/FL01/vacancy', 'https://garamendi.house.gov/', 'https://garbarino.house.gov', 'https://chuygarcia.house.gov/', 'https://robertgarcia.house.gov', 'https://sylviagarcia.house.gov/', 'https://gill.house.gov/', 'https://gillen.house.gov/', 'https://gimenez.house.gov', 'https://golden.house.gov', 'https://craiggoldman.house.gov/', 'https://goldman.house.gov', 'https://gomez.house.gov/', 'https://gonzales.house.gov', 'https://gonzalez.house.gov', 'https://gooden.house.gov', 'https://goodlander.house.gov/', 'https://gosar.house.gov/', 'https://gottheimer.house.gov', 'https://graves.house.gov/', 'https://gray.house.gov/', 'https://algreen.house.gov', 'https://markgreen.house.gov/', 'https://greene.house.gov', 'https://morgangriffith.house.gov/', 'https://grijalva.house.gov/', 'https://grothman.house.gov', 'https://guest.house.gov', 'https://guthrie.house.gov/', 'https://hageman.house.gov', 'https://hamadeh.house.gov/', 'https://harder.house.gov/', 'https://haridopolos.house.gov/', 'https://harrigan.house.gov/', 'https://harris.house.gov/', 'https://markharris.house.gov/', 'https://harshbarger.house.gov', 'https://hayes.house.gov', 'https://hern.house.gov', 'https://hernandez.house.gov/', 'https://clayhiggins.house.gov', 'https://hill.house.gov/', 'https://himes.house.gov/', 'https://hinson.house.gov', 'https://horsford.house.gov', 'https://houchin.house.gov', 'https://houlahan.house.gov/', 'https://hoyer.house.gov/', 'https://hoyle.house.gov', 'https://hudson.house.gov', 'https://huffman.house.gov', 'https://huizenga.house.gov/', 'https://hunt.house.gov', 'https://hurd.house.gov/', 'https://issa.house.gov', 'https://ivey.house.gov', 'https://jack.house.gov/', 'https://jonathanjackson.house.gov', 'https://jackson.house.gov', 'https://sarajacobs.house.gov', 'https://james.house.gov', 'https://jayapal.house.gov', 'https://jeffries.house.gov', 'https://dustyjohnson.house.gov/', 'https://hankjohnson.house.gov/', 'https://juliejohnson.house.gov/', 'https://mikejohnson.house.gov', 'https://jordan.house.gov/', 'https://joyce.house.gov', 'https://johnjoyce.house.gov/', 'https://kamlager-dove.house.gov', 'https://kaptur.house.gov/', 'https://kean.house.gov', 'https://keating.house.gov/', 'https://kelly.house.gov', 'https://robinkelly.house.gov/', 'https://trentkelly.house.gov/', 'https://mikekennedy.house.gov/', 'https://kennedy.house.gov', 'https://khanna.house.gov', 'https://kiggans.house.gov', 'https://kiley.house.gov', 'https://youngkim.house.gov', 'https://king-hinds.house.gov/', 'https://knott.house.gov/', 'https://krishnamoorthi.house.gov', 'https://kustoff.house.gov', 'https://lahood.house.gov/', 'https://lalota.house.gov', 'https://lamalfa.house.gov', 'https://landsman.house.gov', 'https://langworthy.house.gov', 'https://larsen.house.gov', 'https://larson.house.gov/', 'https://latimer.house.gov/', 'https://latta.house.gov/', 'https://lawler.house.gov', 'https://laurellee.house.gov', 'https://summerlee.house.gov', 'https://susielee.house.gov', 'https://fernandez.house.gov', 'https://letlow.house.gov', 'https://levin.house.gov/', 'https://liccardo.house.gov/', 'https://lieu.house.gov/', 'https://lofgren.house.gov/', 'https://loudermilk.house.gov', 'https://lucas.house.gov', 'https://luna.house.gov', 'https://luttrell.house.gov', 'https://lynch.house.gov/', 'https://mace.house.gov', 'https://mackenzie.house.gov/', 'https://magaziner.house.gov', 'https://malliotakis.house.gov', 'https://maloy.house.gov', 'https://mann.house.gov', 'https://mannion.house.gov/', 'https://massie.house.gov', 'https://mast.house.gov', 'https://matsui.house.gov', 'https://mcbath.house.gov', 'https://mcbride.house.gov/', 'https://mccaul.house.gov', 'https://mcclain.house.gov', 'https://mcclaindelaney.house.gov/', 'https://mcclellan.house.gov/', 'https://mcclintock.house.gov/', 'https://mccollum.house.gov', 'https://mccormick.house.gov', 'https://mcdonaldrivet.house.gov/', 'https://mcdowell.house.gov/', 'https://mcgarvey.house.gov', 'https://mcgovern.house.gov/', 'https://mcguire.house.gov/', 'https://mciver.house.gov/', 'https://meeks.house.gov', 'https://menendez.house.gov', 'https://meng.house.gov', 'https://messmer.house.gov/', 'https://meuser.house.gov', 'https://mfume.house.gov/', 'https://miller.house.gov/', 'https://marymiller.house.gov', 'https://maxmiller.house.gov', 'https://millermeeks.house.gov/', 'https://mills.house.gov', 'https://min.house.gov/', 'https://moolenaar.house.gov/', 'https://barrymoore.house.gov', 'https://blakemoore.house.gov', 'https://gwenmoore.house.gov', 'https://rileymoore.house.gov/', 'https://timmoore.house.gov/', 'https://moran.house.gov', 'https://morelle.house.gov', 'https://morrison.house.gov/', 'https://moskowitz.house.gov', 'https://moulton.house.gov/', 'https://moylan.house.gov', 'https://mrvan.house.gov', 'https://kevinmullin.house.gov', 'https://murphy.house.gov', 'https://nadler.house.gov', 'https://neal.house.gov/', 'https://neguse.house.gov/', 'https://nehls.house.gov', 'https://newhouse.house.gov', 'https://norcross.house.gov', 'https://norman.house.gov', 'https://norton.house.gov/', 'https://nunn.house.gov', 'https://obernolte.house.gov', 'https://ocasio-cortez.house.gov/', 'https://ogles.house.gov', 'https://olszewski.house.gov/', 'https://omar.house.gov/', 'https://onder.house.gov/', 'https://owens.house.gov', 'https://pallone.house.gov', 'https://palmer.house.gov/', 'https://panetta.house.gov', 'https://pappas.house.gov', 'https://pelosi.house.gov/', 'https://gluesenkampperez.house.gov', 'https://perry.house.gov/', 'https://scottpeters.house.gov', 'https://pettersen.house.gov', 'https://pfluger.house.gov', 'https://pingree.house.gov/', 'https://plaskett.house.gov/', 'https://pocan.house.gov', 'https://pou.house.gov/', 'https://pressley.house.gov', 'https://quigley.house.gov/', 'https://radewagen.house.gov', 'https://ramirez.house.gov', 'https://randall.house.gov/', 'https://raskin.house.gov', 'https://reschenthaler.house.gov/', 'https://riley.house.gov/', 'https://rivas.house.gov/', 'https://halrogers.house.gov/', 'https://mikerogers.house.gov/', 'https://johnrose.house.gov/', 'https://ross.house.gov', 'https://rouzer.house.gov/', 'https://roy.house.gov', 'https://ruiz.house.gov', 'https://rulli.house.gov', 'https://rutherford.house.gov', 'https://patryan.house.gov/', 'https://salazar.house.gov', 'https://salinas.house.gov', 'https://lindasanchez.house.gov/', 'https://scalise.house.gov/', 'https://scanlon.house.gov/', 'https://schakowsky.house.gov', 'https://schmidt.house.gov/', 'https://schneider.house.gov', 'https://scholten.house.gov', 'https://schrier.house.gov', 'https://schweikert.house.gov/', 'https://austinscott.house.gov/', 'https://davidscott.house.gov/', 'https://bobbyscott.house.gov', 'https://keithself.house.gov', 'https://sessions.house.gov', 'https://sewell.house.gov/', 'https://sherman.house.gov', 'https://sherrill.house.gov/', 'https://shreve.house.gov/', 'https://simon.house.gov/', 'https://simpson.house.gov', 'https://adamsmith.house.gov/', 'https://adriansmith.house.gov/', 'https://chrissmith.house.gov/', 'https://jasonsmith.house.gov', 'https://smucker.house.gov/', 'https://sorensen.house.gov', 'https://soto.house.gov', 'https://spartz.house.gov', 'https://stansbury.house.gov/', 'https://stanton.house.gov/', 'https://stauber.house.gov', 'https://stefanik.house.gov/', 'https://steil.house.gov', 'https://steube.house.gov/', 'https://stevens.house.gov/', 'https://strickland.house.gov', 'https://strong.house.gov', 'https://stutzman.house.gov/', 'https://subramanyam.house.gov/', 'https://suozzi.house.gov', 'https://swalwell.house.gov', 'https://sykes.house.gov', 'https://takano.house.gov', 'https://taylor.house.gov/', 'https://tenney.house.gov/', 'https://thanedar.house.gov', 'https://benniethompson.house.gov/', 'https://thompson.house.gov', 'https://mikethompson.house.gov/', 'https://tiffany.house.gov/', 'https://timmons.house.gov/', 'https://titus.house.gov/', 'https://tlaib.house.gov/', 'https://tokuda.house.gov', 'https://tonko.house.gov/', 'https://torres.house.gov/', 'https://ritchietorres.house.gov', 'https://trahan.house.gov', 'https://tran.house.gov/', 'https://turner.house.gov/', 'https://sylvesterturner.house.gov/', 'https://underwood.house.gov/', 'https://valadao.house.gov', 'https://vandrew.house.gov', 'https://vanduyne.house.gov', 'https://vanorden.house.gov', 'https://vargas.house.gov', 'https://vasquez.house.gov', 'https://veasey.house.gov', 'https://velazquez.house.gov', 'https://vindman.house.gov/', 'https://wagner.house.gov', 'https://walberg.house.gov/', 'https://waltz.house.gov', 'https://wassermanschultz.house.gov/', 'https://waters.house.gov', 'https://watsoncoleman.house.gov/', 'https://weber.house.gov', 'https://webster.house.gov/', 'https://westerman.house.gov/', 'https://whitesides.house.gov/', 'https://wied.house.gov/', 'https://nikemawilliams.house.gov', 'https://williams.house.gov', 'https://wilson.house.gov/', 'https://joewilson.house.gov/', 'https://wittman.house.gov/', 'https://womack.house.gov/', 'https://yakym.house.gov', 'https://zinke.house.gov', 'tel:+12022243121', 'tel:+12022251904', '/accessibility', '/contact-webmaster', '/feature-stories', '/privacy-policy', '/sitemap', '/site-tools', '/terms-of-use', '/watch-houselive']\n",
      "967\n"
     ]
    }
   ],
   "source": [
    "from bs4 import BeautifulSoup\n",
    "import requests\n",
    "\n",
    "url = \"https://www.house.gov/representatives\"\n",
    "text = requests.get(url).text\n",
    "soup = BeautifulSoup(text, \"html5lib\")\n",
    "\n",
    "all_urls = [a['href'] for a in soup('a') if a.has_attr('href')]\n",
    "print(all_urls)\n",
    "print(len(all_urls))"
   ]
  },
  {
   "cell_type": "code",
   "execution_count": 18,
   "metadata": {},
   "outputs": [
    {
     "name": "stdout",
     "output_type": "stream",
     "text": [
      "878\n",
      "['https://barrymoore.house.gov', 'https://figures.house.gov/', 'https://mikerogers.house.gov/', 'https://aderholt.house.gov/', 'https://strong.house.gov', 'https://palmer.house.gov/', 'https://sewell.house.gov/', 'https://begich.house.gov/', 'https://radewagen.house.gov', 'https://schweikert.house.gov/', 'https://crane.house.gov', 'https://ansari.house.gov/', 'https://stanton.house.gov/', 'https://biggs.house.gov', 'https://ciscomani.house.gov', 'https://grijalva.house.gov/', 'https://hamadeh.house.gov/', 'https://gosar.house.gov/', 'https://crawford.house.gov/', 'https://hill.house.gov/', 'https://womack.house.gov/', 'https://westerman.house.gov/', 'https://lamalfa.house.gov', 'https://huffman.house.gov', 'https://kiley.house.gov', 'https://mikethompson.house.gov/', 'https://mcclintock.house.gov/', 'https://bera.house.gov', 'https://matsui.house.gov', 'https://garamendi.house.gov/', 'https://harder.house.gov/', 'https://desaulnier.house.gov/', 'https://pelosi.house.gov/', 'https://simon.house.gov/', 'https://gray.house.gov/', 'https://swalwell.house.gov', 'https://kevinmullin.house.gov', 'https://liccardo.house.gov/', 'https://khanna.house.gov', 'https://lofgren.house.gov/', 'https://panetta.house.gov', 'https://fong.house.gov/', 'https://costa.house.gov/', 'https://valadao.house.gov', 'https://obernolte.house.gov', 'https://carbajal.house.gov', 'https://ruiz.house.gov', 'https://juliabrownley.house.gov', 'https://whitesides.house.gov/', 'https://chu.house.gov/', 'https://rivas.house.gov/', 'https://friedman.house.gov/', 'https://cisneros.house.gov/', 'https://sherman.house.gov', 'https://aguilar.house.gov/', 'https://gomez.house.gov/', 'https://torres.house.gov/', 'https://lieu.house.gov/', 'https://kamlager-dove.house.gov', 'https://lindasanchez.house.gov/', 'https://takano.house.gov', 'https://youngkim.house.gov', 'https://calvert.house.gov/', 'https://robertgarcia.house.gov', 'https://waters.house.gov', 'https://barragan.house.gov', 'https://tran.house.gov/', 'https://correa.house.gov', 'https://min.house.gov/', 'https://issa.house.gov', 'https://levin.house.gov/', 'https://scottpeters.house.gov', 'https://sarajacobs.house.gov', 'https://vargas.house.gov', 'https://degette.house.gov', 'https://neguse.house.gov/', 'https://hurd.house.gov/', 'https://boebert.house.gov', 'https://crank.house.gov/', 'https://crow.house.gov/', 'https://pettersen.house.gov', 'https://gabeevans.house.gov/', 'https://larson.house.gov/', 'https://courtney.house.gov/', 'https://delauro.house.gov/', 'https://himes.house.gov/', 'https://hayes.house.gov', 'https://mcbride.house.gov/', 'https://norton.house.gov/', 'https://dunn.house.gov', 'https://cammack.house.gov', 'https://bean.house.gov', 'https://rutherford.house.gov', 'https://waltz.house.gov', 'https://mills.house.gov', 'https://haridopolos.house.gov/', 'https://soto.house.gov', 'https://frost.house.gov', 'https://webster.house.gov/', 'https://bilirakis.house.gov/', 'https://luna.house.gov', 'https://castor.house.gov/', 'https://laurellee.house.gov', 'https://buchanan.house.gov/', 'https://steube.house.gov/', 'https://franklin.house.gov', 'https://donalds.house.gov', 'https://cherfilus-mccormick.house.gov/', 'https://mast.house.gov', 'https://frankel.house.gov', 'https://moskowitz.house.gov', 'https://wilson.house.gov/', 'https://wassermanschultz.house.gov/', 'https://mariodiazbalart.house.gov/', 'https://salazar.house.gov', 'https://gimenez.house.gov', 'https://buddycarter.house.gov/', 'https://bishop.house.gov/', 'https://jack.house.gov/', 'https://hankjohnson.house.gov/', 'https://nikemawilliams.house.gov', 'https://mcbath.house.gov', 'https://mccormick.house.gov', 'https://austinscott.house.gov/', 'https://clyde.house.gov', 'https://collins.house.gov', 'https://loudermilk.house.gov', 'https://allen.house.gov', 'https://davidscott.house.gov/', 'https://greene.house.gov', 'https://moylan.house.gov', 'https://case.house.gov/', 'https://tokuda.house.gov', 'https://fulcher.house.gov/', 'https://simpson.house.gov', 'https://jonathanjackson.house.gov', 'https://robinkelly.house.gov/', 'https://ramirez.house.gov', 'https://chuygarcia.house.gov/', 'https://quigley.house.gov/', 'https://casten.house.gov', 'https://davis.house.gov', 'https://krishnamoorthi.house.gov', 'https://schakowsky.house.gov', 'https://schneider.house.gov', 'https://foster.house.gov', 'https://bost.house.gov/', 'https://budzinski.house.gov', 'https://underwood.house.gov/', 'https://marymiller.house.gov', 'https://lahood.house.gov/', 'https://sorensen.house.gov', 'https://mrvan.house.gov', 'https://yakym.house.gov', 'https://stutzman.house.gov/', 'https://baird.house.gov/', 'https://spartz.house.gov', 'https://shreve.house.gov/', 'https://carson.house.gov/', 'https://messmer.house.gov/', 'https://houchin.house.gov', 'https://millermeeks.house.gov/', 'https://hinson.house.gov', 'https://nunn.house.gov', 'https://feenstra.house.gov', 'https://mann.house.gov', 'https://schmidt.house.gov/', 'https://davids.house.gov/', 'https://estes.house.gov/', 'https://comer.house.gov/', 'https://guthrie.house.gov/', 'https://mcgarvey.house.gov', 'https://massie.house.gov', 'https://halrogers.house.gov/', 'https://barr.house.gov/', 'https://scalise.house.gov/', 'https://troycarter.house.gov', 'https://clayhiggins.house.gov', 'https://mikejohnson.house.gov', 'https://letlow.house.gov', 'https://fields.house.gov/', 'https://pingree.house.gov/', 'https://golden.house.gov', 'https://harris.house.gov/', 'https://olszewski.house.gov/', 'https://elfreth.house.gov/', 'https://ivey.house.gov', 'https://hoyer.house.gov/', 'https://mcclaindelaney.house.gov/', 'https://mfume.house.gov/', 'https://raskin.house.gov', 'https://neal.house.gov/', 'https://mcgovern.house.gov/', 'https://trahan.house.gov', 'https://auchincloss.house.gov', 'https://moulton.house.gov/', 'https://pressley.house.gov', 'https://lynch.house.gov/', 'https://keating.house.gov/', 'https://bergman.house.gov', 'https://moolenaar.house.gov/', 'https://scholten.house.gov', 'https://huizenga.house.gov/', 'https://walberg.house.gov/', 'https://debbiedingell.house.gov/', 'https://barrett.house.gov/', 'https://mcdonaldrivet.house.gov/', 'https://mcclain.house.gov', 'https://james.house.gov', 'https://stevens.house.gov/', 'https://tlaib.house.gov/', 'https://thanedar.house.gov', 'https://finstad.house.gov/', 'https://craig.house.gov', 'https://morrison.house.gov/', 'https://mccollum.house.gov', 'https://omar.house.gov/', 'https://emmer.house.gov/', 'https://fischbach.house.gov', 'https://stauber.house.gov', 'https://trentkelly.house.gov/', 'https://benniethompson.house.gov/', 'https://guest.house.gov', 'https://ezell.house.gov', 'https://bell.house.gov/', 'https://wagner.house.gov', 'https://onder.house.gov/', 'https://alford.house.gov', 'https://cleaver.house.gov', 'https://graves.house.gov/', 'https://burlison.house.gov', 'https://jasonsmith.house.gov', 'https://zinke.house.gov', 'https://downing.house.gov/', 'https://flood.house.gov/', 'https://bacon.house.gov', 'https://adriansmith.house.gov/', 'https://titus.house.gov/', 'https://amodei.house.gov', 'https://susielee.house.gov', 'https://horsford.house.gov', 'https://pappas.house.gov', 'https://goodlander.house.gov/', 'https://norcross.house.gov', 'https://vandrew.house.gov', 'https://conaway.house.gov/', 'https://chrissmith.house.gov/', 'https://gottheimer.house.gov', 'https://pallone.house.gov', 'https://kean.house.gov', 'https://menendez.house.gov', 'https://pou.house.gov/', 'https://mciver.house.gov/', 'https://sherrill.house.gov/', 'https://watsoncoleman.house.gov/', 'https://stansbury.house.gov/', 'https://vasquez.house.gov', 'https://fernandez.house.gov', 'https://lalota.house.gov', 'https://garbarino.house.gov', 'https://suozzi.house.gov', 'https://gillen.house.gov/', 'https://meeks.house.gov', 'https://meng.house.gov', 'https://velazquez.house.gov', 'https://jeffries.house.gov', 'https://clarke.house.gov/', 'https://goldman.house.gov', 'https://malliotakis.house.gov', 'https://nadler.house.gov', 'https://espaillat.house.gov', 'https://ocasio-cortez.house.gov/', 'https://ritchietorres.house.gov', 'https://latimer.house.gov/', 'https://lawler.house.gov', 'https://patryan.house.gov/', 'https://riley.house.gov/', 'https://tonko.house.gov/', 'https://stefanik.house.gov/', 'https://mannion.house.gov/', 'https://langworthy.house.gov', 'https://tenney.house.gov/', 'https://morelle.house.gov', 'https://kennedy.house.gov', 'https://dondavis.house.gov', 'https://ross.house.gov', 'https://murphy.house.gov', 'https://foushee.house.gov', 'https://foxx.house.gov/', 'https://mcdowell.house.gov/', 'https://rouzer.house.gov/', 'https://markharris.house.gov/', 'https://hudson.house.gov', 'https://harrigan.house.gov/', 'https://edwards.house.gov', 'https://adams.house.gov', 'https://knott.house.gov/', 'https://timmoore.house.gov/', 'https://fedorchak.house.gov/', 'https://king-hinds.house.gov/', 'https://landsman.house.gov', 'https://taylor.house.gov/', 'https://beatty.house.gov', 'https://jordan.house.gov/', 'https://latta.house.gov/', 'https://rulli.house.gov', 'https://maxmiller.house.gov', 'https://davidson.house.gov/', 'https://kaptur.house.gov/', 'https://turner.house.gov/', 'https://shontelbrown.house.gov', 'https://balderson.house.gov', 'https://sykes.house.gov', 'https://joyce.house.gov', 'https://carey.house.gov', 'https://hern.house.gov', 'https://brecheen.house.gov', 'https://lucas.house.gov', 'https://cole.house.gov', 'https://bice.house.gov', 'https://bonamici.house.gov', 'https://bentz.house.gov', 'https://dexter.house.gov/', 'https://hoyle.house.gov', 'https://bynum.house.gov/', 'https://salinas.house.gov', 'https://fitzpatrick.house.gov/', 'https://boyle.house.gov/', 'https://evans.house.gov/', 'https://dean.house.gov', 'https://scanlon.house.gov/', 'https://houlahan.house.gov/', 'https://mackenzie.house.gov/', 'https://bresnahan.house.gov/', 'https://meuser.house.gov', 'https://perry.house.gov/', 'https://smucker.house.gov/', 'https://summerlee.house.gov', 'https://johnjoyce.house.gov/', 'https://reschenthaler.house.gov/', 'https://thompson.house.gov', 'https://kelly.house.gov', 'https://deluzio.house.gov', 'https://hernandez.house.gov/', 'https://amo.house.gov', 'https://magaziner.house.gov', 'https://mace.house.gov', 'https://joewilson.house.gov/', 'https://sheribiggs.house.gov/', 'https://timmons.house.gov/', 'https://norman.house.gov', 'https://clyburn.house.gov/', 'https://fry.house.gov', 'https://dustyjohnson.house.gov/', 'https://harshbarger.house.gov', 'https://burchett.house.gov', 'https://fleischmann.house.gov/', 'https://desjarlais.house.gov/', 'https://ogles.house.gov', 'https://johnrose.house.gov/', 'https://markgreen.house.gov/', 'https://kustoff.house.gov', 'https://cohen.house.gov/', 'https://moran.house.gov', 'https://crenshaw.house.gov/', 'https://keithself.house.gov', 'https://fallon.house.gov', 'https://gooden.house.gov', 'https://ellzey.house.gov/', 'https://fletcher.house.gov', 'https://luttrell.house.gov', 'https://algreen.house.gov', 'https://mccaul.house.gov', 'https://pfluger.house.gov', 'https://craiggoldman.house.gov/', 'https://jackson.house.gov', 'https://weber.house.gov', 'https://delacruz.house.gov', 'https://escobar.house.gov', 'https://sessions.house.gov', 'https://sylvesterturner.house.gov/', 'https://arrington.house.gov', 'https://castro.house.gov', 'https://roy.house.gov', 'https://nehls.house.gov', 'https://gonzales.house.gov', 'https://vanduyne.house.gov', 'https://williams.house.gov', 'https://gill.house.gov/', 'https://cloud.house.gov', 'https://cuellar.house.gov/', 'https://sylviagarcia.house.gov/', 'https://crockett.house.gov', 'https://carter.house.gov/', 'https://juliejohnson.house.gov/', 'https://veasey.house.gov', 'https://gonzalez.house.gov', 'https://casar.house.gov', 'https://babin.house.gov', 'https://doggett.house.gov', 'https://hunt.house.gov', 'https://blakemoore.house.gov', 'https://maloy.house.gov', 'https://mikekennedy.house.gov/', 'https://owens.house.gov', 'https://balint.house.gov', 'https://wittman.house.gov/', 'https://kiggans.house.gov', 'https://bobbyscott.house.gov', 'https://mcclellan.house.gov/', 'https://mcguire.house.gov/', 'https://cline.house.gov', 'https://vindman.house.gov/', 'https://beyer.house.gov', 'https://morgangriffith.house.gov/', 'https://subramanyam.house.gov/', 'https://connolly.house.gov/', 'https://plaskett.house.gov/', 'https://delbene.house.gov', 'https://larsen.house.gov', 'https://gluesenkampperez.house.gov', 'https://newhouse.house.gov', 'https://baumgartner.house.gov/', 'https://randall.house.gov/', 'https://jayapal.house.gov', 'https://schrier.house.gov', 'https://adamsmith.house.gov/', 'https://strickland.house.gov', 'https://miller.house.gov/', 'https://rileymoore.house.gov/', 'https://steil.house.gov', 'https://pocan.house.gov', 'https://vanorden.house.gov', 'https://gwenmoore.house.gov', 'https://fitzgerald.house.gov', 'https://grothman.house.gov', 'https://tiffany.house.gov/', 'https://wied.house.gov/', 'https://hageman.house.gov', 'https://adams.house.gov', 'https://aderholt.house.gov/', 'https://aguilar.house.gov/', 'https://alford.house.gov', 'https://allen.house.gov', 'https://amo.house.gov', 'https://amodei.house.gov', 'https://ansari.house.gov/', 'https://arrington.house.gov', 'https://auchincloss.house.gov', 'https://babin.house.gov', 'https://bacon.house.gov', 'https://baird.house.gov/', 'https://balderson.house.gov', 'https://balint.house.gov', 'https://barr.house.gov/', 'https://barragan.house.gov', 'https://barrett.house.gov/', 'https://baumgartner.house.gov/', 'https://bean.house.gov', 'https://beatty.house.gov', 'https://begich.house.gov/', 'https://bell.house.gov/', 'https://bentz.house.gov', 'https://bera.house.gov', 'https://bergman.house.gov', 'https://beyer.house.gov', 'https://bice.house.gov', 'https://biggs.house.gov', 'https://sheribiggs.house.gov/', 'https://bilirakis.house.gov/', 'https://bishop.house.gov/', 'https://boebert.house.gov', 'https://bonamici.house.gov', 'https://bost.house.gov/', 'https://boyle.house.gov/', 'https://brecheen.house.gov', 'https://bresnahan.house.gov/', 'https://shontelbrown.house.gov', 'https://juliabrownley.house.gov', 'https://buchanan.house.gov/', 'https://budzinski.house.gov', 'https://burchett.house.gov', 'https://burlison.house.gov', 'https://bynum.house.gov/', 'https://calvert.house.gov/', 'https://cammack.house.gov', 'https://carbajal.house.gov', 'https://carey.house.gov', 'https://carson.house.gov/', 'https://buddycarter.house.gov/', 'https://carter.house.gov/', 'https://troycarter.house.gov', 'https://casar.house.gov', 'https://case.house.gov/', 'https://casten.house.gov', 'https://castor.house.gov/', 'https://castro.house.gov', 'https://cherfilus-mccormick.house.gov/', 'https://chu.house.gov/', 'https://ciscomani.house.gov', 'https://cisneros.house.gov/', 'https://clarke.house.gov/', 'https://cleaver.house.gov', 'https://cline.house.gov', 'https://cloud.house.gov', 'https://clyburn.house.gov/', 'https://clyde.house.gov', 'https://cohen.house.gov/', 'https://cole.house.gov', 'https://collins.house.gov', 'https://comer.house.gov/', 'https://conaway.house.gov/', 'https://connolly.house.gov/', 'https://correa.house.gov', 'https://costa.house.gov/', 'https://courtney.house.gov/', 'https://craig.house.gov', 'https://crane.house.gov', 'https://crank.house.gov/', 'https://crawford.house.gov/', 'https://crenshaw.house.gov/', 'https://crockett.house.gov', 'https://crow.house.gov/', 'https://cuellar.house.gov/', 'https://davids.house.gov/', 'https://davidson.house.gov/', 'https://davis.house.gov', 'https://dondavis.house.gov', 'https://dean.house.gov', 'https://degette.house.gov', 'https://delacruz.house.gov', 'https://delauro.house.gov/', 'https://delbene.house.gov', 'https://deluzio.house.gov', 'https://desaulnier.house.gov/', 'https://desjarlais.house.gov/', 'https://dexter.house.gov/', 'https://mariodiazbalart.house.gov/', 'https://debbiedingell.house.gov/', 'https://doggett.house.gov', 'https://donalds.house.gov', 'https://downing.house.gov/', 'https://dunn.house.gov', 'https://edwards.house.gov', 'https://elfreth.house.gov/', 'https://ellzey.house.gov/', 'https://emmer.house.gov/', 'https://escobar.house.gov', 'https://espaillat.house.gov', 'https://estes.house.gov/', 'https://evans.house.gov/', 'https://gabeevans.house.gov/', 'https://ezell.house.gov', 'https://fallon.house.gov', 'https://fedorchak.house.gov/', 'https://feenstra.house.gov', 'https://fields.house.gov/', 'https://figures.house.gov/', 'https://finstad.house.gov/', 'https://fischbach.house.gov', 'https://fitzgerald.house.gov', 'https://fitzpatrick.house.gov/', 'https://fleischmann.house.gov/', 'https://fletcher.house.gov', 'https://flood.house.gov/', 'https://fong.house.gov/', 'https://foster.house.gov', 'https://foushee.house.gov', 'https://foxx.house.gov/', 'https://frankel.house.gov', 'https://franklin.house.gov', 'https://friedman.house.gov/', 'https://frost.house.gov', 'https://fry.house.gov', 'https://fulcher.house.gov/', 'https://garamendi.house.gov/', 'https://garbarino.house.gov', 'https://chuygarcia.house.gov/', 'https://robertgarcia.house.gov', 'https://sylviagarcia.house.gov/', 'https://gill.house.gov/', 'https://gillen.house.gov/', 'https://gimenez.house.gov', 'https://golden.house.gov', 'https://craiggoldman.house.gov/', 'https://goldman.house.gov', 'https://gomez.house.gov/', 'https://gonzales.house.gov', 'https://gonzalez.house.gov', 'https://gooden.house.gov', 'https://goodlander.house.gov/', 'https://gosar.house.gov/', 'https://gottheimer.house.gov', 'https://graves.house.gov/', 'https://gray.house.gov/', 'https://algreen.house.gov', 'https://markgreen.house.gov/', 'https://greene.house.gov', 'https://morgangriffith.house.gov/', 'https://grijalva.house.gov/', 'https://grothman.house.gov', 'https://guest.house.gov', 'https://guthrie.house.gov/', 'https://hageman.house.gov', 'https://hamadeh.house.gov/', 'https://harder.house.gov/', 'https://haridopolos.house.gov/', 'https://harrigan.house.gov/', 'https://harris.house.gov/', 'https://markharris.house.gov/', 'https://harshbarger.house.gov', 'https://hayes.house.gov', 'https://hern.house.gov', 'https://hernandez.house.gov/', 'https://clayhiggins.house.gov', 'https://hill.house.gov/', 'https://himes.house.gov/', 'https://hinson.house.gov', 'https://horsford.house.gov', 'https://houchin.house.gov', 'https://houlahan.house.gov/', 'https://hoyer.house.gov/', 'https://hoyle.house.gov', 'https://hudson.house.gov', 'https://huffman.house.gov', 'https://huizenga.house.gov/', 'https://hunt.house.gov', 'https://hurd.house.gov/', 'https://issa.house.gov', 'https://ivey.house.gov', 'https://jack.house.gov/', 'https://jonathanjackson.house.gov', 'https://jackson.house.gov', 'https://sarajacobs.house.gov', 'https://james.house.gov', 'https://jayapal.house.gov', 'https://jeffries.house.gov', 'https://dustyjohnson.house.gov/', 'https://hankjohnson.house.gov/', 'https://juliejohnson.house.gov/', 'https://mikejohnson.house.gov', 'https://jordan.house.gov/', 'https://joyce.house.gov', 'https://johnjoyce.house.gov/', 'https://kamlager-dove.house.gov', 'https://kaptur.house.gov/', 'https://kean.house.gov', 'https://keating.house.gov/', 'https://kelly.house.gov', 'https://robinkelly.house.gov/', 'https://trentkelly.house.gov/', 'https://mikekennedy.house.gov/', 'https://kennedy.house.gov', 'https://khanna.house.gov', 'https://kiggans.house.gov', 'https://kiley.house.gov', 'https://youngkim.house.gov', 'https://king-hinds.house.gov/', 'https://knott.house.gov/', 'https://krishnamoorthi.house.gov', 'https://kustoff.house.gov', 'https://lahood.house.gov/', 'https://lalota.house.gov', 'https://lamalfa.house.gov', 'https://landsman.house.gov', 'https://langworthy.house.gov', 'https://larsen.house.gov', 'https://larson.house.gov/', 'https://latimer.house.gov/', 'https://latta.house.gov/', 'https://lawler.house.gov', 'https://laurellee.house.gov', 'https://summerlee.house.gov', 'https://susielee.house.gov', 'https://fernandez.house.gov', 'https://letlow.house.gov', 'https://levin.house.gov/', 'https://liccardo.house.gov/', 'https://lieu.house.gov/', 'https://lofgren.house.gov/', 'https://loudermilk.house.gov', 'https://lucas.house.gov', 'https://luna.house.gov', 'https://luttrell.house.gov', 'https://lynch.house.gov/', 'https://mace.house.gov', 'https://mackenzie.house.gov/', 'https://magaziner.house.gov', 'https://malliotakis.house.gov', 'https://maloy.house.gov', 'https://mann.house.gov', 'https://mannion.house.gov/', 'https://massie.house.gov', 'https://mast.house.gov', 'https://matsui.house.gov', 'https://mcbath.house.gov', 'https://mcbride.house.gov/', 'https://mccaul.house.gov', 'https://mcclain.house.gov', 'https://mcclaindelaney.house.gov/', 'https://mcclellan.house.gov/', 'https://mcclintock.house.gov/', 'https://mccollum.house.gov', 'https://mccormick.house.gov', 'https://mcdonaldrivet.house.gov/', 'https://mcdowell.house.gov/', 'https://mcgarvey.house.gov', 'https://mcgovern.house.gov/', 'https://mcguire.house.gov/', 'https://mciver.house.gov/', 'https://meeks.house.gov', 'https://menendez.house.gov', 'https://meng.house.gov', 'https://messmer.house.gov/', 'https://meuser.house.gov', 'https://mfume.house.gov/', 'https://miller.house.gov/', 'https://marymiller.house.gov', 'https://maxmiller.house.gov', 'https://millermeeks.house.gov/', 'https://mills.house.gov', 'https://min.house.gov/', 'https://moolenaar.house.gov/', 'https://barrymoore.house.gov', 'https://blakemoore.house.gov', 'https://gwenmoore.house.gov', 'https://rileymoore.house.gov/', 'https://timmoore.house.gov/', 'https://moran.house.gov', 'https://morelle.house.gov', 'https://morrison.house.gov/', 'https://moskowitz.house.gov', 'https://moulton.house.gov/', 'https://moylan.house.gov', 'https://mrvan.house.gov', 'https://kevinmullin.house.gov', 'https://murphy.house.gov', 'https://nadler.house.gov', 'https://neal.house.gov/', 'https://neguse.house.gov/', 'https://nehls.house.gov', 'https://newhouse.house.gov', 'https://norcross.house.gov', 'https://norman.house.gov', 'https://norton.house.gov/', 'https://nunn.house.gov', 'https://obernolte.house.gov', 'https://ocasio-cortez.house.gov/', 'https://ogles.house.gov', 'https://olszewski.house.gov/', 'https://omar.house.gov/', 'https://onder.house.gov/', 'https://owens.house.gov', 'https://pallone.house.gov', 'https://palmer.house.gov/', 'https://panetta.house.gov', 'https://pappas.house.gov', 'https://pelosi.house.gov/', 'https://gluesenkampperez.house.gov', 'https://perry.house.gov/', 'https://scottpeters.house.gov', 'https://pettersen.house.gov', 'https://pfluger.house.gov', 'https://pingree.house.gov/', 'https://plaskett.house.gov/', 'https://pocan.house.gov', 'https://pou.house.gov/', 'https://pressley.house.gov', 'https://quigley.house.gov/', 'https://radewagen.house.gov', 'https://ramirez.house.gov', 'https://randall.house.gov/', 'https://raskin.house.gov', 'https://reschenthaler.house.gov/', 'https://riley.house.gov/', 'https://rivas.house.gov/', 'https://halrogers.house.gov/', 'https://mikerogers.house.gov/', 'https://johnrose.house.gov/', 'https://ross.house.gov', 'https://rouzer.house.gov/', 'https://roy.house.gov', 'https://ruiz.house.gov', 'https://rulli.house.gov', 'https://rutherford.house.gov', 'https://patryan.house.gov/', 'https://salazar.house.gov', 'https://salinas.house.gov', 'https://lindasanchez.house.gov/', 'https://scalise.house.gov/', 'https://scanlon.house.gov/', 'https://schakowsky.house.gov', 'https://schmidt.house.gov/', 'https://schneider.house.gov', 'https://scholten.house.gov', 'https://schrier.house.gov', 'https://schweikert.house.gov/', 'https://austinscott.house.gov/', 'https://davidscott.house.gov/', 'https://bobbyscott.house.gov', 'https://keithself.house.gov', 'https://sessions.house.gov', 'https://sewell.house.gov/', 'https://sherman.house.gov', 'https://sherrill.house.gov/', 'https://shreve.house.gov/', 'https://simon.house.gov/', 'https://simpson.house.gov', 'https://adamsmith.house.gov/', 'https://adriansmith.house.gov/', 'https://chrissmith.house.gov/', 'https://jasonsmith.house.gov', 'https://smucker.house.gov/', 'https://sorensen.house.gov', 'https://soto.house.gov', 'https://spartz.house.gov', 'https://stansbury.house.gov/', 'https://stanton.house.gov/', 'https://stauber.house.gov', 'https://stefanik.house.gov/', 'https://steil.house.gov', 'https://steube.house.gov/', 'https://stevens.house.gov/', 'https://strickland.house.gov', 'https://strong.house.gov', 'https://stutzman.house.gov/', 'https://subramanyam.house.gov/', 'https://suozzi.house.gov', 'https://swalwell.house.gov', 'https://sykes.house.gov', 'https://takano.house.gov', 'https://taylor.house.gov/', 'https://tenney.house.gov/', 'https://thanedar.house.gov', 'https://benniethompson.house.gov/', 'https://thompson.house.gov', 'https://mikethompson.house.gov/', 'https://tiffany.house.gov/', 'https://timmons.house.gov/', 'https://titus.house.gov/', 'https://tlaib.house.gov/', 'https://tokuda.house.gov', 'https://tonko.house.gov/', 'https://torres.house.gov/', 'https://ritchietorres.house.gov', 'https://trahan.house.gov', 'https://tran.house.gov/', 'https://turner.house.gov/', 'https://sylvesterturner.house.gov/', 'https://underwood.house.gov/', 'https://valadao.house.gov', 'https://vandrew.house.gov', 'https://vanduyne.house.gov', 'https://vanorden.house.gov', 'https://vargas.house.gov', 'https://vasquez.house.gov', 'https://veasey.house.gov', 'https://velazquez.house.gov', 'https://vindman.house.gov/', 'https://wagner.house.gov', 'https://walberg.house.gov/', 'https://waltz.house.gov', 'https://wassermanschultz.house.gov/', 'https://waters.house.gov', 'https://watsoncoleman.house.gov/', 'https://weber.house.gov', 'https://webster.house.gov/', 'https://westerman.house.gov/', 'https://whitesides.house.gov/', 'https://wied.house.gov/', 'https://nikemawilliams.house.gov', 'https://williams.house.gov', 'https://wilson.house.gov/', 'https://joewilson.house.gov/', 'https://wittman.house.gov/', 'https://womack.house.gov/', 'https://yakym.house.gov', 'https://zinke.house.gov']\n"
     ]
    }
   ],
   "source": [
    "import re\n",
    "\n",
    "# Must start with http:// or https://\n",
    "# Must end with .house.gov or .house.gov/\n",
    "regex = r\"^https?://.*\\.house\\.gov/?$\"\n",
    "\n",
    "# Let's write some tests!\n",
    "assert re.match(regex, \"http://joel.house.gov\")\n",
    "assert re.match(regex, \"https://joel.house.gov\")\n",
    "assert re.match(regex, \"http://joel.house.gov/\")\n",
    "assert re.match(regex, \"https://joel.house.gov/\")\n",
    "assert not re.match(regex, \"joel.house.gov\")\n",
    "assert not re.match(regex, \"http://joel.house.com\")\n",
    "assert not re.match(regex, \"https://joel.house.gov/biography\")\n",
    "\n",
    "# And now apply\n",
    "good_urls = [url for url in all_urls if re.match(regex, url)]\n",
    "\n",
    "print(len(good_urls))  # still 862 for me\n",
    "print(good_urls)"
   ]
  },
  {
   "cell_type": "code",
   "execution_count": 19,
   "metadata": {},
   "outputs": [
    {
     "name": "stdout",
     "output_type": "stream",
     "text": [
      "439\n"
     ]
    }
   ],
   "source": [
    "good_urls = list(set(good_urls))\n",
    "\n",
    "print(len(good_urls))"
   ]
  },
  {
   "cell_type": "code",
   "execution_count": 20,
   "metadata": {},
   "outputs": [
    {
     "name": "stdout",
     "output_type": "stream",
     "text": [
      "{'https://jayapal.house.gov/category/press-releases/', 'https://jayapal.house.gov/category/news/'}\n"
     ]
    }
   ],
   "source": [
    "html = requests.get('https://jayapal.house.gov').text\n",
    "soup = BeautifulSoup(html, \"html5lib\")\n",
    "\n",
    "# Use a set because the links might appear multiple times.\n",
    "links = {a['href'] for a in soup('a') if 'press releases' in a.text.lower()}\n",
    "print(links)"
   ]
  },
  {
   "cell_type": "code",
   "execution_count": 21,
   "metadata": {},
   "outputs": [],
   "source": [
    "# from typing import Dict, Set\n",
    "\n",
    "# press_releases: Dict[str, Set[str]] = {}\n",
    "\n",
    "# for house_url in good_urls:\n",
    "#     html = requests.get(house_url).text\n",
    "#     soup = BeautifulSoup(html, 'html5lib')\n",
    "#     pr_links = {a['href'] for a in soup('a') if 'press releases' in a.text.lower()}\n",
    "\n",
    "#     print(f\"{house_url}: {pr_links}\")\n",
    "#     press_releases[house_url] = pr_links"
   ]
  },
  {
   "cell_type": "code",
   "execution_count": 22,
   "metadata": {},
   "outputs": [
    {
     "ename": "NameError",
     "evalue": "name 'press_releases' is not defined",
     "output_type": "error",
     "traceback": [
      "\u001b[1;31m---------------------------------------------------------------------------\u001b[0m",
      "\u001b[1;31mNameError\u001b[0m                                 Traceback (most recent call last)",
      "Cell \u001b[1;32mIn[22], line 1\u001b[0m\n\u001b[1;32m----> 1\u001b[0m \u001b[38;5;28mprint\u001b[39m(\u001b[43mpress_releases\u001b[49m)\n",
      "\u001b[1;31mNameError\u001b[0m: name 'press_releases' is not defined"
     ]
    }
   ],
   "source": [
    "# print(press_releases)"
   ]
  },
  {
   "cell_type": "code",
   "execution_count": null,
   "metadata": {},
   "outputs": [],
   "source": [
    "# def paragraph_mentions(text: str, keyword: str) -> bool:\n",
    "#     \"\"\"\n",
    "#     Returns True if a <p> inside the text mentions {keyword}\n",
    "#     \"\"\"\n",
    "#     soup = BeautifulSoup(text, 'html5lib')\n",
    "#     paragraphs = [p.get_text() for p in soup('p')]\n",
    "\n",
    "#     return any(keyword.lower() in paragraph.lower() for paragraph in paragraphs)\n",
    "\n",
    "# text = \"\"\"<body><h1>Facebook</h1><p>Twitter</p>\"\"\"\n",
    "# # assert paragraph_mentions(text, \"twitter\")\n",
    "# assert not paragraph_mentions(text, \"twitter\")\n",
    "# assert paragraph_mentions(text, \"facebook\")\n",
    "# assert not paragraph_mentions(text, \"facebook\")"
   ]
  },
  {
   "cell_type": "code",
   "execution_count": 23,
   "metadata": {},
   "outputs": [
    {
     "name": "stdout",
     "output_type": "stream",
     "text": [
      "[datetime.datetime(2017, 12, 2, 20, 13, 49, tzinfo=tzutc()), datetime.datetime(2018, 11, 30, 22, 41, 16, tzinfo=tzutc()), datetime.datetime(2019, 12, 1, 2, 57, 18, tzinfo=tzutc()), datetime.datetime(2020, 11, 21, 16, 21, 49, tzinfo=tzutc()), datetime.datetime(2021, 11, 24, 13, 53, 23, tzinfo=tzutc()), datetime.datetime(2022, 11, 22, 2, 25, 22, tzinfo=tzutc()), datetime.datetime(2023, 12, 2, 3, 15, 48, tzinfo=tzutc()), datetime.datetime(2018, 2, 23, 15, 51, 4, tzinfo=tzutc()), datetime.datetime(2017, 12, 19, 0, 12, 40, tzinfo=tzutc()), datetime.datetime(2018, 1, 31, 23, 51, 16, tzinfo=tzutc()), datetime.datetime(2018, 12, 19, 19, 44, 45, tzinfo=tzutc()), datetime.datetime(2018, 9, 5, 2, 43, 52, tzinfo=tzutc()), datetime.datetime(2019, 2, 1, 20, 25, 46, tzinfo=tzutc()), datetime.datetime(2013, 7, 5, 2, 2, 28, tzinfo=tzutc()), datetime.datetime(2023, 3, 19, 20, 15, 39, tzinfo=tzutc()), datetime.datetime(2017, 5, 10, 17, 22, 45, tzinfo=tzutc()), datetime.datetime(2013, 11, 15, 5, 33, 22, tzinfo=tzutc()), datetime.datetime(2012, 9, 18, 4, 20, 23, tzinfo=tzutc()), datetime.datetime(2016, 7, 19, 17, 34, 31, tzinfo=tzutc()), datetime.datetime(2015, 11, 11, 14, 15, 36, tzinfo=tzutc()), datetime.datetime(2016, 5, 31, 14, 33, 6, tzinfo=tzutc()), datetime.datetime(2018, 9, 22, 15, 23, 50, tzinfo=tzutc()), datetime.datetime(2015, 6, 30, 0, 33, 3, tzinfo=tzutc()), datetime.datetime(2020, 9, 26, 14, 19, 22, tzinfo=tzutc()), datetime.datetime(2013, 8, 21, 13, 26, 5, tzinfo=tzutc()), datetime.datetime(2013, 8, 18, 5, 3, 41, tzinfo=tzutc()), datetime.datetime(2015, 7, 30, 1, 54, 55, tzinfo=tzutc()), datetime.datetime(2018, 9, 22, 17, 30, 59, tzinfo=tzutc()), datetime.datetime(2014, 11, 9, 2, 31, 24, tzinfo=tzutc()), datetime.datetime(2013, 11, 10, 6, 52, 56, tzinfo=tzutc())]\n",
      "Counter({11: 8, 12: 5, 9: 5, 7: 3, 2: 2, 5: 2, 8: 2, 1: 1, 3: 1, 6: 1})\n",
      "Counter({2: 7, 5: 6, 1: 6, 4: 5, 6: 5, 3: 1})\n",
      "[{'id': 726318877, 'node_id': 'R_kgDOK0q_HQ', 'name': 'advent2023', 'full_name': 'joelgrus/advent2023', 'private': False, 'owner': {'login': 'joelgrus', 'id': 1308313, 'node_id': 'MDQ6VXNlcjEzMDgzMTM=', 'avatar_url': 'https://avatars.githubusercontent.com/u/1308313?v=4', 'gravatar_id': '', 'url': 'https://api.github.com/users/joelgrus', 'html_url': 'https://github.com/joelgrus', 'followers_url': 'https://api.github.com/users/joelgrus/followers', 'following_url': 'https://api.github.com/users/joelgrus/following{/other_user}', 'gists_url': 'https://api.github.com/users/joelgrus/gists{/gist_id}', 'starred_url': 'https://api.github.com/users/joelgrus/starred{/owner}{/repo}', 'subscriptions_url': 'https://api.github.com/users/joelgrus/subscriptions', 'organizations_url': 'https://api.github.com/users/joelgrus/orgs', 'repos_url': 'https://api.github.com/users/joelgrus/repos', 'events_url': 'https://api.github.com/users/joelgrus/events{/privacy}', 'received_events_url': 'https://api.github.com/users/joelgrus/received_events', 'type': 'User', 'user_view_type': 'public', 'site_admin': False}, 'html_url': 'https://github.com/joelgrus/advent2023', 'description': 'advent of code 2023', 'fork': False, 'url': 'https://api.github.com/repos/joelgrus/advent2023', 'forks_url': 'https://api.github.com/repos/joelgrus/advent2023/forks', 'keys_url': 'https://api.github.com/repos/joelgrus/advent2023/keys{/key_id}', 'collaborators_url': 'https://api.github.com/repos/joelgrus/advent2023/collaborators{/collaborator}', 'teams_url': 'https://api.github.com/repos/joelgrus/advent2023/teams', 'hooks_url': 'https://api.github.com/repos/joelgrus/advent2023/hooks', 'issue_events_url': 'https://api.github.com/repos/joelgrus/advent2023/issues/events{/number}', 'events_url': 'https://api.github.com/repos/joelgrus/advent2023/events', 'assignees_url': 'https://api.github.com/repos/joelgrus/advent2023/assignees{/user}', 'branches_url': 'https://api.github.com/repos/joelgrus/advent2023/branches{/branch}', 'tags_url': 'https://api.github.com/repos/joelgrus/advent2023/tags', 'blobs_url': 'https://api.github.com/repos/joelgrus/advent2023/git/blobs{/sha}', 'git_tags_url': 'https://api.github.com/repos/joelgrus/advent2023/git/tags{/sha}', 'git_refs_url': 'https://api.github.com/repos/joelgrus/advent2023/git/refs{/sha}', 'trees_url': 'https://api.github.com/repos/joelgrus/advent2023/git/trees{/sha}', 'statuses_url': 'https://api.github.com/repos/joelgrus/advent2023/statuses/{sha}', 'languages_url': 'https://api.github.com/repos/joelgrus/advent2023/languages', 'stargazers_url': 'https://api.github.com/repos/joelgrus/advent2023/stargazers', 'contributors_url': 'https://api.github.com/repos/joelgrus/advent2023/contributors', 'subscribers_url': 'https://api.github.com/repos/joelgrus/advent2023/subscribers', 'subscription_url': 'https://api.github.com/repos/joelgrus/advent2023/subscription', 'commits_url': 'https://api.github.com/repos/joelgrus/advent2023/commits{/sha}', 'git_commits_url': 'https://api.github.com/repos/joelgrus/advent2023/git/commits{/sha}', 'comments_url': 'https://api.github.com/repos/joelgrus/advent2023/comments{/number}', 'issue_comment_url': 'https://api.github.com/repos/joelgrus/advent2023/issues/comments{/number}', 'contents_url': 'https://api.github.com/repos/joelgrus/advent2023/contents/{+path}', 'compare_url': 'https://api.github.com/repos/joelgrus/advent2023/compare/{base}...{head}', 'merges_url': 'https://api.github.com/repos/joelgrus/advent2023/merges', 'archive_url': 'https://api.github.com/repos/joelgrus/advent2023/{archive_format}{/ref}', 'downloads_url': 'https://api.github.com/repos/joelgrus/advent2023/downloads', 'issues_url': 'https://api.github.com/repos/joelgrus/advent2023/issues{/number}', 'pulls_url': 'https://api.github.com/repos/joelgrus/advent2023/pulls{/number}', 'milestones_url': 'https://api.github.com/repos/joelgrus/advent2023/milestones{/number}', 'notifications_url': 'https://api.github.com/repos/joelgrus/advent2023/notifications{?since,all,participating}', 'labels_url': 'https://api.github.com/repos/joelgrus/advent2023/labels{/name}', 'releases_url': 'https://api.github.com/repos/joelgrus/advent2023/releases{/id}', 'deployments_url': 'https://api.github.com/repos/joelgrus/advent2023/deployments', 'created_at': '2023-12-02T03:15:48Z', 'updated_at': '2023-12-03T20:17:13Z', 'pushed_at': '2023-12-04T23:41:08Z', 'git_url': 'git://github.com/joelgrus/advent2023.git', 'ssh_url': 'git@github.com:joelgrus/advent2023.git', 'clone_url': 'https://github.com/joelgrus/advent2023.git', 'svn_url': 'https://github.com/joelgrus/advent2023', 'homepage': None, 'size': 35, 'stargazers_count': 4, 'watchers_count': 4, 'language': 'Python', 'has_issues': True, 'has_projects': True, 'has_downloads': True, 'has_wiki': True, 'has_pages': False, 'has_discussions': False, 'forks_count': 0, 'mirror_url': None, 'archived': False, 'disabled': False, 'open_issues_count': 0, 'license': {'key': 'mit', 'name': 'MIT License', 'spdx_id': 'MIT', 'url': 'https://api.github.com/licenses/mit', 'node_id': 'MDc6TGljZW5zZTEz'}, 'allow_forking': True, 'is_template': False, 'web_commit_signoff_required': False, 'topics': [], 'visibility': 'public', 'forks': 0, 'open_issues': 0, 'watchers': 4, 'default_branch': 'master'}, {'id': 26382146, 'node_id': 'MDEwOlJlcG9zaXRvcnkyNjM4MjE0Ng==', 'name': 'data-science-from-scratch', 'full_name': 'joelgrus/data-science-from-scratch', 'private': False, 'owner': {'login': 'joelgrus', 'id': 1308313, 'node_id': 'MDQ6VXNlcjEzMDgzMTM=', 'avatar_url': 'https://avatars.githubusercontent.com/u/1308313?v=4', 'gravatar_id': '', 'url': 'https://api.github.com/users/joelgrus', 'html_url': 'https://github.com/joelgrus', 'followers_url': 'https://api.github.com/users/joelgrus/followers', 'following_url': 'https://api.github.com/users/joelgrus/following{/other_user}', 'gists_url': 'https://api.github.com/users/joelgrus/gists{/gist_id}', 'starred_url': 'https://api.github.com/users/joelgrus/starred{/owner}{/repo}', 'subscriptions_url': 'https://api.github.com/users/joelgrus/subscriptions', 'organizations_url': 'https://api.github.com/users/joelgrus/orgs', 'repos_url': 'https://api.github.com/users/joelgrus/repos', 'events_url': 'https://api.github.com/users/joelgrus/events{/privacy}', 'received_events_url': 'https://api.github.com/users/joelgrus/received_events', 'type': 'User', 'user_view_type': 'public', 'site_admin': False}, 'html_url': 'https://github.com/joelgrus/data-science-from-scratch', 'description': 'code for Data Science From Scratch book', 'fork': False, 'url': 'https://api.github.com/repos/joelgrus/data-science-from-scratch', 'forks_url': 'https://api.github.com/repos/joelgrus/data-science-from-scratch/forks', 'keys_url': 'https://api.github.com/repos/joelgrus/data-science-from-scratch/keys{/key_id}', 'collaborators_url': 'https://api.github.com/repos/joelgrus/data-science-from-scratch/collaborators{/collaborator}', 'teams_url': 'https://api.github.com/repos/joelgrus/data-science-from-scratch/teams', 'hooks_url': 'https://api.github.com/repos/joelgrus/data-science-from-scratch/hooks', 'issue_events_url': 'https://api.github.com/repos/joelgrus/data-science-from-scratch/issues/events{/number}', 'events_url': 'https://api.github.com/repos/joelgrus/data-science-from-scratch/events', 'assignees_url': 'https://api.github.com/repos/joelgrus/data-science-from-scratch/assignees{/user}', 'branches_url': 'https://api.github.com/repos/joelgrus/data-science-from-scratch/branches{/branch}', 'tags_url': 'https://api.github.com/repos/joelgrus/data-science-from-scratch/tags', 'blobs_url': 'https://api.github.com/repos/joelgrus/data-science-from-scratch/git/blobs{/sha}', 'git_tags_url': 'https://api.github.com/repos/joelgrus/data-science-from-scratch/git/tags{/sha}', 'git_refs_url': 'https://api.github.com/repos/joelgrus/data-science-from-scratch/git/refs{/sha}', 'trees_url': 'https://api.github.com/repos/joelgrus/data-science-from-scratch/git/trees{/sha}', 'statuses_url': 'https://api.github.com/repos/joelgrus/data-science-from-scratch/statuses/{sha}', 'languages_url': 'https://api.github.com/repos/joelgrus/data-science-from-scratch/languages', 'stargazers_url': 'https://api.github.com/repos/joelgrus/data-science-from-scratch/stargazers', 'contributors_url': 'https://api.github.com/repos/joelgrus/data-science-from-scratch/contributors', 'subscribers_url': 'https://api.github.com/repos/joelgrus/data-science-from-scratch/subscribers', 'subscription_url': 'https://api.github.com/repos/joelgrus/data-science-from-scratch/subscription', 'commits_url': 'https://api.github.com/repos/joelgrus/data-science-from-scratch/commits{/sha}', 'git_commits_url': 'https://api.github.com/repos/joelgrus/data-science-from-scratch/git/commits{/sha}', 'comments_url': 'https://api.github.com/repos/joelgrus/data-science-from-scratch/comments{/number}', 'issue_comment_url': 'https://api.github.com/repos/joelgrus/data-science-from-scratch/issues/comments{/number}', 'contents_url': 'https://api.github.com/repos/joelgrus/data-science-from-scratch/contents/{+path}', 'compare_url': 'https://api.github.com/repos/joelgrus/data-science-from-scratch/compare/{base}...{head}', 'merges_url': 'https://api.github.com/repos/joelgrus/data-science-from-scratch/merges', 'archive_url': 'https://api.github.com/repos/joelgrus/data-science-from-scratch/{archive_format}{/ref}', 'downloads_url': 'https://api.github.com/repos/joelgrus/data-science-from-scratch/downloads', 'issues_url': 'https://api.github.com/repos/joelgrus/data-science-from-scratch/issues{/number}', 'pulls_url': 'https://api.github.com/repos/joelgrus/data-science-from-scratch/pulls{/number}', 'milestones_url': 'https://api.github.com/repos/joelgrus/data-science-from-scratch/milestones{/number}', 'notifications_url': 'https://api.github.com/repos/joelgrus/data-science-from-scratch/notifications{?since,all,participating}', 'labels_url': 'https://api.github.com/repos/joelgrus/data-science-from-scratch/labels{/name}', 'releases_url': 'https://api.github.com/repos/joelgrus/data-science-from-scratch/releases{/id}', 'deployments_url': 'https://api.github.com/repos/joelgrus/data-science-from-scratch/deployments', 'created_at': '2014-11-09T02:31:24Z', 'updated_at': '2025-01-05T10:21:08Z', 'pushed_at': '2023-11-09T21:18:24Z', 'git_url': 'git://github.com/joelgrus/data-science-from-scratch.git', 'ssh_url': 'git@github.com:joelgrus/data-science-from-scratch.git', 'clone_url': 'https://github.com/joelgrus/data-science-from-scratch.git', 'svn_url': 'https://github.com/joelgrus/data-science-from-scratch', 'homepage': None, 'size': 769, 'stargazers_count': 8786, 'watchers_count': 8786, 'language': 'Python', 'has_issues': True, 'has_projects': True, 'has_downloads': True, 'has_wiki': True, 'has_pages': False, 'has_discussions': False, 'forks_count': 4545, 'mirror_url': None, 'archived': False, 'disabled': False, 'open_issues_count': 82, 'license': {'key': 'mit', 'name': 'MIT License', 'spdx_id': 'MIT', 'url': 'https://api.github.com/licenses/mit', 'node_id': 'MDc6TGljZW5zZTEz'}, 'allow_forking': True, 'is_template': False, 'web_commit_signoff_required': False, 'topics': [], 'visibility': 'public', 'forks': 4545, 'open_issues': 82, 'watchers': 8786, 'default_branch': 'master'}, {'id': 616173441, 'node_id': 'R_kgDOJLoPgQ', 'name': 'bracket-filler', 'full_name': 'joelgrus/bracket-filler', 'private': False, 'owner': {'login': 'joelgrus', 'id': 1308313, 'node_id': 'MDQ6VXNlcjEzMDgzMTM=', 'avatar_url': 'https://avatars.githubusercontent.com/u/1308313?v=4', 'gravatar_id': '', 'url': 'https://api.github.com/users/joelgrus', 'html_url': 'https://github.com/joelgrus', 'followers_url': 'https://api.github.com/users/joelgrus/followers', 'following_url': 'https://api.github.com/users/joelgrus/following{/other_user}', 'gists_url': 'https://api.github.com/users/joelgrus/gists{/gist_id}', 'starred_url': 'https://api.github.com/users/joelgrus/starred{/owner}{/repo}', 'subscriptions_url': 'https://api.github.com/users/joelgrus/subscriptions', 'organizations_url': 'https://api.github.com/users/joelgrus/orgs', 'repos_url': 'https://api.github.com/users/joelgrus/repos', 'events_url': 'https://api.github.com/users/joelgrus/events{/privacy}', 'received_events_url': 'https://api.github.com/users/joelgrus/received_events', 'type': 'User', 'user_view_type': 'public', 'site_admin': False}, 'html_url': 'https://github.com/joelgrus/bracket-filler', 'description': 'fill in your own bracket', 'fork': False, 'url': 'https://api.github.com/repos/joelgrus/bracket-filler', 'forks_url': 'https://api.github.com/repos/joelgrus/bracket-filler/forks', 'keys_url': 'https://api.github.com/repos/joelgrus/bracket-filler/keys{/key_id}', 'collaborators_url': 'https://api.github.com/repos/joelgrus/bracket-filler/collaborators{/collaborator}', 'teams_url': 'https://api.github.com/repos/joelgrus/bracket-filler/teams', 'hooks_url': 'https://api.github.com/repos/joelgrus/bracket-filler/hooks', 'issue_events_url': 'https://api.github.com/repos/joelgrus/bracket-filler/issues/events{/number}', 'events_url': 'https://api.github.com/repos/joelgrus/bracket-filler/events', 'assignees_url': 'https://api.github.com/repos/joelgrus/bracket-filler/assignees{/user}', 'branches_url': 'https://api.github.com/repos/joelgrus/bracket-filler/branches{/branch}', 'tags_url': 'https://api.github.com/repos/joelgrus/bracket-filler/tags', 'blobs_url': 'https://api.github.com/repos/joelgrus/bracket-filler/git/blobs{/sha}', 'git_tags_url': 'https://api.github.com/repos/joelgrus/bracket-filler/git/tags{/sha}', 'git_refs_url': 'https://api.github.com/repos/joelgrus/bracket-filler/git/refs{/sha}', 'trees_url': 'https://api.github.com/repos/joelgrus/bracket-filler/git/trees{/sha}', 'statuses_url': 'https://api.github.com/repos/joelgrus/bracket-filler/statuses/{sha}', 'languages_url': 'https://api.github.com/repos/joelgrus/bracket-filler/languages', 'stargazers_url': 'https://api.github.com/repos/joelgrus/bracket-filler/stargazers', 'contributors_url': 'https://api.github.com/repos/joelgrus/bracket-filler/contributors', 'subscribers_url': 'https://api.github.com/repos/joelgrus/bracket-filler/subscribers', 'subscription_url': 'https://api.github.com/repos/joelgrus/bracket-filler/subscription', 'commits_url': 'https://api.github.com/repos/joelgrus/bracket-filler/commits{/sha}', 'git_commits_url': 'https://api.github.com/repos/joelgrus/bracket-filler/git/commits{/sha}', 'comments_url': 'https://api.github.com/repos/joelgrus/bracket-filler/comments{/number}', 'issue_comment_url': 'https://api.github.com/repos/joelgrus/bracket-filler/issues/comments{/number}', 'contents_url': 'https://api.github.com/repos/joelgrus/bracket-filler/contents/{+path}', 'compare_url': 'https://api.github.com/repos/joelgrus/bracket-filler/compare/{base}...{head}', 'merges_url': 'https://api.github.com/repos/joelgrus/bracket-filler/merges', 'archive_url': 'https://api.github.com/repos/joelgrus/bracket-filler/{archive_format}{/ref}', 'downloads_url': 'https://api.github.com/repos/joelgrus/bracket-filler/downloads', 'issues_url': 'https://api.github.com/repos/joelgrus/bracket-filler/issues{/number}', 'pulls_url': 'https://api.github.com/repos/joelgrus/bracket-filler/pulls{/number}', 'milestones_url': 'https://api.github.com/repos/joelgrus/bracket-filler/milestones{/number}', 'notifications_url': 'https://api.github.com/repos/joelgrus/bracket-filler/notifications{?since,all,participating}', 'labels_url': 'https://api.github.com/repos/joelgrus/bracket-filler/labels{/name}', 'releases_url': 'https://api.github.com/repos/joelgrus/bracket-filler/releases{/id}', 'deployments_url': 'https://api.github.com/repos/joelgrus/bracket-filler/deployments', 'created_at': '2023-03-19T20:15:39Z', 'updated_at': '2023-03-19T20:15:58Z', 'pushed_at': '2023-03-19T22:10:43Z', 'git_url': 'git://github.com/joelgrus/bracket-filler.git', 'ssh_url': 'git@github.com:joelgrus/bracket-filler.git', 'clone_url': 'https://github.com/joelgrus/bracket-filler.git', 'svn_url': 'https://github.com/joelgrus/bracket-filler', 'homepage': None, 'size': 99, 'stargazers_count': 0, 'watchers_count': 0, 'language': 'Svelte', 'has_issues': True, 'has_projects': True, 'has_downloads': True, 'has_wiki': True, 'has_pages': False, 'has_discussions': False, 'forks_count': 0, 'mirror_url': None, 'archived': False, 'disabled': False, 'open_issues_count': 0, 'license': None, 'allow_forking': True, 'is_template': False, 'web_commit_signoff_required': False, 'topics': [], 'visibility': 'public', 'forks': 0, 'open_issues': 0, 'watchers': 0, 'default_branch': 'master'}, {'id': 569069856, 'node_id': 'R_kgDOIetRIA', 'name': 'advent2022', 'full_name': 'joelgrus/advent2022', 'private': False, 'owner': {'login': 'joelgrus', 'id': 1308313, 'node_id': 'MDQ6VXNlcjEzMDgzMTM=', 'avatar_url': 'https://avatars.githubusercontent.com/u/1308313?v=4', 'gravatar_id': '', 'url': 'https://api.github.com/users/joelgrus', 'html_url': 'https://github.com/joelgrus', 'followers_url': 'https://api.github.com/users/joelgrus/followers', 'following_url': 'https://api.github.com/users/joelgrus/following{/other_user}', 'gists_url': 'https://api.github.com/users/joelgrus/gists{/gist_id}', 'starred_url': 'https://api.github.com/users/joelgrus/starred{/owner}{/repo}', 'subscriptions_url': 'https://api.github.com/users/joelgrus/subscriptions', 'organizations_url': 'https://api.github.com/users/joelgrus/orgs', 'repos_url': 'https://api.github.com/users/joelgrus/repos', 'events_url': 'https://api.github.com/users/joelgrus/events{/privacy}', 'received_events_url': 'https://api.github.com/users/joelgrus/received_events', 'type': 'User', 'user_view_type': 'public', 'site_admin': False}, 'html_url': 'https://github.com/joelgrus/advent2022', 'description': None, 'fork': False, 'url': 'https://api.github.com/repos/joelgrus/advent2022', 'forks_url': 'https://api.github.com/repos/joelgrus/advent2022/forks', 'keys_url': 'https://api.github.com/repos/joelgrus/advent2022/keys{/key_id}', 'collaborators_url': 'https://api.github.com/repos/joelgrus/advent2022/collaborators{/collaborator}', 'teams_url': 'https://api.github.com/repos/joelgrus/advent2022/teams', 'hooks_url': 'https://api.github.com/repos/joelgrus/advent2022/hooks', 'issue_events_url': 'https://api.github.com/repos/joelgrus/advent2022/issues/events{/number}', 'events_url': 'https://api.github.com/repos/joelgrus/advent2022/events', 'assignees_url': 'https://api.github.com/repos/joelgrus/advent2022/assignees{/user}', 'branches_url': 'https://api.github.com/repos/joelgrus/advent2022/branches{/branch}', 'tags_url': 'https://api.github.com/repos/joelgrus/advent2022/tags', 'blobs_url': 'https://api.github.com/repos/joelgrus/advent2022/git/blobs{/sha}', 'git_tags_url': 'https://api.github.com/repos/joelgrus/advent2022/git/tags{/sha}', 'git_refs_url': 'https://api.github.com/repos/joelgrus/advent2022/git/refs{/sha}', 'trees_url': 'https://api.github.com/repos/joelgrus/advent2022/git/trees{/sha}', 'statuses_url': 'https://api.github.com/repos/joelgrus/advent2022/statuses/{sha}', 'languages_url': 'https://api.github.com/repos/joelgrus/advent2022/languages', 'stargazers_url': 'https://api.github.com/repos/joelgrus/advent2022/stargazers', 'contributors_url': 'https://api.github.com/repos/joelgrus/advent2022/contributors', 'subscribers_url': 'https://api.github.com/repos/joelgrus/advent2022/subscribers', 'subscription_url': 'https://api.github.com/repos/joelgrus/advent2022/subscription', 'commits_url': 'https://api.github.com/repos/joelgrus/advent2022/commits{/sha}', 'git_commits_url': 'https://api.github.com/repos/joelgrus/advent2022/git/commits{/sha}', 'comments_url': 'https://api.github.com/repos/joelgrus/advent2022/comments{/number}', 'issue_comment_url': 'https://api.github.com/repos/joelgrus/advent2022/issues/comments{/number}', 'contents_url': 'https://api.github.com/repos/joelgrus/advent2022/contents/{+path}', 'compare_url': 'https://api.github.com/repos/joelgrus/advent2022/compare/{base}...{head}', 'merges_url': 'https://api.github.com/repos/joelgrus/advent2022/merges', 'archive_url': 'https://api.github.com/repos/joelgrus/advent2022/{archive_format}{/ref}', 'downloads_url': 'https://api.github.com/repos/joelgrus/advent2022/downloads', 'issues_url': 'https://api.github.com/repos/joelgrus/advent2022/issues{/number}', 'pulls_url': 'https://api.github.com/repos/joelgrus/advent2022/pulls{/number}', 'milestones_url': 'https://api.github.com/repos/joelgrus/advent2022/milestones{/number}', 'notifications_url': 'https://api.github.com/repos/joelgrus/advent2022/notifications{?since,all,participating}', 'labels_url': 'https://api.github.com/repos/joelgrus/advent2022/labels{/name}', 'releases_url': 'https://api.github.com/repos/joelgrus/advent2022/releases{/id}', 'deployments_url': 'https://api.github.com/repos/joelgrus/advent2022/deployments', 'created_at': '2022-11-22T02:25:22Z', 'updated_at': '2022-12-21T12:40:44Z', 'pushed_at': '2022-12-22T15:21:38Z', 'git_url': 'git://github.com/joelgrus/advent2022.git', 'ssh_url': 'git@github.com:joelgrus/advent2022.git', 'clone_url': 'https://github.com/joelgrus/advent2022.git', 'svn_url': 'https://github.com/joelgrus/advent2022', 'homepage': None, 'size': 119, 'stargazers_count': 3, 'watchers_count': 3, 'language': 'Python', 'has_issues': True, 'has_projects': True, 'has_downloads': True, 'has_wiki': True, 'has_pages': False, 'has_discussions': False, 'forks_count': 1, 'mirror_url': None, 'archived': False, 'disabled': False, 'open_issues_count': 0, 'license': None, 'allow_forking': True, 'is_template': False, 'web_commit_signoff_required': False, 'topics': [], 'visibility': 'public', 'forks': 1, 'open_issues': 0, 'watchers': 3, 'default_branch': 'master'}, {'id': 431503386, 'node_id': 'R_kgDOGbg4Gg', 'name': 'advent2021', 'full_name': 'joelgrus/advent2021', 'private': False, 'owner': {'login': 'joelgrus', 'id': 1308313, 'node_id': 'MDQ6VXNlcjEzMDgzMTM=', 'avatar_url': 'https://avatars.githubusercontent.com/u/1308313?v=4', 'gravatar_id': '', 'url': 'https://api.github.com/users/joelgrus', 'html_url': 'https://github.com/joelgrus', 'followers_url': 'https://api.github.com/users/joelgrus/followers', 'following_url': 'https://api.github.com/users/joelgrus/following{/other_user}', 'gists_url': 'https://api.github.com/users/joelgrus/gists{/gist_id}', 'starred_url': 'https://api.github.com/users/joelgrus/starred{/owner}{/repo}', 'subscriptions_url': 'https://api.github.com/users/joelgrus/subscriptions', 'organizations_url': 'https://api.github.com/users/joelgrus/orgs', 'repos_url': 'https://api.github.com/users/joelgrus/repos', 'events_url': 'https://api.github.com/users/joelgrus/events{/privacy}', 'received_events_url': 'https://api.github.com/users/joelgrus/received_events', 'type': 'User', 'user_view_type': 'public', 'site_admin': False}, 'html_url': 'https://github.com/joelgrus/advent2021', 'description': 'advent of code 2021', 'fork': False, 'url': 'https://api.github.com/repos/joelgrus/advent2021', 'forks_url': 'https://api.github.com/repos/joelgrus/advent2021/forks', 'keys_url': 'https://api.github.com/repos/joelgrus/advent2021/keys{/key_id}', 'collaborators_url': 'https://api.github.com/repos/joelgrus/advent2021/collaborators{/collaborator}', 'teams_url': 'https://api.github.com/repos/joelgrus/advent2021/teams', 'hooks_url': 'https://api.github.com/repos/joelgrus/advent2021/hooks', 'issue_events_url': 'https://api.github.com/repos/joelgrus/advent2021/issues/events{/number}', 'events_url': 'https://api.github.com/repos/joelgrus/advent2021/events', 'assignees_url': 'https://api.github.com/repos/joelgrus/advent2021/assignees{/user}', 'branches_url': 'https://api.github.com/repos/joelgrus/advent2021/branches{/branch}', 'tags_url': 'https://api.github.com/repos/joelgrus/advent2021/tags', 'blobs_url': 'https://api.github.com/repos/joelgrus/advent2021/git/blobs{/sha}', 'git_tags_url': 'https://api.github.com/repos/joelgrus/advent2021/git/tags{/sha}', 'git_refs_url': 'https://api.github.com/repos/joelgrus/advent2021/git/refs{/sha}', 'trees_url': 'https://api.github.com/repos/joelgrus/advent2021/git/trees{/sha}', 'statuses_url': 'https://api.github.com/repos/joelgrus/advent2021/statuses/{sha}', 'languages_url': 'https://api.github.com/repos/joelgrus/advent2021/languages', 'stargazers_url': 'https://api.github.com/repos/joelgrus/advent2021/stargazers', 'contributors_url': 'https://api.github.com/repos/joelgrus/advent2021/contributors', 'subscribers_url': 'https://api.github.com/repos/joelgrus/advent2021/subscribers', 'subscription_url': 'https://api.github.com/repos/joelgrus/advent2021/subscription', 'commits_url': 'https://api.github.com/repos/joelgrus/advent2021/commits{/sha}', 'git_commits_url': 'https://api.github.com/repos/joelgrus/advent2021/git/commits{/sha}', 'comments_url': 'https://api.github.com/repos/joelgrus/advent2021/comments{/number}', 'issue_comment_url': 'https://api.github.com/repos/joelgrus/advent2021/issues/comments{/number}', 'contents_url': 'https://api.github.com/repos/joelgrus/advent2021/contents/{+path}', 'compare_url': 'https://api.github.com/repos/joelgrus/advent2021/compare/{base}...{head}', 'merges_url': 'https://api.github.com/repos/joelgrus/advent2021/merges', 'archive_url': 'https://api.github.com/repos/joelgrus/advent2021/{archive_format}{/ref}', 'downloads_url': 'https://api.github.com/repos/joelgrus/advent2021/downloads', 'issues_url': 'https://api.github.com/repos/joelgrus/advent2021/issues{/number}', 'pulls_url': 'https://api.github.com/repos/joelgrus/advent2021/pulls{/number}', 'milestones_url': 'https://api.github.com/repos/joelgrus/advent2021/milestones{/number}', 'notifications_url': 'https://api.github.com/repos/joelgrus/advent2021/notifications{?since,all,participating}', 'labels_url': 'https://api.github.com/repos/joelgrus/advent2021/labels{/name}', 'releases_url': 'https://api.github.com/repos/joelgrus/advent2021/releases{/id}', 'deployments_url': 'https://api.github.com/repos/joelgrus/advent2021/deployments', 'created_at': '2021-11-24T13:53:23Z', 'updated_at': '2022-09-05T22:18:26Z', 'pushed_at': '2021-12-17T22:09:07Z', 'git_url': 'git://github.com/joelgrus/advent2021.git', 'ssh_url': 'git@github.com:joelgrus/advent2021.git', 'clone_url': 'https://github.com/joelgrus/advent2021.git', 'svn_url': 'https://github.com/joelgrus/advent2021', 'homepage': None, 'size': 62, 'stargazers_count': 13, 'watchers_count': 13, 'language': 'Python', 'has_issues': True, 'has_projects': True, 'has_downloads': True, 'has_wiki': True, 'has_pages': False, 'has_discussions': False, 'forks_count': 1, 'mirror_url': None, 'archived': False, 'disabled': False, 'open_issues_count': 0, 'license': {'key': 'mit', 'name': 'MIT License', 'spdx_id': 'MIT', 'url': 'https://api.github.com/licenses/mit', 'node_id': 'MDc6TGljZW5zZTEz'}, 'allow_forking': True, 'is_template': False, 'web_commit_signoff_required': False, 'topics': [], 'visibility': 'public', 'forks': 1, 'open_issues': 0, 'watchers': 13, 'default_branch': 'master'}]\n",
      "['Python', 'Python', 'Svelte', 'Python', 'Python']\n"
     ]
    }
   ],
   "source": [
    "import requests, json\n",
    "\n",
    "github_user = \"joelgrus\"\n",
    "endpoint = f\"https://api.github.com/users/{github_user}/repos\"\n",
    "\n",
    "repos = json.loads(requests.get(endpoint).text)\n",
    "\n",
    "from collections import Counter\n",
    "from dateutil.parser import parse\n",
    "\n",
    "dates = [parse(repo[\"created_at\"]) for repo in repos]\n",
    "month_counts = Counter(date.month for date in dates)\n",
    "weekday_counts = Counter(date.weekday() for date in dates)\n",
    "\n",
    "print(dates)\n",
    "print(month_counts)\n",
    "print(weekday_counts)\n",
    "\n",
    "last_5_repositories = sorted(repos,\n",
    "                                key=lambda r: r[\"pushed_at\"],\n",
    "                                reverse=True)[:5]\n",
    "\n",
    "last_5_languages = [repo[\"language\"]\n",
    "                    for repo in last_5_repositories]\n",
    "\n",
    "print(last_5_repositories)\n",
    "print(last_5_languages)\n"
   ]
  },
  {
   "cell_type": "code",
   "execution_count": null,
   "metadata": {},
   "outputs": [],
   "source": [
    "# TUGAS!!\n",
    "# Nanti Malam Crawling data make tweepy\n",
    "# gak pnya tweter"
   ]
  }
 ],
 "metadata": {
  "kernelspec": {
   "display_name": "my_env",
   "language": "python",
   "name": "python3"
  },
  "language_info": {
   "codemirror_mode": {
    "name": "ipython",
    "version": 3
   },
   "file_extension": ".py",
   "mimetype": "text/x-python",
   "name": "python",
   "nbconvert_exporter": "python",
   "pygments_lexer": "ipython3",
   "version": "3.9.10"
  }
 },
 "nbformat": 4,
 "nbformat_minor": 2
}
