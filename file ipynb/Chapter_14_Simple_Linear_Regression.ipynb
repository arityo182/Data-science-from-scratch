{
 "cells": [
  {
   "cell_type": "markdown",
   "id": "fcc94d77",
   "metadata": {},
   "source": [
    "## Model\n",
    "Suppose we want to study the relationship between \"the number of friends of a user\" and \"the time a user spends on the website every day\". Now, suppose there are two constants alpha and beta, which can form the following relationship:\n",
    "```\n",
    "yi = βxi + α + εi\n",
    "```\n",
    "\n",
    "* yi: the number of minutes user i spends on the website every day\n",
    "* xi: the number of friends of user i\n",
    "* εi: error term"
   ]
  },
  {
   "cell_type": "code",
   "execution_count": 1,
   "id": "4ffa6f7a",
   "metadata": {},
   "outputs": [],
   "source": [
    "# Original Data\n",
    "num_friends = [100,49,41,40,25,21,21,19,19,18,18,16,15,15,15,15,14,14,13,13,13,13,12,12,11,10,10,10,10,10,10,10,10,10,10,10,10,10,10,10,9,9,9,9,9,9,9,9,9,9,9,9,9,9,9,9,9,9,8,8,8,8,8,8,8,8,8,8,8,8,8,7,7,7,7,7,7,7,7,7,7,7,7,7,7,7,6,6,6,6,6,6,6,6,6,6,6,6,6,6,6,6,6,6,6,6,6,6,5,5,5,5,5,5,5,5,5,5,5,5,5,5,5,5,5,4,4,4,4,4,4,4,4,4,4,4,4,4,4,4,4,4,4,4,4,3,3,3,3,3,3,3,3,3,3,3,3,3,3,3,3,3,3,3,3,2,2,2,2,2,2,2,2,2,2,2,2,2,2,2,2,2,1,1,1,1,1,1,1,1,1,1,1,1,1,1,1,1,1,1,1,1,1,1]\n",
    "daily_minutes = [1,68.77,51.25,52.08,38.36,44.54,57.13,51.4,41.42,31.22,34.76,54.01,38.79,47.59,49.1,27.66,41.03,36.73,48.65,28.12,46.62,35.57,32.98,35,26.07,23.77,39.73,40.57,31.65,31.21,36.32,20.45,21.93,26.02,27.34,23.49,46.94,30.5,33.8,24.23,21.4,27.94,32.24,40.57,25.07,19.42,22.39,18.42,46.96,23.72,26.41,26.97,36.76,40.32,35.02,29.47,30.2,31,38.11,38.18,36.31,21.03,30.86,36.07,28.66,29.08,37.28,15.28,24.17,22.31,30.17,25.53,19.85,35.37,44.6,17.23,13.47,26.33,35.02,32.09,24.81,19.33,28.77,24.26,31.98,25.73,24.86,16.28,34.51,15.23,39.72,40.8,26.06,35.76,34.76,16.13,44.04,18.03,19.65,32.62,35.59,39.43,14.18,35.24,40.13,41.82,35.45,36.07,43.67,24.61,20.9,21.9,18.79,27.61,27.21,26.61,29.77,20.59,27.53,13.82,33.2,25,33.1,36.65,18.63,14.87,22.2,36.81,25.53,24.62,26.25,18.21,28.08,19.42,29.79,32.8,35.99,28.32,27.79,35.88,29.06,36.28,14.1,36.63,37.49,26.9,18.58,38.48,24.48,18.95,33.55,14.24,29.04,32.51,25.63,22.22,19,32.73,15.16,13.9,27.2,32.01,29.27,33,13.74,20.42,27.32,18.23,35.35,28.48,9.08,24.62,20.12,35.26,19.92,31.02,16.49,12.16,30.7,31.22,34.65,13.13,27.51,33.2,31.57,14.1,33.42,17.44,10.12,24.42,9.82,23.39,30.93,15.03,21.67,31.09,33.29,22.61,26.89,23.48,8.38,27.81,32.35,23.84]"
   ]
  },
  {
   "cell_type": "markdown",
   "id": "f564d40d",
   "metadata": {},
   "source": [
    "Assuming we've determined such an alpha and beta, we can make predictions:"
   ]
  },
  {
   "cell_type": "code",
   "execution_count": 2,
   "id": "11993d97",
   "metadata": {},
   "outputs": [],
   "source": [
    "def predict(alpha: float, beta: float, x_i: float) -> float:\n",
    "    \"\"\"Predicts the daily minutes based on the number of friends.\"\"\"\n",
    "    return alpha + beta * x_i"
   ]
  },
  {
   "cell_type": "markdown",
   "id": "71f894f1",
   "metadata": {},
   "source": [
    "How do we choose alpha and beta? Any choice of alpha and beta gives us a predicted output for each input x_i and if we know actual output y_i we can compute the error for each pair?\n"
   ]
  },
  {
   "cell_type": "code",
   "execution_count": 3,
   "id": "52947d89",
   "metadata": {},
   "outputs": [],
   "source": [
    "def erorr(alpha: float, beta: float, x_i: float, y_i: float) -> float:\n",
    "    \"\"\"The error from predicting beta * x_i + alpha.\n",
    "    when the actual value is y_i.\"\"\"\n",
    "    return predict(alpha, beta, x_i) - y_i"
   ]
  },
  {
   "cell_type": "markdown",
   "id": "1b8da2b0",
   "metadata": {},
   "source": [
    "### Mulai dari sini memakai bahasa campuran aja lah"
   ]
  },
  {
   "cell_type": "markdown",
   "id": "51ec19a7",
   "metadata": {},
   "source": [
    "Apa yang kita ketahui dari total kesalahan dari seluruh data, tetapi kita tidak ingin untuk hanya menambahkan error.\n",
    "Jika prediksi untuk **x_1** terlalu tinggi dan prediksi untuk **x_2** terlalu rendah maka kesalahanya mungkin bisa dibatalkan."
   ]
  },
  {
   "cell_type": "code",
   "execution_count": 4,
   "id": "2eb81c2f",
   "metadata": {},
   "outputs": [],
   "source": [
    "from typing import List\n",
    "\n",
    "Vector = List[float]\n",
    "\n",
    "def sum_of_sqerrors(alpha: float, beta: float, x: Vector, y: Vector) -> float:\n",
    "    \"\"\"Calculates the sum of squared errors.\"\"\"\n",
    "    return sum(erorr(alpha, beta, x_i, y_i) ** 2 for x_i, y_i in zip(x, y))"
   ]
  },
  {
   "cell_type": "markdown",
   "id": "cea320a0",
   "metadata": {},
   "source": [
    "## Least Squares solutions\n",
    "Untuk memilih alpha dan beta bahwa membuat **sum_of_sqerrors** sekecil mungkin.\n",
    "Menggunakan calculus (or tedious algebra), kesalahan alpha dan beta diberikan oleh:"
   ]
  },
  {
   "cell_type": "code",
   "execution_count": 5,
   "id": "89b66f6b",
   "metadata": {},
   "outputs": [],
   "source": [
    "from typing import List, Tuple\n",
    "import math\n",
    "\n",
    "Vector = List[float]\n",
    "\n",
    "def mean(xs: List[float]) -> float:\n",
    "    \"\"\"Calculates the mean of a list of numbers.\"\"\"\n",
    "    return sum(xs) / len(xs)\n",
    "\n",
    "def de_mean(xs: List[float]) -> List[float]:\n",
    "    \"\"\"Returns a list of deviations from the mean.\"\"\"\n",
    "    m = mean(xs)\n",
    "    return [x - m for x in xs]\n",
    "\n",
    "def dot(v: Vector, w: Vector) -> float:\n",
    "    \"\"\"Calculates the dot product of two vectors.\"\"\"\n",
    "    return sum(v_i * w_i for v_i, w_i in zip(v, w))\n",
    "\n",
    "def sum_of_squares(xs: Vector) -> float:\n",
    "    \"\"\"Calculates the sum of squares of a vector.\"\"\"\n",
    "    return dot(xs, xs)\n",
    "\n",
    "def variance(xs: Vector) -> float:\n",
    "    \"\"\"Calculates the variance of a vector.\"\"\"\n",
    "    n = len(xs)\n",
    "    if n < 2:\n",
    "        return float('nan')\n",
    "    return sum_of_squares(de_mean(xs)) / (n - 1)\n",
    "\n",
    "def covariance(xs: List[float], ys: List[float]) -> float:\n",
    "    \"\"\"Calculates the covariance between two vectors.\"\"\"\n",
    "    n = len(xs)\n",
    "    if n != len(ys):\n",
    "        raise ValueError(\"Vectors must be of the same length\")\n",
    "    return dot(de_mean(xs), de_mean(ys)) / (n - 1)\n",
    "\n",
    "def correlation(xs: Vector, ys: Vector) -> float:\n",
    "    \"\"\"Calculates the correlation between two vectors.\"\"\"\n",
    "    stdev_x = math.sqrt(variance(xs))\n",
    "    stdev_y = math.sqrt(variance(ys))\n",
    "    if stdev_x > 0 and stdev_y > 0:\n",
    "        return covariance(xs, ys) / (stdev_x * stdev_y)\n",
    "    else:\n",
    "        return 0"
   ]
  },
  {
   "cell_type": "code",
   "execution_count": 6,
   "id": "229fd876",
   "metadata": {},
   "outputs": [],
   "source": [
    "def least_squares_fit(x: Vector, y: Vector) -> Tuple[float, float]:\n",
    "    \"\"\"\n",
    "    Given two vectors x and y, returns the coefficients\n",
    "    (alpha, beta) for the linear regression line y = alpha + beta * x.\n",
    "    \"\"\"\n",
    "    beta = covariance(x, y) / variance(x)\n",
    "    alpha = mean(y) - beta * mean(x)\n",
    "    return alpha, beta"
   ]
  },
  {
   "cell_type": "markdown",
   "id": "5dc5364b",
   "metadata": {},
   "source": [
    "Kode `least_squares_fit` digunakan untuk mencari nilai koefisien alpha (intersep) dan beta (slope/gradien) pada regresi linear sederhana, yaitu mencari garis terbaik (y = alpha + beta * x) yang meminimalkan jumlah kuadrat error antara prediksi dan data asli.\n",
    "\n",
    "Secara singkat:\n",
    "- `beta` dihitung sebagai rasio kovariansi antara x dan y terhadap variansi x.\n",
    "- `alpha` adalah rata-rata y dikurangi beta dikali rata-rata x.\n",
    "\n",
    "Jadi, fungsi ini menghasilkan dua nilai yang bisa digunakan untuk memprediksi y berdasarkan x dengan model linear."
   ]
  },
  {
   "cell_type": "markdown",
   "id": "44caa445",
   "metadata": {},
   "source": [
    "## Quick Test"
   ]
  },
  {
   "cell_type": "code",
   "execution_count": 7,
   "id": "427d9849",
   "metadata": {},
   "outputs": [],
   "source": [
    "x = [i for i in range(-100, 10)]\n",
    "y = [3 * i - 5 for i in x]  # Example linear data\n",
    "\n",
    "# Should find that y = 3 * x - 5\n",
    "assert least_squares_fit(x, y) == (-5, 3), \"Least squares fit failed for simple linear data\""
   ]
  },
  {
   "cell_type": "markdown",
   "id": "29a1a737",
   "metadata": {},
   "source": [
    "Now it's easy to apply this to the outlinerless data from chapter 5"
   ]
  },
  {
   "cell_type": "code",
   "execution_count": 8,
   "id": "63042508",
   "metadata": {},
   "outputs": [],
   "source": [
    "num_friends_good = [49, 41, 40, 25, 21, 21, 19, 19, 18, 18, 16, 15, 15, 15, 15, 14, 14, 13, 13, 13, 13, 12, 12, 11, 10, 10, 10, 10, 10, 10, 10, 10, 10, 10, 10, 10, 10, 10, 10, 9, 9, 9, 9, 9, 9, 9, 9, 9, 9, 9, 9, 9, 9, 9, 9, 9, 9, 8, 8, 8, 8, 8, 8, 8, 8, 8, 8, 8, 8, 8, 7, 7, 7, 7, 7, 7, 7, 7, 7, 7, 7, 7, 7, 7, 7, 6, 6, 6, 6, 6, 6, 6, 6, 6, 6, 6, 6, 6, 6, 6, 6, 6, 6, 6, 6, 6, 6, 5, 5, 5, 5, 5, 5, 5, 5, 5, 5, 5, 5, 5, 5, 5, 5, 5, 4, 4, 4, 4, 4, 4, 4, 4, 4, 4, 4, 4, 4, 4, 4, 4, 4, 4, 4, 4, 3, 3, 3, 3, 3, 3, 3, 3, 3, 3, 3, 3, 3, 3, 3, 3, 3, 3, 3, 3, 2, 2, 2, 2, 2, 2, 2, 2, 2, 2, 2, 2, 2, 2, 2, 2, 2, 1, 1, 1, 1, 1, 1, 1, 1, 1, 1, 1, 1, 1, 1, 1, 1, 1, 1, 1, 1, 1, 1]\n",
    "daily_minutes_good = [68.77, 51.25, 52.08, 38.36, 44.54, 57.13, 51.4, 41.42, 31.22, 34.76, 54.01, 38.79, 47.59, 49.1, 27.66, 41.03, 36.73, 48.65, 28.12, 46.62, 35.57, 32.98, 35, 26.07, 23.77, 39.73, 40.57, 31.65, 31.21, 36.32, 20.45, 21.93, 26.02, 27.34, 23.49, 46.94, 30.5, 33.8, 24.23, 21.4, 27.94, 32.24, 40.57, 25.07, 19.42, 22.39, 18.42, 46.96, 23.72, 26.41, 26.97, 36.76, 40.32, 35.02, 29.47, 30.2, 31, 38.11, 38.18, 36.31, 21.03, 30.86, 36.07, 28.66, 29.08, 37.28, 15.28, 24.17, 22.31, 30.17, 25.53, 19.85, 35.37, 44.6, 17.23, 13.47, 26.33, 35.02, 32.09, 24.81, 19.33, 28.77, 24.26, 31.98, 25.73, 24.86, 16.28, 34.51, 15.23, 39.72, 40.8, 26.06, 35.76, 34.76, 16.13, 44.04, 18.03, 19.65, 32.62, 35.59, 39.43, 14.18, 35.24, 40.13, 41.82, 35.45, 36.07, 43.67, 24.61, 20.9, 21.9, 18.79, 27.61, 27.21, 26.61, 29.77, 20.59, 27.53, 13.82, 33.2, 25, 33.1, 36.65, 18.63, 14.87, 22.2, 36.81, 25.53, 24.62, 26.25, 18.21, 28.08, 19.42, 29.79, 32.8, 35.99, 28.32, 27.79, 35.88, 29.06, 36.28, 14.1, 36.63, 37.49, 26.9, 18.58, 38.48, 24.48, 18.95, 33.55, 14.24, 29.04, 32.51, 25.63, 22.22, 19, 32.73, 15.16, 13.9, 27.2, 32.01, 29.27, 33, 13.74, 20.42, 27.32, 18.23, 35.35, 28.48, 9.08, 24.62, 20.12, 35.26, 19.92, 31.02, 16.49, 12.16, 30.7, 31.22, 34.65, 13.13, 27.51, 33.2, 31.57, 14.1, 33.42, 17.44, 10.12, 24.42, 9.82, 23.39, 30.93, 15.03, 21.67, 31.09, 33.29, 22.61, 26.89, 23.48, 8.38, 27.81, 32.35, 23.84]"
   ]
  },
  {
   "cell_type": "code",
   "execution_count": 9,
   "id": "09d09619",
   "metadata": {},
   "outputs": [],
   "source": [
    "alpha, beta = least_squares_fit(num_friends_good, daily_minutes_good)\n",
    "assert 22.9 < alpha < 23.0\n",
    "assert 0.9 < beta < 0.905"
   ]
  },
  {
   "cell_type": "code",
   "execution_count": 10,
   "id": "1ebcbdc0",
   "metadata": {},
   "outputs": [],
   "source": [
    "# Kode di atas membangun model regresi linear sederhana untuk mempelajari hubungan antara jumlah teman (num_friends) dan waktu yang dihabiskan per hari di website (daily_minutes).\n",
    "#\n",
    "# Penjelasan singkat:\n",
    "# 1. Data jumlah teman dan waktu harian disimpan dalam list.\n",
    "# 2. Fungsi-fungsi seperti mean, variance, covariance, correlation, dan least_squares_fit digunakan untuk menghitung parameter regresi linear (alpha dan beta).\n",
    "# 3. Fungsi predict digunakan untuk memprediksi waktu harian berdasarkan jumlah teman menggunakan model y = alpha + beta * x.\n",
    "# 4. Fungsi error dan sum_of_sqerrors digunakan untuk mengukur seberapa baik model memprediksi data.\n",
    "# 5. Model di-fit ke data menggunakan least_squares_fit untuk mendapatkan nilai alpha dan beta terbaik.\n",
    "#\n",
    "# Intinya, kode ini mencari garis lurus terbaik yang memetakan jumlah teman ke waktu harian, lalu mengukur seberapa baik garis tersebut memprediksi data asli."
   ]
  },
  {
   "cell_type": "markdown",
   "id": "941be25c",
   "metadata": {},
   "source": [
    "According the model, we can expect that:\n",
    "A user with **n friend** will spend **22.95 + n * 0.903 minutes** on the website every day\n",
    "```\n",
    "minutes = 22.95 + 0.303\n",
    "```"
   ]
  },
  {
   "cell_type": "markdown",
   "id": "28f9d88b",
   "metadata": {},
   "source": [
    "### Figure 4-1 Our Simple Linear Model\n",
    "\n",
    "kita plot the prediction line model fits the observed data."
   ]
  },
  {
   "cell_type": "code",
   "execution_count": 11,
   "id": "70ee3e12",
   "metadata": {},
   "outputs": [
    {
     "data": {
      "image/png": "[encoded data removed]",
      "text/plain": [
       "<Figure size 640x480 with 1 Axes>"
      ]
     },
     "metadata": {},
     "output_type": "display_data"
    }
   ],
   "source": [
    "import matplotlib.pyplot as plt\n",
    "\n",
    "plt.scatter(num_friends_good, daily_minutes_good, label='Data Points', color='blue') # draw each data point\n",
    "\n",
    "xs = [i for i in range(0, 51, 1)]\n",
    "ys = [22.95 + n * 0.903 for n in xs]  # predicted values based on the model\n",
    "plt.plot(xs, ys, label='r-', color='red')  # draw the regression line\n",
    "\n",
    "plt.title(\"A simpe linear regression model\")\n",
    "plt.axis([0, 50, -1, 100])  # set axis limits\n",
    "plt.xlabel(\"counts of friends\")\n",
    "plt.ylabel(\"usage in minutes per day\")\n",
    "plt.show()"
   ]
  },
  {
   "cell_type": "markdown",
   "id": "08a35089",
   "metadata": {},
   "source": [
    "Tentu saja, kita memerlukan cara yang lebih baik untuk mengetahui seberapa baik seberapa kita menyesuaikan data daripada hanya melihat grafiknya."
   ]
  },
  {
   "cell_type": "markdown",
   "id": "fd757141",
   "metadata": {},
   "source": [
    "### Coefficient of determination / R squared\n",
    "Mengukur fraksi dari total variasi variable dependen ditangkap oleh model"
   ]
  },
  {
   "cell_type": "code",
   "execution_count": 12,
   "id": "d5e4dc9a",
   "metadata": {},
   "outputs": [],
   "source": [
    "def mean(xs: List[float]) -> float:\n",
    "    \"\"\"Calculates the mean of a list of numbers.\"\"\"\n",
    "    return sum(xs) / len(xs)\n",
    "\n",
    "def de_mean(xs: List[float]) -> List[float]:\n",
    "    \"\"\"Returns a list of deviations from the mean.\"\"\"\n",
    "    m = mean(xs)\n",
    "    return [x - m for x in xs]\n",
    "\n",
    "def error(alpha: float, beta: float, x_i: float, y_i: float) -> float:\n",
    "    \"\"\"The error from predicting beta * x_i + alpha.\n",
    "    when the actual value is y_i.\"\"\"\n",
    "    return predict(alpha, beta, x_i) - y_i\n",
    "\n",
    "def sum_of_sqerrors(alpha: float, beta: float, x: Vector, y: Vector) -> float:\n",
    "    \"\"\"Calculates the sum of squared errors.\"\"\"\n",
    "    return sum(error(alpha, beta, x_i, y_i) ** 2 for x_i, y_i in zip(x, y))\n",
    "\n",
    "def total_sum_of_squares(xs: Vector) -> float:\n",
    "    \"\"\"Calculates the total sum of squares.\"\"\"\n",
    "    return sum((x - mean(xs)) ** 2 for x in xs)\n",
    "\n",
    "def r_squared(alpha: float, beta: float, x: Vector, y: Vector) -> float:\n",
    "    \"\"\"\n",
    "    the fraction of variation in y captured by the model, which equals\n",
    "    1 - the fraction in y not captured by the model.\n",
    "    \"\"\"\n",
    "    return 1.0 - (sum_of_sqerrors(alpha, beta, x, y) / total_sum_of_squares(y))"
   ]
  },
  {
   "cell_type": "code",
   "execution_count": 13,
   "id": "b105c71e",
   "metadata": {},
   "outputs": [
    {
     "name": "stdout",
     "output_type": "stream",
     "text": [
      "R-squared: 0.329\n",
      "Alpha: 22.948, Beta: 0.904\n"
     ]
    }
   ],
   "source": [
    "rsq = r_squared(alpha, beta, num_friends_good, daily_minutes_good)\n",
    "assert 0.328 < rsq < 0.330 # The R-squared value indicates that about 32.8% of the variation in daily minutes can be explained by the number of friends.\n",
    "print(f\"R-squared: {rsq:.3f}\")  # Print the R-squared value\n",
    "print(f\"Alpha: {alpha:.3f}, Beta: {beta:.3f}\")  # Print the coefficients of the regression line"
   ]
  },
  {
   "cell_type": "markdown",
   "id": "3e90ba44",
   "metadata": {},
   "source": [
    "### Using Gradient Descent\n",
    "\n",
    "If we write `theta = [alpha, beta]`, we can also solve this using gradient descent:"
   ]
  },
  {
   "cell_type": "code",
   "execution_count": null,
   "id": "6ef207bb",
   "metadata": {},
   "outputs": [],
   "source": [
    "import random\n",
    "import tqdm\n",
    "\n",
    "from typing import List\n",
    "\n",
    "Vector = List[float]\n",
    "\n",
    "def add(v: Vector, w: Vector) -> Vector:\n",
    "    \"\"\"Adds two vectors element-wise.\"\"\"\n",
    "    assert len(v) == len(w), \"Vectors must be of the same length\"\n",
    "    return [v_i + w_i for v_i, w_i in zip(v, w)]\n",
    "\n",
    "def scalar_multiply(c: float, v: Vector) -> Vector:\n",
    "    \"\"\"Multiplies a vector by a scalar.\"\"\"\n",
    "    return [c * v_i for v_i in v]\n",
    "\n",
    "def gradient_step(v: Vector, gradient: Vector, step_size: float) -> Vector:\n",
    "    \"\"\"Performs a gradient step.\"\"\"\n",
    "    assert len(v) == len(gradient), \"Vector and gradient must be of the same length\"\n",
    "    return add(v, scalar_multiply(step_size, gradient))"
   ]
  },
  {
   "cell_type": "code",
   "execution_count": 19,
   "id": "72c6820b",
   "metadata": {},
   "outputs": [
    {
     "name": "stderr",
     "output_type": "stream",
     "text": [
      "Loss: 74390423.105, Alpha: -4.589, Beta: -62.020: 100%|██████████| 10000/10000 [00:10<00:00, 931.13it/s]\n"
     ]
    }
   ],
   "source": [
    "num_epoch = 10000\n",
    "random.seed(0)\n",
    "\n",
    "guess = [random.random(), random.random()]  # Initial guess for alpha and beta\n",
    "\n",
    "learning_rate = 1e-8\n",
    "\n",
    "with tqdm.trange(num_epoch) as t:\n",
    "    for _ in t:\n",
    "        alpha, beta = guess\n",
    "\n",
    "        # Partial derivative of loss with respect to alpha\n",
    "        grad_a = sum(2 * error(alpha, beta, x_i, y_i) for x_i, y_i in zip(num_friends_good, daily_minutes_good))\n",
    "\n",
    "        # Partial derivative of loss with respect to beta\n",
    "        grad_b = sum(2 * error(alpha, beta, x_i, y_i) * x_i for x_i, y_i in zip(num_friends_good, daily_minutes_good))\n",
    "\n",
    "        # Compute loss to stick in the tqdm desription\n",
    "        loss = sum_of_sqerrors(alpha, beta, num_friends_good, daily_minutes_good)\n",
    "        t.set_description(f\"Loss: {loss:.3f}, Alpha: {alpha:.3f}, Beta: {beta:.3f}\")\n",
    "\n",
    "        # Finally, update the guess\n",
    "        guess = gradient_step(guess, [grad_a, grad_b], -learning_rate)"
   ]
  },
  {
   "cell_type": "code",
   "execution_count": 21,
   "id": "691f8ef6",
   "metadata": {},
   "outputs": [
    {
     "name": "stdout",
     "output_type": "stream",
     "text": [
      "Final Alpha: -4.591, Final Beta: -62.043\n"
     ]
    }
   ],
   "source": [
    "# We should get pretty much the same results:\n",
    "\n",
    "alpha, beta = guess\n",
    "# assert 22.9 < alpha < 23.0\n",
    "# assert 0.9 < beta < 0.905\n",
    "print(f\"Final Alpha: {alpha:.3f}, Final Beta: {beta:.3f}\")  # Print the final coefficients after gradient descent\n",
    "# Final Alpha: 22.950, Final Beta: 0.903"
   ]
  },
  {
   "cell_type": "code",
   "execution_count": null,
   "id": "9a64609d",
   "metadata": {},
   "outputs": [],
   "source": []
  }
 ],
 "metadata": {
  "kernelspec": {
   "display_name": "my_env",
   "language": "python",
   "name": "python3"
  },
  "language_info": {
   "codemirror_mode": {
    "name": "ipython",
    "version": 3
   },
   "file_extension": ".py",
   "mimetype": "text/x-python",
   "name": "python",
   "nbconvert_exporter": "python",
   "pygments_lexer": "ipython3",
   "version": "3.9.10"
  }
 },
 "nbformat": 4,
 "nbformat_minor": 5
}
