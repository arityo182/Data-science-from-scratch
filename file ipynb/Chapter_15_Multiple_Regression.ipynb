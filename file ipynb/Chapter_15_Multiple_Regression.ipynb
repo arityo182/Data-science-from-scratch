{
 "cells": [
  {
   "cell_type": "markdown",
   "id": "461c1e7c",
   "metadata": {},
   "source": [
    "## Model\n",
    "\n",
    "Asumsikan bahwa setiap item input xi tidak lagi hanya berupa satu nilai, tetapi vector k yang terdiri dari xil,...,xik.\n",
    "\n",
    "The multile regression berasumsi bahwa:\n",
    "```\n",
    "yi = α+β₁χɪʟ+...+βkχɪʟ\n",
    "```\n",
    "\n",
    "Dalam model multiple regression, vector parameter biasanya disebut beta.\n",
    "\n",
    "Jika suku konstanta juga disertakan, kita capai dengan menambahkan column untuk data kita:\n",
    "\n",
    "* beta = [alpha, beta_1, ... , beta_k]\n",
    "* x_i = [1, x_i1, ... , x_ik]"
   ]
  },
  {
   "cell_type": "code",
   "execution_count": 23,
   "id": "26762a1d",
   "metadata": {},
   "outputs": [],
   "source": [
    "# Kemudian model kita hanya:\n",
    "\n",
    "from typing import List\n",
    "\n",
    "Vector = List[float]\n",
    "\n",
    "def dot(v: Vector, w: Vector) -> float:\n",
    "    \"\"\"Menghitung dot product dari dua vektor.\"\"\"\n",
    "    return sum(v_i * w_i for v_i, w_i in zip(v, w))\n",
    "\n",
    "def predict(x: Vector, beta: Vector) -> float:\n",
    "    \"\"\"Asumsikan bahwa element pertama dari x adalah 1\"\"\"\n",
    "    return dot(x, beta)"
   ]
  },
  {
   "cell_type": "markdown",
   "id": "e8d04259",
   "metadata": {},
   "source": [
    "Ini untuk permasalah khusus, independen variabel x kita list dari vector, terlihat seperti ini:\n",
    "[\n",
    "    1,      # constant term\n",
    "    49,     # number of friends\n",
    "    4,      # work hours per day\n",
    "    0       # doesn't have phD\n",
    "]"
   ]
  },
  {
   "cell_type": "markdown",
   "id": "d02e4936",
   "metadata": {},
   "source": [
    "### Further Assumptions of the Least Squares Model\n",
    "\n",
    "Ada beberapa asumsi lebih lanjut kebutuhan dari model ini (solusi) yang masuk akal:\n",
    "1. Comluns dari x adalah `Linearly Independent`, bahwa tidak ada cara untuk menulis siapapun sebagai **weighted sum** dari beberapa yang lain. Jika asumsi ini gagal, ini mungkin to memperkirakan beta. untuk melihat kasus ekstrim ini, bayangkan kita memiliki bidang tambahan `num_acquaintances` pada data kita bahwa untuk setiap user tepat sama dengan `num_frieds`.\n",
    "\n",
    "Jika asumsi ini tidak benar, β tidak dapat diestimasi.\n",
    "\n",
    "2. Setiap elemen dalam x tidak bergantung pada suku galat ε.\n",
    "Jika asumsi ini tidak benar, galat sistematis akan terjadi saat menaksir β.\n",
    "\n",
    "### Sesuai model \n"
   ]
  },
  {
   "cell_type": "code",
   "execution_count": 24,
   "id": "7e513839",
   "metadata": {},
   "outputs": [],
   "source": [
    "from typing import List\n",
    "\n",
    "def error(x: Vector, y: float, beta: Vector) -> float:\n",
    "    \"\"\"Menghitung error dari prediksi.\"\"\"\n",
    "    return predict(x, beta) - y\n",
    "\n",
    "def squared_error(x: Vector, y: float, beta: Vector) -> float:\n",
    "    \"\"\"Menghitung squared error dari prediksi.\"\"\"\n",
    "    return error(x, y, beta) ** 2"
   ]
  },
  {
   "cell_type": "code",
   "execution_count": 25,
   "id": "c546f3bb",
   "metadata": {},
   "outputs": [
    {
     "name": "stdout",
     "output_type": "stream",
     "text": [
      "Prediksi: 24\n"
     ]
    }
   ],
   "source": [
    "# Pengujian Model\n",
    "\n",
    "x = [1, 2, 3]  # Contoh vektor input\n",
    "y = 30 # Contoh nilai target\n",
    "beta = [4, 4, 4]  # Contoh koefisien model\n",
    "print(\"Prediksi:\", predict(x, beta))  # Output: 40.0\n",
    "\n",
    "assert error(x, y, beta) == -6\n",
    "assert squared_error(x, y, beta) == 36\n",
    "# Model ini mengasumsikan bahwa kita memiliki vektor input `x` yang berisi fitur-fitur"
   ]
  },
  {
   "cell_type": "code",
   "execution_count": 26,
   "id": "25a52b7e",
   "metadata": {},
   "outputs": [],
   "source": [
    "# easy to compute the gradient\n",
    "\n",
    "def sqerror_gradient(x: Vector, y: float, beta: Vector) -> Vector:\n",
    "    \"\"\"Menghitung gradien dari squared error.\"\"\"\n",
    "    e = error(x, y, beta)\n",
    "    return [2 * e * x_i for x_i in x]\n",
    "\n",
    "assert sqerror_gradient(x, y, beta) == [-12, -24, -36]\n",
    "# yang sudah ditambahkan bias (elemen pertama adalah 1)."
   ]
  },
  {
   "cell_type": "markdown",
   "id": "446147ca",
   "metadata": {},
   "source": [
    "Mencari beta yang optimal menggunakan gradient descent:\n",
    "1. menulis `least_squares_fit` function dapat berjalan dengan dataset apapun"
   ]
  },
  {
   "cell_type": "code",
   "execution_count": 27,
   "id": "6f90ec64",
   "metadata": {},
   "outputs": [],
   "source": [
    "import random\n",
    "import tqdm\n",
    "\n",
    "from typing import List\n",
    "\n",
    "Vector = List[float]\n",
    "\n",
    "def add(v: Vector, w: Vector) -> Vector:\n",
    "    \"\"\"Menambahkan dua vektor.\"\"\"\n",
    "    return [v_i + w_i for v_i, w_i in zip(v, w)]\n",
    "\n",
    "\n",
    "def vector_sum(vectors: List[Vector]) -> Vector:\n",
    "    \"\"\"Menjumlahkan daftar vektor.\"\"\"\n",
    "    assert vectors, \"Daftar vektor tidak boleh kosong\"\n",
    "\n",
    "    # Pastikan semua vektor memiliki panjang yang sama\n",
    "    num_length = len((vectors[0]))\n",
    "    assert all(len(v) == num_length for v in vectors), \"Semua vektor harus memiliki panjang yang sama\"\n",
    "\n",
    "    return [sum(vector[i] for vector in vectors) for i in range(num_length)]\n",
    "\n",
    "def scalar_multiply(c: float, v: Vector) -> Vector:\n",
    "    \"\"\"Mengalikan vektor dengan skalar.\"\"\"\n",
    "    return [c * v_i for v_i in v]\n",
    "\n",
    "def vector_mean(vectors: List[Vector]) -> Vector:\n",
    "    \"\"\"Menghitung rata-rata dari daftar vektor.\"\"\"\n",
    "    n = len(vectors)\n",
    "    return scalar_multiply(1/n, vector_sum(vectors))\n",
    "\n",
    "def gradient_step(v: Vector, gradient: Vector, step_size: float) -> Vector:\n",
    "    \"\"\"Melangkah dalam arah gradien.\"\"\"\n",
    "    return add(v, scalar_multiply(step_size, gradient))"
   ]
  },
  {
   "cell_type": "code",
   "execution_count": 31,
   "id": "6e879cb0",
   "metadata": {},
   "outputs": [],
   "source": [
    "def least_squares_fit(xs: List[Vector], ys: List[float], learning_rate: float = 0.001, num_steps: int = 1000, batch_size: int = 1) -> Vector:\n",
    "    \"\"\"\n",
    "    Mencari beta bahwa meminimalkan squared error pada data (xs, ys).\n",
    "    assumsikan model y = dot(x, beta)\n",
    "    \"\"\"\n",
    "    # Mulai dengan random gues\n",
    "    guess = [random.random() for _ in xs[0]]\n",
    "\n",
    "    for _ in tqdm.trange(num_steps, desc=\"least squares fit\"):\n",
    "        for start in range(0, len(xs), batch_size):\n",
    "            batch_xs = xs[start:start + batch_size]\n",
    "            batch_ys = ys[start:start + batch_size]\n",
    "\n",
    "            gradient = vector_mean([sqerror_gradient(x, y, guess) for x, y in zip(batch_xs, batch_ys)])\n",
    "            guess = gradient_step(guess, gradient, -learning_rate)\n",
    "\n",
    "    return guess"
   ]
  },
  {
   "cell_type": "markdown",
   "id": "52035f7e",
   "metadata": {},
   "source": [
    "### Terapkan ke data"
   ]
  },
  {
   "cell_type": "code",
   "execution_count": 32,
   "id": "4c7b8f0d",
   "metadata": {},
   "outputs": [],
   "source": [
    "inputs = [[1,49,4,0],[1,41,9,0],[1,40,8,0],[1,25,6,0],[1,21,1,0],[1,21,0,0],[1,19,3,0],[1,19,0,0],[1,18,9,0],[1,18,8,0],[1,16,4,0],[1,15,3,0],[1,15,0,0],[1,15,2,0],[1,15,7,0],[1,14,0,0],[1,14,1,0],[1,13,1,0],[1,13,7,0],[1,13,4,0],[1,13,2,0],[1,12,5,0],[1,12,0,0],[1,11,9,0],[1,10,9,0],[1,10,1,0],[1,10,1,0],[1,10,7,0],[1,10,9,0],[1,10,1,0],[1,10,6,0],[1,10,6,0],[1,10,8,0],[1,10,10,0],[1,10,6,0],[1,10,0,0],[1,10,5,0],[1,10,3,0],[1,10,4,0],[1,9,9,0],[1,9,9,0],[1,9,0,0],[1,9,0,0],[1,9,6,0],[1,9,10,0],[1,9,8,0],[1,9,5,0],[1,9,2,0],[1,9,9,0],[1,9,10,0],[1,9,7,0],[1,9,2,0],[1,9,0,0],[1,9,4,0],[1,9,6,0],[1,9,4,0],[1,9,7,0],[1,8,3,0],[1,8,2,0],[1,8,4,0],[1,8,9,0],[1,8,2,0],[1,8,3,0],[1,8,5,0],[1,8,8,0],[1,8,0,0],[1,8,9,0],[1,8,10,0],[1,8,5,0],[1,8,5,0],[1,7,5,0],[1,7,5,0],[1,7,0,0],[1,7,2,0],[1,7,8,0],[1,7,10,0],[1,7,5,0],[1,7,3,0],[1,7,3,0],[1,7,6,0],[1,7,7,0],[1,7,7,0],[1,7,9,0],[1,7,3,0],[1,7,8,0],[1,6,4,0],[1,6,6,0],[1,6,4,0],[1,6,9,0],[1,6,0,0],[1,6,1,0],[1,6,4,0],[1,6,1,0],[1,6,0,0],[1,6,7,0],[1,6,0,0],[1,6,8,0],[1,6,4,0],[1,6,2,1],[1,6,1,1],[1,6,3,1],[1,6,6,1],[1,6,4,1],[1,6,4,1],[1,6,1,1],[1,6,3,1],[1,6,4,1],[1,5,1,1],[1,5,9,1],[1,5,4,1],[1,5,6,1],[1,5,4,1],[1,5,4,1],[1,5,10,1],[1,5,5,1],[1,5,2,1],[1,5,4,1],[1,5,4,1],[1,5,9,1],[1,5,3,1],[1,5,10,1],[1,5,2,1],[1,5,2,1],[1,5,9,1],[1,4,8,1],[1,4,6,1],[1,4,0,1],[1,4,10,1],[1,4,5,1],[1,4,10,1],[1,4,9,1],[1,4,1,1],[1,4,4,1],[1,4,4,1],[1,4,0,1],[1,4,3,1],[1,4,1,1],[1,4,3,1],[1,4,2,1],[1,4,4,1],[1,4,4,1],[1,4,8,1],[1,4,2,1],[1,4,4,1],[1,3,2,1],[1,3,6,1],[1,3,4,1],[1,3,7,1],[1,3,4,1],[1,3,1,1],[1,3,10,1],[1,3,3,1],[1,3,4,1],[1,3,7,1],[1,3,5,1],[1,3,6,1],[1,3,1,1],[1,3,6,1],[1,3,10,1],[1,3,2,1],[1,3,4,1],[1,3,2,1],[1,3,1,1],[1,3,5,1],[1,2,4,1],[1,2,2,1],[1,2,8,1],[1,2,3,1],[1,2,1,1],[1,2,9,1],[1,2,10,1],[1,2,9,1],[1,2,4,1],[1,2,5,1],[1,2,0,1],[1,2,9,1],[1,2,9,1],[1,2,0,1],[1,2,1,1],[1,2,1,1],[1,2,4,1],[1,1,0,1],[1,1,2,1],[1,1,2,1],[1,1,5,1],[1,1,3,1],[1,1,10,1],[1,1,6,1],[1,1,0,1],[1,1,8,1],[1,1,6,1],[1,1,4,1],[1,1,9,1],[1,1,9,1],[1,1,4,1],[1,1,2,1],[1,1,9,1],[1,1,0,1],[1,1,8,1],[1,1,6,1],[1,1,1,1],[1,1,1,1],[1,1,5,1]]\n",
    "daily_minutes_good = [68.77,51.25,52.08,38.36,44.54,57.13,51.4,41.42,31.22,34.76,54.01,38.79,47.59,49.1,27.66,41.03,36.73,48.65,28.12,46.62,35.57,32.98,35,26.07,23.77,39.73,40.57,31.65,31.21,36.32,20.45,21.93,26.02,27.34,23.49,46.94,30.5,33.8,24.23,21.4,27.94,32.24,40.57,25.07,19.42,22.39,18.42,46.96,23.72,26.41,26.97,36.76,40.32,35.02,29.47,30.2,31,38.11,38.18,36.31,21.03,30.86,36.07,28.66,29.08,37.28,15.28,24.17,22.31,30.17,25.53,19.85,35.37,44.6,17.23,13.47,26.33,35.02,32.09,24.81,19.33,28.77,24.26,31.98,25.73,24.86,16.28,34.51,15.23,39.72,40.8,26.06,35.76,34.76,16.13,44.04,18.03,19.65,32.62,35.59,39.43,14.18,35.24,40.13,41.82,35.45,36.07,43.67,24.61,20.9,21.9,18.79,27.61,27.21,26.61,29.77,20.59,27.53,13.82,33.2,25,33.1,36.65,18.63,14.87,22.2,36.81,25.53,24.62,26.25,18.21,28.08,19.42,29.79,32.8,35.99,28.32,27.79,35.88,29.06,36.28,14.1,36.63,37.49,26.9,18.58,38.48,24.48,18.95,33.55,14.24,29.04,32.51,25.63,22.22,19,32.73,15.16,13.9,27.2,32.01,29.27,33,13.74,20.42,27.32,18.23,35.35,28.48,9.08,24.62,20.12,35.26,19.92,31.02,16.49,12.16,30.7,31.22,34.65,13.13,27.51,33.2,31.57,14.1,33.42,17.44,10.12,24.42,9.82,23.39,30.93,15.03,21.67,31.09,33.29,22.61,26.89,23.48,8.38,27.81,32.35,23.84]"
   ]
  },
  {
   "cell_type": "code",
   "execution_count": 33,
   "id": "81230a11",
   "metadata": {},
   "outputs": [
    {
     "name": "stderr",
     "output_type": "stream",
     "text": [
      "least squares fit:   0%|          | 0/5000 [00:00<?, ?it/s]"
     ]
    },
    {
     "name": "stderr",
     "output_type": "stream",
     "text": [
      "least squares fit: 100%|██████████| 5000/5000 [00:01<00:00, 2556.77it/s]\n"
     ]
    }
   ],
   "source": [
    "import numpy as np\n",
    "\n",
    "random.seed(0)\n",
    "\n",
    "# I used trial and error to choose num_iters and step_size\n",
    "# This will run for a while, so you might want to reduce num_iters\n",
    "learning_rate = 0.001\n",
    "\n",
    "beta = least_squares_fit(inputs, daily_minutes_good, learning_rate, 5000, 25)\n",
    "assert 30.50 < beta[0] < 30.70 # Constant term\n",
    "assert 0.96 < beta[1] < 1.00 # num friends\n",
    "assert -1.89 < beta[2] < -1.85 # work hours per day\n",
    "assert 0.91 < beta[3] < 0.94 # has Phd"
   ]
  },
  {
   "cell_type": "markdown",
   "id": "0813be4b",
   "metadata": {},
   "source": [
    "Dalam praktiknya, kamu tidak dapat memperkirakan **linear regression** menggunakan gradient descent"
   ]
  },
  {
   "cell_type": "markdown",
   "id": "6212abf5",
   "metadata": {},
   "source": [
    "Untuk mendapatkan koeffisien yang tepat menggunakan **linear algebra** teknik bahwa :"
   ]
  },
  {
   "cell_type": "code",
   "execution_count": 43,
   "id": "939345af",
   "metadata": {},
   "outputs": [],
   "source": [
    "import numpy as np\n",
    "\n",
    "def least_square_approximation(vector_x, vector_y):\n",
    "    \"\"\"\n",
    "    Menghitung beta dengan menggunakan numpy untuk least squares approximation.\n",
    "    \"\"\"\n",
    "    X = np.array(vector_x)\n",
    "    y = np.array(vector_y)\n",
    "    return np.linalg.lstsq(X, y, rcond=None)[0]\n",
    "\n",
    "def least_square_approximation2(vector_x, vector_y):\n",
    "    \"\"\"\n",
    "    Menghitung beta dengan menggunakan numpy untuk least squares approximation.\n",
    "    \"\"\"\n",
    "    x = np.array(vector_x)\n",
    "    y = np.array(vector_y)\n",
    "\n",
    "    # A = (X^T*X)⁻¹\n",
    "    transpose_x = np.transpose(x)\n",
    "    temp = transpose_x @ x\n",
    "    A = np.linalg.inv(temp)\n",
    "\n",
    "    # D = X^T * y\n",
    "    D = transpose_x @ y\n",
    "\n",
    "    # β = A*D = 最終解 = (X^T*X)⁻¹ * X^T * y\n",
    "    β = A @ D\n",
    "    return list(np.round(β,3))"
   ]
  },
  {
   "cell_type": "code",
   "execution_count": 44,
   "id": "676f01c0",
   "metadata": {},
   "outputs": [
    {
     "data": {
      "text/plain": [
       "array([30.57901812,  0.97250518, -1.86503639,  0.9232007 ])"
      ]
     },
     "execution_count": 44,
     "metadata": {},
     "output_type": "execute_result"
    }
   ],
   "source": [
    "least_square_approximation(inputs, daily_minutes_good)"
   ]
  },
  {
   "cell_type": "code",
   "execution_count": 45,
   "id": "6b9e3ad0",
   "metadata": {},
   "outputs": [
    {
     "data": {
      "text/plain": [
       "[np.float64(30.579), np.float64(0.973), np.float64(-1.865), np.float64(0.923)]"
      ]
     },
     "execution_count": 45,
     "metadata": {},
     "output_type": "execute_result"
    }
   ],
   "source": [
    "least_square_approximation2(inputs, daily_minutes_good)\n",
    "# Output:"
   ]
  },
  {
   "cell_type": "markdown",
   "id": "5ddb0254",
   "metadata": {},
   "source": [
    "## Setelah dihitung, persamaannya adalah:\n",
    "```\n",
    "menit = 30,579 + 0,973 teman - 1,865 jam kerja + 0,923 gelar doktor\n",
    "```"
   ]
  },
  {
   "cell_type": "markdown",
   "id": "99d321a0",
   "metadata": {},
   "source": [
    "# Model Penjelasan\n",
    "\n",
    "**Jika faktor lainnya sama**:\n",
    "* Setiap teman tambahan meningkatkan waktu yang dihabiskan di situs hampir 1 menit per hari.\n",
    "* Setiap jam tambahan waktu kerja yang dihabiskan oleh pengguna mengurangi waktu yang dihabiskan di situs hampir 2 menit per hari.\n",
    "* Setiap pengguna dengan gelar PhD menghabiskan hampir 1 menit lebih banyak di situs per hari.\n",
    "\n",
    "Interaksi antara variabel-variabel ini mungkin memiliki efek yang berbeda pada waktu kerja bagi orang-orang dengan lebih banyak atau lebih sedikit teman."
   ]
  },
  {
   "cell_type": "markdown",
   "id": "7776c3bf",
   "metadata": {},
   "source": [
    "# Kesesuaian\n",
    "Gunakan nilai **R-kuadrat** untuk mengamati:"
   ]
  },
  {
   "cell_type": "code",
   "execution_count": 46,
   "id": "b2eeb972",
   "metadata": {},
   "outputs": [],
   "source": [
    "def mean(xs: List[float]) -> float:\n",
    "    \"\"\"Menghitung rata-rata dari daftar angka.\"\"\"\n",
    "    return sum(xs) / len(xs)\n",
    "\n",
    "def de_mean(xs: List[float]) -> List[float]:\n",
    "    \"\"\"Menghitung de-mean dari daftar angka.\"\"\"\n",
    "    x_bar = mean(xs)\n",
    "    return [x - x_bar for x in xs]"
   ]
  },
  {
   "cell_type": "code",
   "execution_count": 49,
   "id": "7fccdbb7",
   "metadata": {},
   "outputs": [],
   "source": [
    "def sum_of_squares(x: List[float], y: List[float], beta: Vector) -> float:\n",
    "    \"\"\"Menghitung jumlah kuadrat dari error.\"\"\"\n",
    "    return sum(error(x_i, y_i, beta) ** 2 for x_i, y_i in zip(x, y))\n",
    "\n",
    "def total_sum_squares(y: List[float]) -> float:\n",
    "    \"\"\"Menghitung total sum of squares dari y.\"\"\"\n",
    "    return sum(v ** 2 for v in de_mean(y))\n",
    "\n",
    "def multiple_r_squared(xs: List[float], ys: Vector, beta: Vector) -> float:\n",
    "    \"\"\"\n",
    "    Menghitung R-squared untuk model regresi linear berganda.\n",
    "    Ini mengukur proporsi variansi dalam y yang dapat dijelaskan oleh x.\n",
    "    \"\"\"\n",
    "    sum_of_squared_errors = sum(error(x, y, beta) ** 2 for x, y in zip(xs, ys))\n",
    "    return 1.0 - (sum_of_squared_errors / total_sum_squares(ys))\n",
    "\n",
    "def total_sum_of_squares(y: List[float]) -> float:\n",
    "    \"\"\"Menghitung total sum of squares dari y.\"\"\"\n",
    "    return sum(v ** 2 for v in de_mean(y))"
   ]
  },
  {
   "cell_type": "code",
   "execution_count": 52,
   "id": "f30afb66",
   "metadata": {},
   "outputs": [
    {
     "name": "stdout",
     "output_type": "stream",
     "text": [
      "R-squared: 0.680\n"
     ]
    }
   ],
   "source": [
    "rsq = multiple_r_squared(inputs, daily_minutes_good, beta)\n",
    "assert 0.67 < rsq < 0.68  # R-squared value should be around 0.67\n",
    "print(\"R-squared: %.3f\" %rsq)  # Output: R-squared: 0.67"
   ]
  },
  {
   "cell_type": "markdown",
   "id": "620c62bd",
   "metadata": {},
   "source": [
    "Dalam model **multiple regression** kita perlu mengapati simpangan baku setiap koefisien untuk mengukur setiap estimasi bi yang diperoleh.\n",
    "\n",
    "**Asumsi untuk mengukur galat**:\n",
    "Istilah galat εi adalah **variabel acak normal independen** dengan rata-rata 0 dan simpangan baku σ.\n",
    "Semakin besar simpangan baku koefisien dalam model, semakin rendah keandalan koefisien.\n",
    "\n",
    "# Bootstrap (pengambilan sampel berulang)\n",
    "Misalkan kita memiliki sekumpulan sampel yang berisi N data, yang dihasilkan menurut beberapa distribusi yang tidak diketahui:\n",
    "\n",
    "```\n",
    "data = get_sample(num_points = n\n",
    "```\n",
    "Jika kita berulang kali memperoleh beberapa kelompok sampel, kita dapat menghitung median dari banyak kelompok sampel dan kemudian mengamati distribusi median ini.\n",
    "Dalam kasus ini, \"pengambilan sampel berulang (bootstrap)\" dapat digunakan untuk memilih kembali n data dari kumpulan data asli dan menyusunnya kembali menjadi kumpulan data baru untuk menggantikan yang asli."
   ]
  },
  {
   "cell_type": "code",
   "execution_count": 60,
   "id": "ada0da6f",
   "metadata": {},
   "outputs": [],
   "source": [
    "from typing import TypeVar, Callable\n",
    "\n",
    "X = TypeVar('X')\n",
    "Stat = TypeVar('Stat')\n",
    "\n",
    "def bootstrap_sample(data: List[X]) -> List[X]:\n",
    "    \"\"\"Mengambil sampel bootstrap dari data.\"\"\"\n",
    "    return [random.choice(data) for _ in data]\n",
    "\n",
    "def bootstrap_statistic(data: List[X], stats_fn: Callable[[List[X]], Stat], num_samples: int) -> List[Stat]:\n",
    "    \"\"\"Menghitung statistik dari sampel bootstrap.\"\"\"\n",
    "    return [stats_fn(bootstrap_sample(data)) for _ in range(num_samples)]"
   ]
  },
  {
   "cell_type": "markdown",
   "id": "f1930954",
   "metadata": {},
   "source": [
    "Sebagai contoh, menggunakan dua dataset"
   ]
  },
  {
   "cell_type": "code",
   "execution_count": 65,
   "id": "21eacb00",
   "metadata": {},
   "outputs": [],
   "source": [
    "# 101 points all very close to 100\n",
    "close_to_100 = [99.5 + random.random() for _ in range(101)]\n",
    "\n",
    "# 101 points, 50 dari mereka dekat 0, 50 dari mereka dekat 200\n",
    "far_from_100 = ([99.5 + random.random()] + [random.random() for _ in range(50)] + [200 + random.random() for _ in range(50)])"
   ]
  },
  {
   "cell_type": "markdown",
   "id": "40028e0d",
   "metadata": {},
   "source": [
    "Mengitung median dari dua dataset, keduanya mendekati ke 100, namun terlikat seperti:"
   ]
  },
  {
   "cell_type": "code",
   "execution_count": 66,
   "id": "baaad1ae",
   "metadata": {},
   "outputs": [],
   "source": [
    "def sum_of_squares(v: List[float]) -> float:\n",
    "    \"\"\"Mengiting sum of squares dari vektor.\"\"\"\n",
    "    return dot(v,v)\n",
    "\n",
    "def _median_odd(xs: List[float]) -> float:\n",
    "    \"\"\"Menghitung median dari daftar angka dengan panjang ganjil.\"\"\"\n",
    "    return sorted(xs)[len(xs) // 2]\n",
    "\n",
    "def _median_even(xs: List[float]) -> float:\n",
    "    \"\"\"Menghitung median dari daftar angka dengan panjang genap.\"\"\"\n",
    "    sorted_xs = sorted(xs)\n",
    "    mid = len(xs) // 2\n",
    "    return (sorted_xs[mid - 1] + sorted_xs[mid]) / 2\n",
    "\n",
    "def median(v: List[float]) -> float:\n",
    "    \"\"\"Menghitung median dari daftar angka.\"\"\"\n",
    "    return _median_even(v) if len(v) % 2 == 0 else _median_odd(v)\n",
    "\n",
    "import math\n",
    "\n",
    "def variance(xs: List[float]) -> float:\n",
    "    \"\"\"Menghitung variansi dari daftar angka.\"\"\"\n",
    "    assert len(xs), \"Daftar tidak boleh kosong\"\n",
    "\n",
    "    n = len(xs)\n",
    "    deviations = de_mean(xs)\n",
    "    return sum_of_squares(deviations) / (n - 1)\n",
    "\n",
    "def standard_deviation(xs: List[float]) -> float:\n",
    "    \"\"\"Menghitung deviasi standar dari daftar angka.\"\"\"\n",
    "    return math.sqrt(variance(xs))"
   ]
  },
  {
   "cell_type": "code",
   "execution_count": 67,
   "id": "2f05f433",
   "metadata": {},
   "outputs": [
    {
     "name": "stdout",
     "output_type": "stream",
     "text": [
      "Standard deviation of median for close to 100: 0.06420190628801245\n",
      "Standard deviation of median for far from 100: 92.87548957205084\n"
     ]
    }
   ],
   "source": [
    "median_close = bootstrap_statistic(close_to_100, median, 100)\n",
    "median_far = bootstrap_statistic(far_from_100, median, 100)\n",
    "\n",
    "assert standard_deviation(median_close) < 1\n",
    "assert standard_deviation(median_far) > 90\n",
    "\n",
    "print(\"Standard deviation of median for close to 100:\", standard_deviation(median_close))\n",
    "print(\"Standard deviation of median for far from 100:\", standard_deviation(median_far))"
   ]
  },
  {
   "cell_type": "markdown",
   "id": "96f41cd0",
   "metadata": {},
   "source": [
    "### Standard Error of Regression Coefficients\n",
    "\n",
    "Kita dapat menggunakan pendekatan yang sama memperkirakan **standard error** regression koefisien."
   ]
  },
  {
   "cell_type": "code",
   "execution_count": 69,
   "id": "c9db1a5a",
   "metadata": {},
   "outputs": [
    {
     "name": "stderr",
     "output_type": "stream",
     "text": [
      "least squares fit: 100%|██████████| 5000/5000 [00:01<00:00, 2584.67it/s]\n"
     ]
    },
    {
     "name": "stdout",
     "output_type": "stream",
     "text": [
      "bootsrap_sample [30.49402029547432, 1.0393791030498776, -1.9516851948558502, 0.7483721251697333]\n"
     ]
    },
    {
     "name": "stderr",
     "output_type": "stream",
     "text": [
      "least squares fit: 100%|██████████| 5000/5000 [00:02<00:00, 2424.48it/s]\n"
     ]
    },
    {
     "name": "stdout",
     "output_type": "stream",
     "text": [
      "bootsrap_sample [30.149963287526045, 1.0005300432763113, -2.0650380122822543, 3.177179854834797]\n"
     ]
    },
    {
     "name": "stderr",
     "output_type": "stream",
     "text": [
      "least squares fit: 100%|██████████| 5000/5000 [00:02<00:00, 2234.14it/s]\n"
     ]
    },
    {
     "name": "stdout",
     "output_type": "stream",
     "text": [
      "bootsrap_sample [29.202826897693722, 1.0017089956376213, -1.5294248424787367, 0.9528580285760854]\n"
     ]
    },
    {
     "name": "stderr",
     "output_type": "stream",
     "text": [
      "least squares fit: 100%|██████████| 5000/5000 [00:01<00:00, 2630.13it/s]\n"
     ]
    },
    {
     "name": "stdout",
     "output_type": "stream",
     "text": [
      "bootsrap_sample [31.29481217471851, 0.959264729494101, -1.9120875473727545, 0.039471107599519425]\n"
     ]
    },
    {
     "name": "stderr",
     "output_type": "stream",
     "text": [
      "least squares fit: 100%|██████████| 5000/5000 [00:02<00:00, 2479.97it/s]\n"
     ]
    },
    {
     "name": "stdout",
     "output_type": "stream",
     "text": [
      "bootsrap_sample [32.124144227949955, 0.8569794405277468, -1.9936770520754086, 1.0416943131373024]\n"
     ]
    },
    {
     "name": "stderr",
     "output_type": "stream",
     "text": [
      "least squares fit: 100%|██████████| 5000/5000 [00:01<00:00, 2507.00it/s]\n"
     ]
    },
    {
     "name": "stdout",
     "output_type": "stream",
     "text": [
      "bootsrap_sample [31.8691994453096, 0.7748022870492418, -2.0087625702876446, -1.2407036547656678]\n"
     ]
    },
    {
     "name": "stderr",
     "output_type": "stream",
     "text": [
      "least squares fit: 100%|██████████| 5000/5000 [00:02<00:00, 2405.58it/s]\n"
     ]
    },
    {
     "name": "stdout",
     "output_type": "stream",
     "text": [
      "bootsrap_sample [31.08119759650208, 0.998386254386918, -1.9833984114987815, 0.9567646217580389]\n"
     ]
    },
    {
     "name": "stderr",
     "output_type": "stream",
     "text": [
      "least squares fit: 100%|██████████| 5000/5000 [00:02<00:00, 2404.37it/s]\n"
     ]
    },
    {
     "name": "stdout",
     "output_type": "stream",
     "text": [
      "bootsrap_sample [29.254530450577782, 0.9763387220017684, -1.7430339427043595, 1.9944240584590935]\n"
     ]
    },
    {
     "name": "stderr",
     "output_type": "stream",
     "text": [
      "least squares fit: 100%|██████████| 5000/5000 [00:02<00:00, 2386.98it/s]\n"
     ]
    },
    {
     "name": "stdout",
     "output_type": "stream",
     "text": [
      "bootsrap_sample [31.649174199331632, 0.9389340937491032, -1.9733848473304205, -0.15249287969349437]\n"
     ]
    },
    {
     "name": "stderr",
     "output_type": "stream",
     "text": [
      "least squares fit: 100%|██████████| 5000/5000 [00:02<00:00, 2446.78it/s]\n"
     ]
    },
    {
     "name": "stdout",
     "output_type": "stream",
     "text": [
      "bootsrap_sample [30.040109260720964, 1.0531247386421572, -1.7694878560354388, 1.302971911084249]\n"
     ]
    },
    {
     "name": "stderr",
     "output_type": "stream",
     "text": [
      "least squares fit: 100%|██████████| 5000/5000 [00:02<00:00, 2278.96it/s]\n"
     ]
    },
    {
     "name": "stdout",
     "output_type": "stream",
     "text": [
      "bootsrap_sample [29.066927054721297, 1.2792640005590372, -1.937339904947856, 0.9183668519320846]\n"
     ]
    },
    {
     "name": "stderr",
     "output_type": "stream",
     "text": [
      "least squares fit: 100%|██████████| 5000/5000 [00:02<00:00, 2300.33it/s]\n"
     ]
    },
    {
     "name": "stdout",
     "output_type": "stream",
     "text": [
      "bootsrap_sample [31.740476303331718, 0.9538879291586574, -2.0689725879612477, 1.4785830120835612]\n"
     ]
    },
    {
     "name": "stderr",
     "output_type": "stream",
     "text": [
      "least squares fit: 100%|██████████| 5000/5000 [00:02<00:00, 2284.82it/s]\n"
     ]
    },
    {
     "name": "stdout",
     "output_type": "stream",
     "text": [
      "bootsrap_sample [29.46654084062671, 0.9837739845117637, -1.9915052407093472, 3.150029950640157]\n"
     ]
    },
    {
     "name": "stderr",
     "output_type": "stream",
     "text": [
      "least squares fit: 100%|██████████| 5000/5000 [00:01<00:00, 2571.28it/s]\n"
     ]
    },
    {
     "name": "stdout",
     "output_type": "stream",
     "text": [
      "bootsrap_sample [30.97515705531374, 0.9420086669374396, -2.0367671746636065, 0.6323599067111714]\n"
     ]
    },
    {
     "name": "stderr",
     "output_type": "stream",
     "text": [
      "least squares fit: 100%|██████████| 5000/5000 [00:02<00:00, 2494.42it/s]\n"
     ]
    },
    {
     "name": "stdout",
     "output_type": "stream",
     "text": [
      "bootsrap_sample [31.478778128163995, 0.8623617407485805, -1.8798782324632368, -0.11949170941208796]\n"
     ]
    },
    {
     "name": "stderr",
     "output_type": "stream",
     "text": [
      "least squares fit: 100%|██████████| 5000/5000 [00:01<00:00, 2597.20it/s]\n"
     ]
    },
    {
     "name": "stdout",
     "output_type": "stream",
     "text": [
      "bootsrap_sample [33.87286992682308, 0.8824018752321863, -1.8978803929581156, -1.0333647107478692]\n"
     ]
    },
    {
     "name": "stderr",
     "output_type": "stream",
     "text": [
      "least squares fit: 100%|██████████| 5000/5000 [00:01<00:00, 2517.14it/s]\n"
     ]
    },
    {
     "name": "stdout",
     "output_type": "stream",
     "text": [
      "bootsrap_sample [29.272206898314987, 1.0899411603739348, -1.8911943299601002, 3.162677841885805]\n"
     ]
    },
    {
     "name": "stderr",
     "output_type": "stream",
     "text": [
      "least squares fit: 100%|██████████| 5000/5000 [00:02<00:00, 2458.03it/s]\n"
     ]
    },
    {
     "name": "stdout",
     "output_type": "stream",
     "text": [
      "bootsrap_sample [30.83577809561691, 1.0242186355671827, -1.9209251081222494, 1.3383795133620962]\n"
     ]
    },
    {
     "name": "stderr",
     "output_type": "stream",
     "text": [
      "least squares fit: 100%|██████████| 5000/5000 [00:02<00:00, 2469.76it/s]\n"
     ]
    },
    {
     "name": "stdout",
     "output_type": "stream",
     "text": [
      "bootsrap_sample [28.211162672015906, 1.458352440392638, -1.70241171517105, 0.94520401518726]\n"
     ]
    },
    {
     "name": "stderr",
     "output_type": "stream",
     "text": [
      "least squares fit: 100%|██████████| 5000/5000 [00:01<00:00, 2513.88it/s]\n"
     ]
    },
    {
     "name": "stdout",
     "output_type": "stream",
     "text": [
      "bootsrap_sample [29.93552336056075, 0.9470529669956465, -1.8491245571618218, 0.8573641103651921]\n"
     ]
    },
    {
     "name": "stderr",
     "output_type": "stream",
     "text": [
      "least squares fit: 100%|██████████| 5000/5000 [00:02<00:00, 2468.43it/s]\n"
     ]
    },
    {
     "name": "stdout",
     "output_type": "stream",
     "text": [
      "bootsrap_sample [30.636052325886002, 0.9966176913889679, -1.8308401560119625, 0.13862673979220685]\n"
     ]
    },
    {
     "name": "stderr",
     "output_type": "stream",
     "text": [
      "least squares fit: 100%|██████████| 5000/5000 [00:02<00:00, 2480.72it/s]\n"
     ]
    },
    {
     "name": "stdout",
     "output_type": "stream",
     "text": [
      "bootsrap_sample [30.855945311129382, 0.9925731301194982, -1.834813509355548, 1.9711641797749935]\n"
     ]
    },
    {
     "name": "stderr",
     "output_type": "stream",
     "text": [
      "least squares fit: 100%|██████████| 5000/5000 [00:01<00:00, 2530.03it/s]\n"
     ]
    },
    {
     "name": "stdout",
     "output_type": "stream",
     "text": [
      "bootsrap_sample [29.77226728370608, 1.0493381798575807, -1.6999309651266667, 0.9221651877575128]\n"
     ]
    },
    {
     "name": "stderr",
     "output_type": "stream",
     "text": [
      "least squares fit: 100%|██████████| 5000/5000 [00:02<00:00, 2495.81it/s]\n"
     ]
    },
    {
     "name": "stdout",
     "output_type": "stream",
     "text": [
      "bootsrap_sample [28.78470035821775, 0.9629668755117143, -1.7818333154132011, 1.905170320676074]\n"
     ]
    },
    {
     "name": "stderr",
     "output_type": "stream",
     "text": [
      "least squares fit: 100%|██████████| 5000/5000 [00:01<00:00, 2601.55it/s]\n"
     ]
    },
    {
     "name": "stdout",
     "output_type": "stream",
     "text": [
      "bootsrap_sample [31.769457992268443, 0.9040180814550004, -1.867677593282121, -0.7957987643064021]\n"
     ]
    },
    {
     "name": "stderr",
     "output_type": "stream",
     "text": [
      "least squares fit: 100%|██████████| 5000/5000 [00:01<00:00, 2638.84it/s]\n"
     ]
    },
    {
     "name": "stdout",
     "output_type": "stream",
     "text": [
      "bootsrap_sample [30.06836087625883, 0.9237365767889174, -1.7326788050658604, 1.9044381512517516]\n"
     ]
    },
    {
     "name": "stderr",
     "output_type": "stream",
     "text": [
      "least squares fit: 100%|██████████| 5000/5000 [00:02<00:00, 2378.88it/s]\n"
     ]
    },
    {
     "name": "stdout",
     "output_type": "stream",
     "text": [
      "bootsrap_sample [29.248924522774857, 1.0251706036709467, -1.6396068581125103, 1.7875039505127974]\n"
     ]
    },
    {
     "name": "stderr",
     "output_type": "stream",
     "text": [
      "least squares fit: 100%|██████████| 5000/5000 [00:01<00:00, 2545.56it/s]\n"
     ]
    },
    {
     "name": "stdout",
     "output_type": "stream",
     "text": [
      "bootsrap_sample [26.160390418551746, 1.3566609275406472, -1.880731098382104, 3.884946816272215]\n"
     ]
    },
    {
     "name": "stderr",
     "output_type": "stream",
     "text": [
      "least squares fit: 100%|██████████| 5000/5000 [00:01<00:00, 2508.58it/s]\n"
     ]
    },
    {
     "name": "stdout",
     "output_type": "stream",
     "text": [
      "bootsrap_sample [31.9708823034869, 0.8717159490168253, -1.8037586194211703, -0.23788897755135452]\n"
     ]
    },
    {
     "name": "stderr",
     "output_type": "stream",
     "text": [
      "least squares fit: 100%|██████████| 5000/5000 [00:01<00:00, 2621.04it/s]\n"
     ]
    },
    {
     "name": "stdout",
     "output_type": "stream",
     "text": [
      "bootsrap_sample [30.580903591168788, 0.9610711598856186, -1.8984859248085817, -0.0023187395782722853]\n"
     ]
    },
    {
     "name": "stderr",
     "output_type": "stream",
     "text": [
      "least squares fit: 100%|██████████| 5000/5000 [00:01<00:00, 2518.82it/s]\n"
     ]
    },
    {
     "name": "stdout",
     "output_type": "stream",
     "text": [
      "bootsrap_sample [31.433330253362577, 0.8768141821390377, -1.7328584033279486, -0.10210988051437449]\n"
     ]
    },
    {
     "name": "stderr",
     "output_type": "stream",
     "text": [
      "least squares fit: 100%|██████████| 5000/5000 [00:01<00:00, 2506.08it/s]\n"
     ]
    },
    {
     "name": "stdout",
     "output_type": "stream",
     "text": [
      "bootsrap_sample [30.984236860566945, 1.036149466142919, -2.2200016449095226, 1.0886749895563579]\n"
     ]
    },
    {
     "name": "stderr",
     "output_type": "stream",
     "text": [
      "least squares fit: 100%|██████████| 5000/5000 [00:02<00:00, 2439.43it/s]\n"
     ]
    },
    {
     "name": "stdout",
     "output_type": "stream",
     "text": [
      "bootsrap_sample [29.28237674477942, 1.0858388836439414, -1.74280602847473, 1.4397328297413239]\n"
     ]
    },
    {
     "name": "stderr",
     "output_type": "stream",
     "text": [
      "least squares fit: 100%|██████████| 5000/5000 [00:01<00:00, 2539.49it/s]\n"
     ]
    },
    {
     "name": "stdout",
     "output_type": "stream",
     "text": [
      "bootsrap_sample [30.65460047430859, 0.9454408039075628, -1.7320071301269266, -0.1485862182089119]\n"
     ]
    },
    {
     "name": "stderr",
     "output_type": "stream",
     "text": [
      "least squares fit: 100%|██████████| 5000/5000 [00:01<00:00, 2536.21it/s]\n"
     ]
    },
    {
     "name": "stdout",
     "output_type": "stream",
     "text": [
      "bootsrap_sample [29.118139496835955, 0.893808801696634, -1.9153563192896768, 2.0598345811489462]\n"
     ]
    },
    {
     "name": "stderr",
     "output_type": "stream",
     "text": [
      "least squares fit: 100%|██████████| 5000/5000 [00:01<00:00, 2603.91it/s]\n"
     ]
    },
    {
     "name": "stdout",
     "output_type": "stream",
     "text": [
      "bootsrap_sample [29.95488463195938, 0.9940567914003665, -1.7605085370056377, 1.6096257131696945]\n"
     ]
    },
    {
     "name": "stderr",
     "output_type": "stream",
     "text": [
      "least squares fit: 100%|██████████| 5000/5000 [00:01<00:00, 2646.24it/s]\n"
     ]
    },
    {
     "name": "stdout",
     "output_type": "stream",
     "text": [
      "bootsrap_sample [31.000164842544855, 0.962368315956188, -1.9115208623969564, 0.7473190835230143]\n"
     ]
    },
    {
     "name": "stderr",
     "output_type": "stream",
     "text": [
      "least squares fit: 100%|██████████| 5000/5000 [00:01<00:00, 2558.68it/s]\n"
     ]
    },
    {
     "name": "stdout",
     "output_type": "stream",
     "text": [
      "bootsrap_sample [30.825204744897878, 0.8912590208026672, -1.770469093607492, 0.7459655949536621]\n"
     ]
    },
    {
     "name": "stderr",
     "output_type": "stream",
     "text": [
      "least squares fit: 100%|██████████| 5000/5000 [00:01<00:00, 2552.99it/s]\n"
     ]
    },
    {
     "name": "stdout",
     "output_type": "stream",
     "text": [
      "bootsrap_sample [29.366136812382027, 1.012558241060829, -1.6182773155952548, 1.017025703754098]\n"
     ]
    },
    {
     "name": "stderr",
     "output_type": "stream",
     "text": [
      "least squares fit: 100%|██████████| 5000/5000 [00:01<00:00, 2574.36it/s]\n"
     ]
    },
    {
     "name": "stdout",
     "output_type": "stream",
     "text": [
      "bootsrap_sample [29.94295970143512, 1.0167217566773747, -1.5621167917565122, -0.1030904763985423]\n"
     ]
    },
    {
     "name": "stderr",
     "output_type": "stream",
     "text": [
      "least squares fit: 100%|██████████| 5000/5000 [00:01<00:00, 2605.02it/s]\n"
     ]
    },
    {
     "name": "stdout",
     "output_type": "stream",
     "text": [
      "bootsrap_sample [29.962898858207343, 1.0652251821283687, -1.926924147663584, 2.0385736378519947]\n"
     ]
    },
    {
     "name": "stderr",
     "output_type": "stream",
     "text": [
      "least squares fit: 100%|██████████| 5000/5000 [00:01<00:00, 2552.56it/s]\n"
     ]
    },
    {
     "name": "stdout",
     "output_type": "stream",
     "text": [
      "bootsrap_sample [30.525302041791818, 0.9658944102293198, -1.8870631894489638, 0.5367690208128764]\n"
     ]
    },
    {
     "name": "stderr",
     "output_type": "stream",
     "text": [
      "least squares fit: 100%|██████████| 5000/5000 [00:02<00:00, 2329.69it/s]\n"
     ]
    },
    {
     "name": "stdout",
     "output_type": "stream",
     "text": [
      "bootsrap_sample [30.6785320563259, 1.0139828545599132, -1.7817299670979692, 1.6026393229652947]\n"
     ]
    },
    {
     "name": "stderr",
     "output_type": "stream",
     "text": [
      "least squares fit: 100%|██████████| 5000/5000 [00:01<00:00, 2524.84it/s]\n"
     ]
    },
    {
     "name": "stdout",
     "output_type": "stream",
     "text": [
      "bootsrap_sample [30.09073747870904, 1.0047123547747132, -1.9560265455918162, 2.75259429615735]\n"
     ]
    },
    {
     "name": "stderr",
     "output_type": "stream",
     "text": [
      "least squares fit: 100%|██████████| 5000/5000 [00:01<00:00, 2515.18it/s]\n"
     ]
    },
    {
     "name": "stdout",
     "output_type": "stream",
     "text": [
      "bootsrap_sample [30.937038893678913, 0.9670590611928079, -2.1124811600264293, 0.3258045605146989]\n"
     ]
    },
    {
     "name": "stderr",
     "output_type": "stream",
     "text": [
      "least squares fit: 100%|██████████| 5000/5000 [00:01<00:00, 2500.92it/s]\n"
     ]
    },
    {
     "name": "stdout",
     "output_type": "stream",
     "text": [
      "bootsrap_sample [28.78930855900356, 1.1730115746597942, -1.7835138640623003, 3.2623158308236095]\n"
     ]
    },
    {
     "name": "stderr",
     "output_type": "stream",
     "text": [
      "least squares fit: 100%|██████████| 5000/5000 [00:01<00:00, 2622.90it/s]\n"
     ]
    },
    {
     "name": "stdout",
     "output_type": "stream",
     "text": [
      "bootsrap_sample [31.14754912309552, 0.9326436111603991, -1.7707952504307622, -1.099359064604309]\n"
     ]
    },
    {
     "name": "stderr",
     "output_type": "stream",
     "text": [
      "least squares fit: 100%|██████████| 5000/5000 [00:01<00:00, 2609.53it/s]\n"
     ]
    },
    {
     "name": "stdout",
     "output_type": "stream",
     "text": [
      "bootsrap_sample [31.813727613195653, 0.9683784085384612, -2.019078886892217, 0.7501206686148623]\n"
     ]
    },
    {
     "name": "stderr",
     "output_type": "stream",
     "text": [
      "least squares fit: 100%|██████████| 5000/5000 [00:01<00:00, 2589.90it/s]\n"
     ]
    },
    {
     "name": "stdout",
     "output_type": "stream",
     "text": [
      "bootsrap_sample [30.223398353230184, 0.9373764744862103, -1.5323607166675373, -0.01469994075209993]\n"
     ]
    },
    {
     "name": "stderr",
     "output_type": "stream",
     "text": [
      "least squares fit: 100%|██████████| 5000/5000 [00:01<00:00, 2606.13it/s]\n"
     ]
    },
    {
     "name": "stdout",
     "output_type": "stream",
     "text": [
      "bootsrap_sample [28.01777500444891, 1.091598878794665, -1.6190191022832499, 2.397154344588124]\n"
     ]
    },
    {
     "name": "stderr",
     "output_type": "stream",
     "text": [
      "least squares fit: 100%|██████████| 5000/5000 [00:01<00:00, 2636.98it/s]\n"
     ]
    },
    {
     "name": "stdout",
     "output_type": "stream",
     "text": [
      "bootsrap_sample [29.342668886496593, 0.9815156932180105, -1.9184777914462317, 1.5482939749639446]\n"
     ]
    },
    {
     "name": "stderr",
     "output_type": "stream",
     "text": [
      "least squares fit: 100%|██████████| 5000/5000 [00:01<00:00, 2601.50it/s]\n"
     ]
    },
    {
     "name": "stdout",
     "output_type": "stream",
     "text": [
      "bootsrap_sample [32.53937166649288, 1.060883971208886, -2.2704689582768722, 0.3681597653761555]\n"
     ]
    },
    {
     "name": "stderr",
     "output_type": "stream",
     "text": [
      "least squares fit: 100%|██████████| 5000/5000 [00:01<00:00, 2594.69it/s]\n"
     ]
    },
    {
     "name": "stdout",
     "output_type": "stream",
     "text": [
      "bootsrap_sample [30.106198499206915, 0.9657134612613777, -1.7191529436530641, -0.6267619207221298]\n"
     ]
    },
    {
     "name": "stderr",
     "output_type": "stream",
     "text": [
      "least squares fit: 100%|██████████| 5000/5000 [00:01<00:00, 2601.01it/s]\n"
     ]
    },
    {
     "name": "stdout",
     "output_type": "stream",
     "text": [
      "bootsrap_sample [29.993282359977137, 0.9757399392816419, -1.9767875486880904, 2.048669364846268]\n"
     ]
    },
    {
     "name": "stderr",
     "output_type": "stream",
     "text": [
      "least squares fit: 100%|██████████| 5000/5000 [00:01<00:00, 2584.84it/s]\n"
     ]
    },
    {
     "name": "stdout",
     "output_type": "stream",
     "text": [
      "bootsrap_sample [30.571136409586924, 1.066488813531558, -1.6618835177744289, -0.19985556821698586]\n"
     ]
    },
    {
     "name": "stderr",
     "output_type": "stream",
     "text": [
      "least squares fit: 100%|██████████| 5000/5000 [00:01<00:00, 2646.28it/s]\n"
     ]
    },
    {
     "name": "stdout",
     "output_type": "stream",
     "text": [
      "bootsrap_sample [30.9490097252882, 0.9597396222139453, -1.9214823753987709, 1.25885503487694]\n"
     ]
    },
    {
     "name": "stderr",
     "output_type": "stream",
     "text": [
      "least squares fit: 100%|██████████| 5000/5000 [00:01<00:00, 2501.32it/s]\n"
     ]
    },
    {
     "name": "stdout",
     "output_type": "stream",
     "text": [
      "bootsrap_sample [31.887007554673076, 0.9506671496957437, -2.152653973374404, 1.6869486505999165]\n"
     ]
    },
    {
     "name": "stderr",
     "output_type": "stream",
     "text": [
      "least squares fit: 100%|██████████| 5000/5000 [00:01<00:00, 2600.57it/s]\n"
     ]
    },
    {
     "name": "stdout",
     "output_type": "stream",
     "text": [
      "bootsrap_sample [29.081704350215187, 1.0495038787355986, -1.6920009023683746, 3.609080049949202]\n"
     ]
    },
    {
     "name": "stderr",
     "output_type": "stream",
     "text": [
      "least squares fit: 100%|██████████| 5000/5000 [00:01<00:00, 2584.04it/s]\n"
     ]
    },
    {
     "name": "stdout",
     "output_type": "stream",
     "text": [
      "bootsrap_sample [31.479546830562978, 1.1296437640969312, -1.8930013630375897, 0.2328971438009536]\n"
     ]
    },
    {
     "name": "stderr",
     "output_type": "stream",
     "text": [
      "least squares fit: 100%|██████████| 5000/5000 [00:01<00:00, 2599.19it/s]\n"
     ]
    },
    {
     "name": "stdout",
     "output_type": "stream",
     "text": [
      "bootsrap_sample [30.610973912805395, 1.0065894319911013, -1.836243246680104, 0.4499397217455247]\n"
     ]
    },
    {
     "name": "stderr",
     "output_type": "stream",
     "text": [
      "least squares fit: 100%|██████████| 5000/5000 [00:01<00:00, 2653.69it/s]\n"
     ]
    },
    {
     "name": "stdout",
     "output_type": "stream",
     "text": [
      "bootsrap_sample [31.80927695488258, 0.9821469730488941, -2.007959621103926, -0.2411398745050231]\n"
     ]
    },
    {
     "name": "stderr",
     "output_type": "stream",
     "text": [
      "least squares fit: 100%|██████████| 5000/5000 [00:01<00:00, 2646.37it/s]\n"
     ]
    },
    {
     "name": "stdout",
     "output_type": "stream",
     "text": [
      "bootsrap_sample [31.024210851804416, 0.9515774062029452, -1.9408222914617927, 0.6442854716394794]\n"
     ]
    },
    {
     "name": "stderr",
     "output_type": "stream",
     "text": [
      "least squares fit: 100%|██████████| 5000/5000 [00:01<00:00, 2613.12it/s]\n"
     ]
    },
    {
     "name": "stdout",
     "output_type": "stream",
     "text": [
      "bootsrap_sample [28.908141235990033, 1.0556273838810308, -1.7935754991375803, 2.082266951237433]\n"
     ]
    },
    {
     "name": "stderr",
     "output_type": "stream",
     "text": [
      "least squares fit: 100%|██████████| 5000/5000 [00:01<00:00, 2615.34it/s]\n"
     ]
    },
    {
     "name": "stdout",
     "output_type": "stream",
     "text": [
      "bootsrap_sample [30.025383087071763, 0.9490311032868943, -1.8905462953821093, 1.614968102502849]\n"
     ]
    },
    {
     "name": "stderr",
     "output_type": "stream",
     "text": [
      "least squares fit: 100%|██████████| 5000/5000 [00:01<00:00, 2581.32it/s]\n"
     ]
    },
    {
     "name": "stdout",
     "output_type": "stream",
     "text": [
      "bootsrap_sample [31.344911606937217, 0.9596230552550087, -2.084944019182774, 1.0635864768954955]\n"
     ]
    },
    {
     "name": "stderr",
     "output_type": "stream",
     "text": [
      "least squares fit: 100%|██████████| 5000/5000 [00:01<00:00, 2633.47it/s]\n"
     ]
    },
    {
     "name": "stdout",
     "output_type": "stream",
     "text": [
      "bootsrap_sample [30.88785665879763, 0.9739691303740718, -1.750496781109518, -2.0086684580110616]\n"
     ]
    },
    {
     "name": "stderr",
     "output_type": "stream",
     "text": [
      "least squares fit: 100%|██████████| 5000/5000 [00:01<00:00, 2623.87it/s]\n"
     ]
    },
    {
     "name": "stdout",
     "output_type": "stream",
     "text": [
      "bootsrap_sample [30.524172097277887, 0.9468432200060536, -1.7489583214704674, -0.42947540813439916]\n"
     ]
    },
    {
     "name": "stderr",
     "output_type": "stream",
     "text": [
      "least squares fit: 100%|██████████| 5000/5000 [00:01<00:00, 2619.54it/s]\n"
     ]
    },
    {
     "name": "stdout",
     "output_type": "stream",
     "text": [
      "bootsrap_sample [33.73887281461898, 0.8342998931764716, -2.0056583070815233, -1.0048943591784738]\n"
     ]
    },
    {
     "name": "stderr",
     "output_type": "stream",
     "text": [
      "least squares fit: 100%|██████████| 5000/5000 [00:01<00:00, 2586.20it/s]\n"
     ]
    },
    {
     "name": "stdout",
     "output_type": "stream",
     "text": [
      "bootsrap_sample [29.04731144829789, 0.9737448743420717, -1.7622553843049413, 0.9744871197165679]\n"
     ]
    },
    {
     "name": "stderr",
     "output_type": "stream",
     "text": [
      "least squares fit: 100%|██████████| 5000/5000 [00:01<00:00, 2624.54it/s]\n"
     ]
    },
    {
     "name": "stdout",
     "output_type": "stream",
     "text": [
      "bootsrap_sample [30.849086975523765, 1.1142041012783979, -2.055393538038613, 1.8606960468590918]\n"
     ]
    },
    {
     "name": "stderr",
     "output_type": "stream",
     "text": [
      "least squares fit: 100%|██████████| 5000/5000 [00:01<00:00, 2611.05it/s]\n"
     ]
    },
    {
     "name": "stdout",
     "output_type": "stream",
     "text": [
      "bootsrap_sample [31.20227902410509, 1.0148203879553739, -1.831139817867853, -0.12803605188562736]\n"
     ]
    },
    {
     "name": "stderr",
     "output_type": "stream",
     "text": [
      "least squares fit: 100%|██████████| 5000/5000 [00:01<00:00, 2531.14it/s]\n"
     ]
    },
    {
     "name": "stdout",
     "output_type": "stream",
     "text": [
      "bootsrap_sample [30.44951242588852, 0.9188875408835141, -1.6623667661150159, 0.41561209518705605]\n"
     ]
    },
    {
     "name": "stderr",
     "output_type": "stream",
     "text": [
      "least squares fit: 100%|██████████| 5000/5000 [00:01<00:00, 2619.45it/s]\n"
     ]
    },
    {
     "name": "stdout",
     "output_type": "stream",
     "text": [
      "bootsrap_sample [30.93743647937649, 0.9178249912706591, -1.91788395405578, 0.8027340312172657]\n"
     ]
    },
    {
     "name": "stderr",
     "output_type": "stream",
     "text": [
      "least squares fit: 100%|██████████| 5000/5000 [00:01<00:00, 2616.58it/s]\n"
     ]
    },
    {
     "name": "stdout",
     "output_type": "stream",
     "text": [
      "bootsrap_sample [33.07304817934109, 0.7669188362229076, -1.8621104803815107, -0.5344373694611129]\n"
     ]
    },
    {
     "name": "stderr",
     "output_type": "stream",
     "text": [
      "least squares fit: 100%|██████████| 5000/5000 [00:01<00:00, 2571.39it/s]\n"
     ]
    },
    {
     "name": "stdout",
     "output_type": "stream",
     "text": [
      "bootsrap_sample [30.98035452936738, 0.9608047189289309, -1.8571138381579286, 1.2456516010877]\n"
     ]
    },
    {
     "name": "stderr",
     "output_type": "stream",
     "text": [
      "least squares fit: 100%|██████████| 5000/5000 [00:01<00:00, 2582.09it/s]\n"
     ]
    },
    {
     "name": "stdout",
     "output_type": "stream",
     "text": [
      "bootsrap_sample [29.890049201061156, 0.9320508621300003, -1.815157140889288, 1.6197634219660293]\n"
     ]
    },
    {
     "name": "stderr",
     "output_type": "stream",
     "text": [
      "least squares fit: 100%|██████████| 5000/5000 [00:01<00:00, 2638.26it/s]\n"
     ]
    },
    {
     "name": "stdout",
     "output_type": "stream",
     "text": [
      "bootsrap_sample [32.7497073906742, 0.8163410438179741, -1.6727937223778233, -1.627203273138944]\n"
     ]
    },
    {
     "name": "stderr",
     "output_type": "stream",
     "text": [
      "least squares fit: 100%|██████████| 5000/5000 [00:02<00:00, 2487.27it/s]\n"
     ]
    },
    {
     "name": "stdout",
     "output_type": "stream",
     "text": [
      "bootsrap_sample [32.23550207094589, 0.9915112587422378, -2.201685593411146, 0.659721525694611]\n"
     ]
    },
    {
     "name": "stderr",
     "output_type": "stream",
     "text": [
      "least squares fit: 100%|██████████| 5000/5000 [00:02<00:00, 2480.03it/s]\n"
     ]
    },
    {
     "name": "stdout",
     "output_type": "stream",
     "text": [
      "bootsrap_sample [30.238346353105722, 0.9812068545490507, -1.9183149068660714, 2.4252389104819785]\n"
     ]
    },
    {
     "name": "stderr",
     "output_type": "stream",
     "text": [
      "least squares fit: 100%|██████████| 5000/5000 [00:02<00:00, 2472.51it/s]\n"
     ]
    },
    {
     "name": "stdout",
     "output_type": "stream",
     "text": [
      "bootsrap_sample [30.574120085079127, 0.9174840515163696, -1.791824539551342, 0.9221993996446399]\n"
     ]
    },
    {
     "name": "stderr",
     "output_type": "stream",
     "text": [
      "least squares fit: 100%|██████████| 5000/5000 [00:01<00:00, 2504.43it/s]\n"
     ]
    },
    {
     "name": "stdout",
     "output_type": "stream",
     "text": [
      "bootsrap_sample [30.200588272490595, 0.9290781608340558, -1.5128386060160508, -0.27164281164191667]\n"
     ]
    },
    {
     "name": "stderr",
     "output_type": "stream",
     "text": [
      "least squares fit: 100%|██████████| 5000/5000 [00:02<00:00, 2496.42it/s]\n"
     ]
    },
    {
     "name": "stdout",
     "output_type": "stream",
     "text": [
      "bootsrap_sample [30.568001921567824, 1.0423323558239714, -2.0539328282484295, 2.070512986336468]\n"
     ]
    },
    {
     "name": "stderr",
     "output_type": "stream",
     "text": [
      "least squares fit: 100%|██████████| 5000/5000 [00:02<00:00, 2413.57it/s]\n"
     ]
    },
    {
     "name": "stdout",
     "output_type": "stream",
     "text": [
      "bootsrap_sample [32.24170594033224, 0.928943846288939, -1.9597146432475416, -0.3283270089441192]\n"
     ]
    },
    {
     "name": "stderr",
     "output_type": "stream",
     "text": [
      "least squares fit: 100%|██████████| 5000/5000 [00:02<00:00, 2435.03it/s]\n"
     ]
    },
    {
     "name": "stdout",
     "output_type": "stream",
     "text": [
      "bootsrap_sample [32.867472630955, 1.0159010210188608, -2.0279568468137548, -0.5177147877542921]\n"
     ]
    },
    {
     "name": "stderr",
     "output_type": "stream",
     "text": [
      "least squares fit: 100%|██████████| 5000/5000 [00:02<00:00, 2366.03it/s]\n"
     ]
    },
    {
     "name": "stdout",
     "output_type": "stream",
     "text": [
      "bootsrap_sample [29.215869116992934, 1.0071212080144287, -1.9567505776484149, 3.7248516336467894]\n"
     ]
    },
    {
     "name": "stderr",
     "output_type": "stream",
     "text": [
      "least squares fit: 100%|██████████| 5000/5000 [00:02<00:00, 2420.07it/s]\n"
     ]
    },
    {
     "name": "stdout",
     "output_type": "stream",
     "text": [
      "bootsrap_sample [29.731620363957564, 1.0022351904608418, -1.6056750069107464, 0.38365805637548667]\n"
     ]
    },
    {
     "name": "stderr",
     "output_type": "stream",
     "text": [
      "least squares fit: 100%|██████████| 5000/5000 [00:02<00:00, 2430.26it/s]\n"
     ]
    },
    {
     "name": "stdout",
     "output_type": "stream",
     "text": [
      "bootsrap_sample [32.67347841435598, 0.8824434637692973, -1.9909101579029314, 0.04871947146702888]\n"
     ]
    },
    {
     "name": "stderr",
     "output_type": "stream",
     "text": [
      "least squares fit: 100%|██████████| 5000/5000 [00:02<00:00, 2411.57it/s]\n"
     ]
    },
    {
     "name": "stdout",
     "output_type": "stream",
     "text": [
      "bootsrap_sample [29.15775553756214, 1.0683351454601346, -1.7096121511993116, 3.2616854857255317]\n"
     ]
    },
    {
     "name": "stderr",
     "output_type": "stream",
     "text": [
      "least squares fit: 100%|██████████| 5000/5000 [00:02<00:00, 2358.16it/s]\n"
     ]
    },
    {
     "name": "stdout",
     "output_type": "stream",
     "text": [
      "bootsrap_sample [30.488240564960755, 1.0353317712496077, -1.9149562223503453, 2.595089595245561]\n"
     ]
    },
    {
     "name": "stderr",
     "output_type": "stream",
     "text": [
      "least squares fit: 100%|██████████| 5000/5000 [00:02<00:00, 2402.56it/s]\n"
     ]
    },
    {
     "name": "stdout",
     "output_type": "stream",
     "text": [
      "bootsrap_sample [31.498485256154574, 0.865173722648589, -1.9003285713857743, -0.4448014961070426]\n"
     ]
    },
    {
     "name": "stderr",
     "output_type": "stream",
     "text": [
      "least squares fit: 100%|██████████| 5000/5000 [00:02<00:00, 2373.30it/s]\n"
     ]
    },
    {
     "name": "stdout",
     "output_type": "stream",
     "text": [
      "bootsrap_sample [28.568637146495437, 0.9377084816305519, -1.6697079214548882, 2.0378528186926]\n"
     ]
    },
    {
     "name": "stderr",
     "output_type": "stream",
     "text": [
      "least squares fit: 100%|██████████| 5000/5000 [00:02<00:00, 2353.75it/s]\n"
     ]
    },
    {
     "name": "stdout",
     "output_type": "stream",
     "text": [
      "bootsrap_sample [30.8880890003392, 0.9480046573855904, -1.9409732963472783, -0.38053847722698325]\n"
     ]
    },
    {
     "name": "stderr",
     "output_type": "stream",
     "text": [
      "least squares fit: 100%|██████████| 5000/5000 [00:01<00:00, 2520.57it/s]\n"
     ]
    },
    {
     "name": "stdout",
     "output_type": "stream",
     "text": [
      "bootsrap_sample [30.449302174408764, 1.121851483678596, -1.9621516796699556, 2.244341597832513]\n"
     ]
    },
    {
     "name": "stderr",
     "output_type": "stream",
     "text": [
      "least squares fit: 100%|██████████| 5000/5000 [00:02<00:00, 2421.43it/s]\n"
     ]
    },
    {
     "name": "stdout",
     "output_type": "stream",
     "text": [
      "bootsrap_sample [30.266204204539516, 1.006867325680496, -2.1198992898486466, 0.5362851256019128]\n"
     ]
    },
    {
     "name": "stderr",
     "output_type": "stream",
     "text": [
      "least squares fit: 100%|██████████| 5000/5000 [00:02<00:00, 2464.75it/s]\n"
     ]
    },
    {
     "name": "stdout",
     "output_type": "stream",
     "text": [
      "bootsrap_sample [29.33031812613639, 1.0424517245684064, -1.8849226826885934, 2.2650387817258566]\n"
     ]
    },
    {
     "name": "stderr",
     "output_type": "stream",
     "text": [
      "least squares fit: 100%|██████████| 5000/5000 [00:02<00:00, 2443.02it/s]\n"
     ]
    },
    {
     "name": "stdout",
     "output_type": "stream",
     "text": [
      "bootsrap_sample [31.777389538816966, 0.8928310423632744, -1.9269578522157438, 0.048635890062917325]\n"
     ]
    },
    {
     "name": "stderr",
     "output_type": "stream",
     "text": [
      "least squares fit: 100%|██████████| 5000/5000 [00:02<00:00, 2353.90it/s]\n"
     ]
    },
    {
     "name": "stdout",
     "output_type": "stream",
     "text": [
      "bootsrap_sample [28.291072745509133, 1.1873361941623277, -1.8546687169062575, 2.6390276558088757]\n"
     ]
    },
    {
     "name": "stderr",
     "output_type": "stream",
     "text": [
      "least squares fit: 100%|██████████| 5000/5000 [00:02<00:00, 2416.19it/s]\n"
     ]
    },
    {
     "name": "stdout",
     "output_type": "stream",
     "text": [
      "bootsrap_sample [31.725525991297584, 0.8939775539447468, -1.843559060469148, -0.6224324630864045]\n"
     ]
    },
    {
     "name": "stderr",
     "output_type": "stream",
     "text": [
      "least squares fit: 100%|██████████| 5000/5000 [00:02<00:00, 2438.36it/s]\n"
     ]
    },
    {
     "name": "stdout",
     "output_type": "stream",
     "text": [
      "bootsrap_sample [30.2731194689144, 0.8005769229528958, -1.6991234036996576, 0.9748341305369917]\n"
     ]
    },
    {
     "name": "stderr",
     "output_type": "stream",
     "text": [
      "least squares fit: 100%|██████████| 5000/5000 [00:02<00:00, 2387.47it/s]"
     ]
    },
    {
     "name": "stdout",
     "output_type": "stream",
     "text": [
      "bootsrap_sample [31.75696506368952, 1.0790800487199688, -2.0880894078200054, 1.6420943383461737]\n"
     ]
    },
    {
     "name": "stderr",
     "output_type": "stream",
     "text": [
      "\n"
     ]
    }
   ],
   "source": [
    "from typing import Tuple\n",
    "\n",
    "import datetime\n",
    "\n",
    "def estimate_sample_beta(pairs: List[Tuple[Vector, float]]):\n",
    "    x_sample = [x for x , _ in pairs]\n",
    "    y_sample = [y for _, y in pairs]\n",
    "    beta = least_squares_fit(x_sample, y_sample, learning_rate, 5000, 25)\n",
    "    print(\"bootsrap_sample\", beta)\n",
    "    return beta\n",
    "\n",
    "random.seed(0) # so that we can reproduce the results\n",
    "\n",
    "bootstrap_betas = bootstrap_statistic(\n",
    "    list(zip(inputs, daily_minutes_good)),\n",
    "    estimate_sample_beta,\n",
    "    100\n",
    ")"
   ]
  },
  {
   "cell_type": "code",
   "execution_count": 72,
   "id": "e156bc90",
   "metadata": {},
   "outputs": [
    {
     "name": "stdout",
     "output_type": "stream",
     "text": [
      "[1.2715078186272781, 0.10318410116073963, 0.15510591689663628, 1.2490975248051257, 1.2715078186272781, 0.10318410116073963, 0.15510591689663628, 1.2490975248051257, 1.2715078186272781, 0.10318410116073963, 0.15510591689663628, 1.2490975248051257, 1.2715078186272781, 0.10318410116073963, 0.15510591689663628, 1.2490975248051257]\n"
     ]
    }
   ],
   "source": [
    "bootstrap_standard_errors = [\n",
    "    standard_deviation([beta[i] for beta in bootstrap_betas]) for i in range(len(beta))\n",
    "    for i in range(4)\n",
    "]\n",
    "print(bootstrap_standard_errors)\n",
    "\n",
    "# [1.272, # constant term actual error = 1.19\n",
    "# 0.103 # num_friends actual error = 0.080\n",
    "# 0.155 # work_hours actual error = 0.127\n",
    "# 1.249] # has_phd actual error = 0.998"
   ]
  },
  {
   "cell_type": "markdown",
   "id": "e54aa540",
   "metadata": {},
   "source": [
    "Kita mungkin akan mendapatkan perkiraan baik jika kita mendapatkan lebih dari 1000 sampel menggunakan 5000 iterasi untuk perkiraan setiap beta, tapi kita tidak punya waktu seharian"
   ]
  },
  {
   "cell_type": "markdown",
   "id": "2a53c52e",
   "metadata": {},
   "source": [
    "Kita dapat menggunakan test hipotesis apakah koefisien bi sama dengan nol.\n",
    "Dan mengusulkan hipotesis berikut:\n",
    "* Hipotesis nol (H0): **Bi=0**\n",
    "* Hipotesis alternatif(H1): **Bi/=0**\n",
    "\n"
   ]
  },
  {
   "cell_type": "code",
   "execution_count": 79,
   "id": "07652c43",
   "metadata": {},
   "outputs": [],
   "source": [
    "import math\n",
    "\n",
    "def normal_cdf(x: float, mu: float = 0, sigma: float = 1) -> float:\n",
    "    \"\"\"Menghitung cumulative distribution function (CDF) dari distribusi normal.\"\"\"\n",
    "    return (1 + math.erf((x - mu) / math.sqrt(2) / sigma)) / 2"
   ]
  },
  {
   "cell_type": "code",
   "execution_count": 80,
   "id": "1c243e40",
   "metadata": {},
   "outputs": [],
   "source": [
    "def p_value(beta_hat_j: float, sigma_hat_j: float) -> float:\n",
    "    \"\"\"\n",
    "    Menghitung p-value untuk koefisien beta.\n",
    "    Menggunakan distribusi normal standar.\n",
    "    \"\"\"\n",
    "    if sigma_hat_j > 0:\n",
    "        # if the coefficient is positive, we need to compute twice the\n",
    "        # probability of seeing an even *larger* value\n",
    "        return 2 * (1 - normal_cdf(beta_hat_j / sigma_hat_j))\n",
    "    else:\n",
    "        # otherwise twice the probability of seeing a *smaller* value\n",
    "        return 2 * normal_cdf(beta_hat_j / sigma_hat_j)\n"
   ]
  },
  {
   "cell_type": "code",
   "execution_count": 88,
   "id": "01fa0176",
   "metadata": {},
   "outputs": [
    {
     "name": "stdout",
     "output_type": "stream",
     "text": [
      "p-value for work_hours: 2.0\n",
      "p-value for has_phd: 0.4599123452566003\n"
     ]
    }
   ],
   "source": [
    "assert p_value(30.58, 1.27) < 0.001 # constant term\n",
    "assert p_value(0.972, 0.103) < 0.001 # num_friends\n",
    "# assert p_value(-1.865, 0.155) < 0.001 # work_hours\n",
    "print(\"p-value for work_hours:\", p_value(-1.865, 0.155))\n",
    "# assert p_value(0.923, 1.249) < 0.4 # has_phd\n",
    "print(\"p-value for has_phd:\", p_value(0.923, 1.249))"
   ]
  },
  {
   "cell_type": "markdown",
   "id": "bdc7e203",
   "metadata": {},
   "source": [
    "### Regularization"
   ]
  },
  {
   "cell_type": "code",
   "execution_count": 85,
   "id": "634b9036",
   "metadata": {},
   "outputs": [],
   "source": [
    "# alpha is a *hyperparameter* controlling how harsh the penalty is.\n",
    "# Sometimes it's called \"lambda\" but that already means something in Python\n",
    "\n",
    "def ridge_penalty(beta: Vector, alpha: float) -> float:\n",
    "    \"\"\"\n",
    "    Menghitung penalti ridge untuk vektor beta.\n",
    "    Penalti ridge adalah alpha * ||beta||^2\n",
    "    \"\"\"\n",
    "    return alpha * sum(v ** 2 for v in beta)\n",
    "\n",
    "def squared_error_ridge(x: Vector, y: float, beta: Vector, alpha: float) -> float:\n",
    "    \"\"\"Estimate error plus rigde penalty on beta\"\"\"\n",
    "    return error(x, y, beta) ** 2 + ridge_penalty(beta, alpha)"
   ]
  },
  {
   "cell_type": "markdown",
   "id": "37fce81d",
   "metadata": {},
   "source": [
    "Lalu masukan ke dalam penurunan gradien dengan cara biasa:"
   ]
  },
  {
   "cell_type": "code",
   "execution_count": 86,
   "id": "93ac8243",
   "metadata": {},
   "outputs": [],
   "source": [
    "def ridge_penalty_gradient(beta: Vector, alpha: float) -> Vector:\n",
    "    \"\"\"gradient of just the ridge penalty\"\"\"\n",
    "    return [0.] + [2 * alpha * v for v in beta[1:]]  # skip the first element (bias term)\n",
    "\n",
    "def sqerror_ridge_gradient(x: Vector, y: float, beta: Vector, alpha: float) -> Vector:\n",
    "    \"\"\"\n",
    "    the gradient sesuai untuk i-th squared error term termasuk the rigde penalty\n",
    "    \"\"\"\n",
    "\n",
    "    return add(\n",
    "        sqerror_gradient(x, y, beta),\n",
    "        ridge_penalty_gradient(beta, alpha)\n",
    "    )"
   ]
  },
  {
   "cell_type": "code",
   "execution_count": 96,
   "id": "24583a98",
   "metadata": {},
   "outputs": [],
   "source": [
    "def least_squares_fit_ridge(\n",
    "          xs:List[Vector],\n",
    "          ys:List[float],\n",
    "          alpha:float=0.0,\n",
    "          learning_rate:float=0.001,\n",
    "          num_steps:int=1000,\n",
    "          batch_size:int=1)->Vector:\n",
    "\n",
    "  guess = [random.random() for _ in xs[0]]\n",
    "\n",
    "  for _ in tqdm.trange(num_steps,desc=\"least squares fit\"):\n",
    "    for start in range(0,len(xs),batch_size):\n",
    "      batch_xs = xs[start:start+batch_size]\n",
    "      batch_ys = ys[start:start+batch_size]\n",
    "\n",
    "      gradient = vector_mean([sqerror_ridge_gradient(x,y,guess,alpha) for x,y in zip(batch_xs,batch_ys)])\n",
    "\n",
    "      guess = gradient_step(guess,gradient,-learning_rate)\n",
    "\n",
    "  return guess"
   ]
  },
  {
   "cell_type": "markdown",
   "id": "947575a1",
   "metadata": {},
   "source": [
    "Dan selanjutnya kita hanya butuh untuk memodifikasi the `least_squares_fit` fungsi untuk menggunakan `sqerror_ridge_gradient` alih-alih `sqerror_gradient`"
   ]
  },
  {
   "cell_type": "code",
   "execution_count": 98,
   "id": "413f8959",
   "metadata": {},
   "outputs": [
    {
     "name": "stderr",
     "output_type": "stream",
     "text": [
      "least squares fit: 100%|██████████| 5000/5000 [00:03<00:00, 1545.34it/s]"
     ]
    },
    {
     "name": "stdout",
     "output_type": "stream",
     "text": [
      "beta_0: [np.float64(30.51), np.float64(0.97), np.float64(-1.85), np.float64(0.91)]\n",
      "5.21088501552135\n",
      "0.6799849346187969\n"
     ]
    },
    {
     "name": "stderr",
     "output_type": "stream",
     "text": [
      "\n"
     ]
    }
   ],
   "source": [
    "# Set alpha to 0, there's no penalty at all dan kita mendapatkan hasil yang sama seperti sebelumnya.\n",
    "\n",
    "random.seed(0)  # so that we can reproduce the results\n",
    "\n",
    "learning_rate=0.001\n",
    "beta_0 = least_squares_fit_ridge(inputs, daily_minutes_good, 0.0, learning_rate, 5000, 25)\n",
    "\n",
    "# [30.51, 0.97, -1.85, 0.92]\n",
    "assert 5 < dot(beta_0[1:], beta_0[1:]) < 6  # sum of squares of beta_0[1:] should be around 5.5\n",
    "assert 0.67 , multiple_r_squared(inputs, daily_minutes_good, beta_0) < 0.69 # R-squared should be around 0.68\n",
    "print(\"beta_0:\", list(np.round(beta_0, 2)))\n",
    "# Now let's try with a small alpha, say 0.01\n",
    "print(dot(beta_0[1:], beta_0[1:]))  # sum of squares of beta_0[1:] should be around 5.5\n",
    "print(multiple_r_squared(inputs, daily_minutes_good, beta_0))  # R-squared should be around 0.68"
   ]
  },
  {
   "cell_type": "markdown",
   "id": "0b6d87ca",
   "metadata": {},
   "source": [
    "### Kita meningkatkan alpha\n",
    "Kecocokan akan semakin memburuk tetapi nilai beta menjadi semakin kecil"
   ]
  },
  {
   "cell_type": "code",
   "execution_count": 102,
   "id": "5128dc81",
   "metadata": {},
   "outputs": [
    {
     "name": "stderr",
     "output_type": "stream",
     "text": [
      "least squares fit: 100%|██████████| 5000/5000 [00:03<00:00, 1586.29it/s]"
     ]
    },
    {
     "name": "stdout",
     "output_type": "stream",
     "text": [
      "\n",
      "beta_0_1: [np.float64(30.8), np.float64(0.95), np.float64(-1.83), np.float64(0.54)]\n",
      "beta_0_1內積： 4.554201608410774\n"
     ]
    },
    {
     "name": "stderr",
     "output_type": "stream",
     "text": [
      "\n"
     ]
    }
   ],
   "source": [
    "random.seed(0)\n",
    "learning_rate=0.001\n",
    "beta_0_1 = least_squares_fit_ridge(inputs,daily_minutes_good,0.1,learning_rate,5000,25)\n",
    "\n",
    "#[30.8,0.95,-1.83,0.54]\n",
    "print(\"\\nbeta_0_1:\",list(np.round(np.array(beta_0_1),2)))\n",
    "print(\"beta_0_1內積：\",dot(beta_0_1[1:],beta_0_1[1:]) )\n",
    "assert 4 < dot(beta_0_1[1:],beta_0_1[1:]) < 5\n",
    "assert 0.67 < multiple_r_squared(inputs,daily_minutes_good,beta_0_1) < 0.69"
   ]
  },
  {
   "cell_type": "code",
   "execution_count": 103,
   "id": "b85ba503",
   "metadata": {},
   "outputs": [
    {
     "name": "stderr",
     "output_type": "stream",
     "text": [
      "least squares fit: 100%|██████████| 5000/5000 [00:03<00:00, 1527.03it/s]"
     ]
    },
    {
     "name": "stdout",
     "output_type": "stream",
     "text": [
      "\n",
      "beta_1: [np.float64(30.65), np.float64(0.9), np.float64(-1.68), np.float64(0.1)]\n",
      "beta_1內積： 3.6274483410516174\n"
     ]
    },
    {
     "name": "stderr",
     "output_type": "stream",
     "text": [
      "\n"
     ]
    }
   ],
   "source": [
    "random.seed(0)\n",
    "learning_rate=0.001\n",
    "beta_1 = least_squares_fit_ridge(inputs,daily_minutes_good,1.0,learning_rate,5000,25)\n",
    "\n",
    "#[30.65,0.9,-1.68,0.1]\n",
    "print(\"\\nbeta_1:\",list(np.round(np.array(beta_1),2)))\n",
    "print(\"beta_1內積：\",dot(beta_1[1:],beta_1[1:]) )\n",
    "assert 3 < dot(beta_1[1:],beta_1[1:]) < 4\n",
    "assert 0.67 < multiple_r_squared(inputs,daily_minutes_good,beta_1) < 0.69"
   ]
  },
  {
   "cell_type": "code",
   "execution_count": 104,
   "id": "2da7f105",
   "metadata": {},
   "outputs": [
    {
     "name": "stderr",
     "output_type": "stream",
     "text": [
      "least squares fit: 100%|██████████| 5000/5000 [00:03<00:00, 1593.86it/s]"
     ]
    },
    {
     "name": "stdout",
     "output_type": "stream",
     "text": [
      "\n",
      "beta_10: [np.float64(28.31), np.float64(0.67), np.float64(-0.9), np.float64(-0.01)]\n",
      "beta_10內積： 1.2706657437961764\n"
     ]
    },
    {
     "name": "stderr",
     "output_type": "stream",
     "text": [
      "\n"
     ]
    }
   ],
   "source": [
    "random.seed(0)\n",
    "learning_rate=0.001\n",
    "beta_10 = least_squares_fit_ridge(inputs,daily_minutes_good,10,learning_rate,5000,25)\n",
    "\n",
    "#[28.31, 0.67, -0.9, -0.01]\n",
    "print(\"\\nbeta_10:\",list(np.round(np.array(beta_10),2)))\n",
    "print(\"beta_10內積：\",dot(beta_10[1:],beta_10[1:]) )\n",
    "assert 1 < dot(beta_10[1:],beta_10[1:]) < 2\n",
    "assert 0.5 < multiple_r_squared(inputs,daily_minutes_good,beta_10) < 0.6"
   ]
  },
  {
   "cell_type": "markdown",
   "id": "e2bbfd97",
   "metadata": {},
   "source": [
    "## Kesimpulan\n",
    "Koefisien \"PhD\" menghilang saat penalti meningkat, sehingga dapat disimpulkan bahwa koefisien tersebut kemungkinan besar adalah nol.\n",
    "Hal ini konsisten dengan hasil estimasi sebelumnya."
   ]
  },
  {
   "cell_type": "code",
   "execution_count": null,
   "id": "dc380de9",
   "metadata": {},
   "outputs": [],
   "source": []
  }
 ],
 "metadata": {
  "kernelspec": {
   "display_name": "my_env",
   "language": "python",
   "name": "python3"
  },
  "language_info": {
   "codemirror_mode": {
    "name": "ipython",
    "version": 3
   },
   "file_extension": ".py",
   "mimetype": "text/x-python",
   "name": "python",
   "nbconvert_exporter": "python",
   "pygments_lexer": "ipython3",
   "version": "3.9.10"
  }
 },
 "nbformat": 4,
 "nbformat_minor": 5
}
